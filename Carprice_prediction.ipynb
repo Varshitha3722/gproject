{
 "cells": [
  {
   "cell_type": "markdown",
   "id": "1dd5ee4b",
   "metadata": {
    "id": "1dd5ee4b"
   },
   "source": [
    "# Car Price Prediction\n",
    "This project To provide a model that can be provide a used car’s price using machine learning.\n",
    "With this model,car buyers will determine a particular used car’s responsible price given certain conditions\n",
    "In this sense,pepoles are less likely to buy an overpriced car.Meanwhile ,a reasonable price can also be beneficial for sellers.\n",
    "both sellers and buyers can save much time and effort selling or searching second hand cars in market\n"
   ]
  },
  {
   "cell_type": "markdown",
   "id": "3c850946",
   "metadata": {
    "id": "3c850946"
   },
   "source": [
    "# The Attributess include:\n",
    "Name:name of the car\n",
    "\n",
    "Year:year of the car\n",
    "\n",
    "Selling_price:Price of the car\n",
    "\n",
    "km_driven: km driven by the car\n",
    "\n",
    "Fuel:fuel type of the car [Diesel,Petrol,CNG,LPG]\n",
    "\n",
    "Seller_type:selleing type of the car[Individual,Dealer,Trust Dealer]\n",
    "\n",
    "Transmission:transmission of the car [Manual,Automatic]\n",
    "\n",
    "Owner:owner of the car [First Owner,Second Owner,Third Owner,Fourth & Above Owner]\n",
    "\n",
    "Mileage:mileage of the car\n",
    "\n",
    "Engine:engine type of the car\n",
    "\n",
    "max_power:maximum power of the car\n",
    "\n",
    "Torque:torgue of the car\n",
    "\n",
    "Seats:how many seats have that car\n",
    "\n"
   ]
  },
  {
   "cell_type": "markdown",
   "id": "c6359e5f",
   "metadata": {
    "id": "c6359e5f"
   },
   "source": [
    "# Importing Necessary Libraries"
   ]
  },
  {
   "cell_type": "code",
   "execution_count": 4,
   "id": "84fe07a0",
   "metadata": {
    "id": "84fe07a0"
   },
   "outputs": [],
   "source": [
    "import pandas as pd\n",
    "import numpy as np\n",
    "import matplotlib.pyplot as plt\n",
    "import seaborn as sns\n",
    "from sklearn.model_selection import train_test_split\n",
    "from sklearn.linear_model import LinearRegression\n",
    "from sklearn.preprocessing import StandardScaler"
   ]
  },
  {
   "cell_type": "code",
   "execution_count": 5,
   "id": "761c377c",
   "metadata": {
    "id": "761c377c"
   },
   "outputs": [],
   "source": [
    "#Loding the data\n",
    "\n",
    "car_dataset=pd.read_csv('C:/Users/DELL LYF/Documents/Downloads/Car details v3.csv')"
   ]
  },
  {
   "cell_type": "code",
   "execution_count": 6,
   "id": "be123f24",
   "metadata": {
    "colab": {
     "base_uri": "https://localhost:8080/",
     "height": 206
    },
    "id": "be123f24",
    "outputId": "a3804bbd-8e94-489a-f2af-46e43a7d62d0"
   },
   "outputs": [
    {
     "data": {
      "text/html": [
       "<div>\n",
       "<style scoped>\n",
       "    .dataframe tbody tr th:only-of-type {\n",
       "        vertical-align: middle;\n",
       "    }\n",
       "\n",
       "    .dataframe tbody tr th {\n",
       "        vertical-align: top;\n",
       "    }\n",
       "\n",
       "    .dataframe thead th {\n",
       "        text-align: right;\n",
       "    }\n",
       "</style>\n",
       "<table border=\"1\" class=\"dataframe\">\n",
       "  <thead>\n",
       "    <tr style=\"text-align: right;\">\n",
       "      <th></th>\n",
       "      <th>name</th>\n",
       "      <th>year</th>\n",
       "      <th>selling_price</th>\n",
       "      <th>km_driven</th>\n",
       "      <th>fuel</th>\n",
       "      <th>seller_type</th>\n",
       "      <th>transmission</th>\n",
       "      <th>owner</th>\n",
       "      <th>mileage</th>\n",
       "      <th>engine</th>\n",
       "      <th>max_power</th>\n",
       "      <th>torque</th>\n",
       "      <th>seats</th>\n",
       "    </tr>\n",
       "  </thead>\n",
       "  <tbody>\n",
       "    <tr>\n",
       "      <th>0</th>\n",
       "      <td>Maruti Swift Dzire VDI</td>\n",
       "      <td>2014</td>\n",
       "      <td>450000</td>\n",
       "      <td>145500</td>\n",
       "      <td>Diesel</td>\n",
       "      <td>Individual</td>\n",
       "      <td>Manual</td>\n",
       "      <td>First Owner</td>\n",
       "      <td>23.4 kmpl</td>\n",
       "      <td>1248 CC</td>\n",
       "      <td>74 bhp</td>\n",
       "      <td>190Nm@ 2000rpm</td>\n",
       "      <td>5.0</td>\n",
       "    </tr>\n",
       "    <tr>\n",
       "      <th>1</th>\n",
       "      <td>Skoda Rapid 1.5 TDI Ambition</td>\n",
       "      <td>2014</td>\n",
       "      <td>370000</td>\n",
       "      <td>120000</td>\n",
       "      <td>Diesel</td>\n",
       "      <td>Individual</td>\n",
       "      <td>Manual</td>\n",
       "      <td>Second Owner</td>\n",
       "      <td>21.14 kmpl</td>\n",
       "      <td>1498 CC</td>\n",
       "      <td>103.52 bhp</td>\n",
       "      <td>250Nm@ 1500-2500rpm</td>\n",
       "      <td>5.0</td>\n",
       "    </tr>\n",
       "    <tr>\n",
       "      <th>2</th>\n",
       "      <td>Honda City 2017-2020 EXi</td>\n",
       "      <td>2006</td>\n",
       "      <td>158000</td>\n",
       "      <td>140000</td>\n",
       "      <td>Petrol</td>\n",
       "      <td>Individual</td>\n",
       "      <td>Manual</td>\n",
       "      <td>Third Owner</td>\n",
       "      <td>17.7 kmpl</td>\n",
       "      <td>1497 CC</td>\n",
       "      <td>78 bhp</td>\n",
       "      <td>12.7@ 2,700(kgm@ rpm)</td>\n",
       "      <td>5.0</td>\n",
       "    </tr>\n",
       "    <tr>\n",
       "      <th>3</th>\n",
       "      <td>Hyundai i20 Sportz Diesel</td>\n",
       "      <td>2010</td>\n",
       "      <td>225000</td>\n",
       "      <td>127000</td>\n",
       "      <td>Diesel</td>\n",
       "      <td>Individual</td>\n",
       "      <td>Manual</td>\n",
       "      <td>First Owner</td>\n",
       "      <td>23.0 kmpl</td>\n",
       "      <td>1396 CC</td>\n",
       "      <td>90 bhp</td>\n",
       "      <td>22.4 kgm at 1750-2750rpm</td>\n",
       "      <td>5.0</td>\n",
       "    </tr>\n",
       "    <tr>\n",
       "      <th>4</th>\n",
       "      <td>Maruti Swift VXI BSIII</td>\n",
       "      <td>2007</td>\n",
       "      <td>130000</td>\n",
       "      <td>120000</td>\n",
       "      <td>Petrol</td>\n",
       "      <td>Individual</td>\n",
       "      <td>Manual</td>\n",
       "      <td>First Owner</td>\n",
       "      <td>16.1 kmpl</td>\n",
       "      <td>1298 CC</td>\n",
       "      <td>88.2 bhp</td>\n",
       "      <td>11.5@ 4,500(kgm@ rpm)</td>\n",
       "      <td>5.0</td>\n",
       "    </tr>\n",
       "  </tbody>\n",
       "</table>\n",
       "</div>"
      ],
      "text/plain": [
       "                           name  year  selling_price  km_driven    fuel  \\\n",
       "0        Maruti Swift Dzire VDI  2014         450000     145500  Diesel   \n",
       "1  Skoda Rapid 1.5 TDI Ambition  2014         370000     120000  Diesel   \n",
       "2      Honda City 2017-2020 EXi  2006         158000     140000  Petrol   \n",
       "3     Hyundai i20 Sportz Diesel  2010         225000     127000  Diesel   \n",
       "4        Maruti Swift VXI BSIII  2007         130000     120000  Petrol   \n",
       "\n",
       "  seller_type transmission         owner     mileage   engine   max_power  \\\n",
       "0  Individual       Manual   First Owner   23.4 kmpl  1248 CC      74 bhp   \n",
       "1  Individual       Manual  Second Owner  21.14 kmpl  1498 CC  103.52 bhp   \n",
       "2  Individual       Manual   Third Owner   17.7 kmpl  1497 CC      78 bhp   \n",
       "3  Individual       Manual   First Owner   23.0 kmpl  1396 CC      90 bhp   \n",
       "4  Individual       Manual   First Owner   16.1 kmpl  1298 CC    88.2 bhp   \n",
       "\n",
       "                     torque  seats  \n",
       "0            190Nm@ 2000rpm    5.0  \n",
       "1       250Nm@ 1500-2500rpm    5.0  \n",
       "2     12.7@ 2,700(kgm@ rpm)    5.0  \n",
       "3  22.4 kgm at 1750-2750rpm    5.0  \n",
       "4     11.5@ 4,500(kgm@ rpm)    5.0  "
      ]
     },
     "execution_count": 6,
     "metadata": {},
     "output_type": "execute_result"
    }
   ],
   "source": [
    "#inspecting the first 5 rows\n",
    "\n",
    "car_dataset.head()"
   ]
  },
  {
   "cell_type": "code",
   "execution_count": 7,
   "id": "5a71ee3e",
   "metadata": {
    "colab": {
     "base_uri": "https://localhost:8080/",
     "height": 206
    },
    "id": "5a71ee3e",
    "outputId": "f51211ba-392c-49ef-f0fc-49008cd55594"
   },
   "outputs": [
    {
     "data": {
      "text/html": [
       "<div>\n",
       "<style scoped>\n",
       "    .dataframe tbody tr th:only-of-type {\n",
       "        vertical-align: middle;\n",
       "    }\n",
       "\n",
       "    .dataframe tbody tr th {\n",
       "        vertical-align: top;\n",
       "    }\n",
       "\n",
       "    .dataframe thead th {\n",
       "        text-align: right;\n",
       "    }\n",
       "</style>\n",
       "<table border=\"1\" class=\"dataframe\">\n",
       "  <thead>\n",
       "    <tr style=\"text-align: right;\">\n",
       "      <th></th>\n",
       "      <th>name</th>\n",
       "      <th>year</th>\n",
       "      <th>selling_price</th>\n",
       "      <th>km_driven</th>\n",
       "      <th>fuel</th>\n",
       "      <th>seller_type</th>\n",
       "      <th>transmission</th>\n",
       "      <th>owner</th>\n",
       "      <th>mileage</th>\n",
       "      <th>engine</th>\n",
       "      <th>max_power</th>\n",
       "      <th>torque</th>\n",
       "      <th>seats</th>\n",
       "    </tr>\n",
       "  </thead>\n",
       "  <tbody>\n",
       "    <tr>\n",
       "      <th>8123</th>\n",
       "      <td>Hyundai i20 Magna</td>\n",
       "      <td>2013</td>\n",
       "      <td>320000</td>\n",
       "      <td>110000</td>\n",
       "      <td>Petrol</td>\n",
       "      <td>Individual</td>\n",
       "      <td>Manual</td>\n",
       "      <td>First Owner</td>\n",
       "      <td>18.5 kmpl</td>\n",
       "      <td>1197 CC</td>\n",
       "      <td>82.85 bhp</td>\n",
       "      <td>113.7Nm@ 4000rpm</td>\n",
       "      <td>5.0</td>\n",
       "    </tr>\n",
       "    <tr>\n",
       "      <th>8124</th>\n",
       "      <td>Hyundai Verna CRDi SX</td>\n",
       "      <td>2007</td>\n",
       "      <td>135000</td>\n",
       "      <td>119000</td>\n",
       "      <td>Diesel</td>\n",
       "      <td>Individual</td>\n",
       "      <td>Manual</td>\n",
       "      <td>Fourth &amp; Above Owner</td>\n",
       "      <td>16.8 kmpl</td>\n",
       "      <td>1493 CC</td>\n",
       "      <td>110 bhp</td>\n",
       "      <td>24@ 1,900-2,750(kgm@ rpm)</td>\n",
       "      <td>5.0</td>\n",
       "    </tr>\n",
       "    <tr>\n",
       "      <th>8125</th>\n",
       "      <td>Maruti Swift Dzire ZDi</td>\n",
       "      <td>2009</td>\n",
       "      <td>382000</td>\n",
       "      <td>120000</td>\n",
       "      <td>Diesel</td>\n",
       "      <td>Individual</td>\n",
       "      <td>Manual</td>\n",
       "      <td>First Owner</td>\n",
       "      <td>19.3 kmpl</td>\n",
       "      <td>1248 CC</td>\n",
       "      <td>73.9 bhp</td>\n",
       "      <td>190Nm@ 2000rpm</td>\n",
       "      <td>5.0</td>\n",
       "    </tr>\n",
       "    <tr>\n",
       "      <th>8126</th>\n",
       "      <td>Tata Indigo CR4</td>\n",
       "      <td>2013</td>\n",
       "      <td>290000</td>\n",
       "      <td>25000</td>\n",
       "      <td>Diesel</td>\n",
       "      <td>Individual</td>\n",
       "      <td>Manual</td>\n",
       "      <td>First Owner</td>\n",
       "      <td>23.57 kmpl</td>\n",
       "      <td>1396 CC</td>\n",
       "      <td>70 bhp</td>\n",
       "      <td>140Nm@ 1800-3000rpm</td>\n",
       "      <td>5.0</td>\n",
       "    </tr>\n",
       "    <tr>\n",
       "      <th>8127</th>\n",
       "      <td>Tata Indigo CR4</td>\n",
       "      <td>2013</td>\n",
       "      <td>290000</td>\n",
       "      <td>25000</td>\n",
       "      <td>Diesel</td>\n",
       "      <td>Individual</td>\n",
       "      <td>Manual</td>\n",
       "      <td>First Owner</td>\n",
       "      <td>23.57 kmpl</td>\n",
       "      <td>1396 CC</td>\n",
       "      <td>70 bhp</td>\n",
       "      <td>140Nm@ 1800-3000rpm</td>\n",
       "      <td>5.0</td>\n",
       "    </tr>\n",
       "  </tbody>\n",
       "</table>\n",
       "</div>"
      ],
      "text/plain": [
       "                        name  year  selling_price  km_driven    fuel  \\\n",
       "8123       Hyundai i20 Magna  2013         320000     110000  Petrol   \n",
       "8124   Hyundai Verna CRDi SX  2007         135000     119000  Diesel   \n",
       "8125  Maruti Swift Dzire ZDi  2009         382000     120000  Diesel   \n",
       "8126         Tata Indigo CR4  2013         290000      25000  Diesel   \n",
       "8127         Tata Indigo CR4  2013         290000      25000  Diesel   \n",
       "\n",
       "     seller_type transmission                 owner     mileage   engine  \\\n",
       "8123  Individual       Manual           First Owner   18.5 kmpl  1197 CC   \n",
       "8124  Individual       Manual  Fourth & Above Owner   16.8 kmpl  1493 CC   \n",
       "8125  Individual       Manual           First Owner   19.3 kmpl  1248 CC   \n",
       "8126  Individual       Manual           First Owner  23.57 kmpl  1396 CC   \n",
       "8127  Individual       Manual           First Owner  23.57 kmpl  1396 CC   \n",
       "\n",
       "      max_power                     torque  seats  \n",
       "8123  82.85 bhp           113.7Nm@ 4000rpm    5.0  \n",
       "8124    110 bhp  24@ 1,900-2,750(kgm@ rpm)    5.0  \n",
       "8125   73.9 bhp             190Nm@ 2000rpm    5.0  \n",
       "8126     70 bhp        140Nm@ 1800-3000rpm    5.0  \n",
       "8127     70 bhp        140Nm@ 1800-3000rpm    5.0  "
      ]
     },
     "execution_count": 7,
     "metadata": {},
     "output_type": "execute_result"
    }
   ],
   "source": [
    "#inspecting the last 5 rows\n",
    "\n",
    "car_dataset.tail()"
   ]
  },
  {
   "cell_type": "code",
   "execution_count": 8,
   "id": "948950bb",
   "metadata": {
    "colab": {
     "base_uri": "https://localhost:8080/"
    },
    "id": "948950bb",
    "outputId": "a66c65d4-ca24-4a56-895a-d35e97ea250c"
   },
   "outputs": [
    {
     "data": {
      "text/plain": [
       "(8128, 13)"
      ]
     },
     "execution_count": 8,
     "metadata": {},
     "output_type": "execute_result"
    }
   ],
   "source": [
    "#checking the number of rows and columns\n",
    "\n",
    "car_dataset.shape"
   ]
  },
  {
   "cell_type": "code",
   "execution_count": 9,
   "id": "1ae9e4dc",
   "metadata": {
    "colab": {
     "base_uri": "https://localhost:8080/"
    },
    "id": "1ae9e4dc",
    "outputId": "d8a20f70-1041-4d55-dcba-146179177545"
   },
   "outputs": [
    {
     "name": "stdout",
     "output_type": "stream",
     "text": [
      "<class 'pandas.core.frame.DataFrame'>\n",
      "RangeIndex: 8128 entries, 0 to 8127\n",
      "Data columns (total 13 columns):\n",
      " #   Column         Non-Null Count  Dtype  \n",
      "---  ------         --------------  -----  \n",
      " 0   name           8128 non-null   object \n",
      " 1   year           8128 non-null   int64  \n",
      " 2   selling_price  8128 non-null   int64  \n",
      " 3   km_driven      8128 non-null   int64  \n",
      " 4   fuel           8128 non-null   object \n",
      " 5   seller_type    8128 non-null   object \n",
      " 6   transmission   8128 non-null   object \n",
      " 7   owner          8128 non-null   object \n",
      " 8   mileage        7907 non-null   object \n",
      " 9   engine         7907 non-null   object \n",
      " 10  max_power      7913 non-null   object \n",
      " 11  torque         7906 non-null   object \n",
      " 12  seats          7907 non-null   float64\n",
      "dtypes: float64(1), int64(3), object(9)\n",
      "memory usage: 825.6+ KB\n"
     ]
    }
   ],
   "source": [
    "#getting some information about the data set\n",
    "\n",
    "car_dataset.info()"
   ]
  },
  {
   "cell_type": "code",
   "execution_count": 10,
   "id": "957f09d5",
   "metadata": {
    "colab": {
     "base_uri": "https://localhost:8080/"
    },
    "id": "957f09d5",
    "outputId": "f4413295-b727-413b-80ca-94c40bd4eb3f"
   },
   "outputs": [
    {
     "data": {
      "text/plain": [
       "name               0\n",
       "year               0\n",
       "selling_price      0\n",
       "km_driven          0\n",
       "fuel               0\n",
       "seller_type        0\n",
       "transmission       0\n",
       "owner              0\n",
       "mileage          221\n",
       "engine           221\n",
       "max_power        215\n",
       "torque           222\n",
       "seats            221\n",
       "dtype: int64"
      ]
     },
     "execution_count": 10,
     "metadata": {},
     "output_type": "execute_result"
    }
   ],
   "source": [
    "#checking the number of missing values\n",
    "\n",
    "car_dataset.isnull().sum()"
   ]
  },
  {
   "cell_type": "code",
   "execution_count": 11,
   "id": "1c29d793",
   "metadata": {
    "colab": {
     "base_uri": "https://localhost:8080/",
     "height": 300
    },
    "id": "1c29d793",
    "outputId": "5859cced-ec1a-49cf-eae8-9650dd0356d8"
   },
   "outputs": [
    {
     "data": {
      "text/html": [
       "<div>\n",
       "<style scoped>\n",
       "    .dataframe tbody tr th:only-of-type {\n",
       "        vertical-align: middle;\n",
       "    }\n",
       "\n",
       "    .dataframe tbody tr th {\n",
       "        vertical-align: top;\n",
       "    }\n",
       "\n",
       "    .dataframe thead th {\n",
       "        text-align: right;\n",
       "    }\n",
       "</style>\n",
       "<table border=\"1\" class=\"dataframe\">\n",
       "  <thead>\n",
       "    <tr style=\"text-align: right;\">\n",
       "      <th></th>\n",
       "      <th>year</th>\n",
       "      <th>selling_price</th>\n",
       "      <th>km_driven</th>\n",
       "      <th>seats</th>\n",
       "    </tr>\n",
       "  </thead>\n",
       "  <tbody>\n",
       "    <tr>\n",
       "      <th>count</th>\n",
       "      <td>8128.000000</td>\n",
       "      <td>8.128000e+03</td>\n",
       "      <td>8.128000e+03</td>\n",
       "      <td>7907.000000</td>\n",
       "    </tr>\n",
       "    <tr>\n",
       "      <th>mean</th>\n",
       "      <td>2013.804011</td>\n",
       "      <td>6.382718e+05</td>\n",
       "      <td>6.981951e+04</td>\n",
       "      <td>5.416719</td>\n",
       "    </tr>\n",
       "    <tr>\n",
       "      <th>std</th>\n",
       "      <td>4.044249</td>\n",
       "      <td>8.062534e+05</td>\n",
       "      <td>5.655055e+04</td>\n",
       "      <td>0.959588</td>\n",
       "    </tr>\n",
       "    <tr>\n",
       "      <th>min</th>\n",
       "      <td>1983.000000</td>\n",
       "      <td>2.999900e+04</td>\n",
       "      <td>1.000000e+00</td>\n",
       "      <td>2.000000</td>\n",
       "    </tr>\n",
       "    <tr>\n",
       "      <th>25%</th>\n",
       "      <td>2011.000000</td>\n",
       "      <td>2.549990e+05</td>\n",
       "      <td>3.500000e+04</td>\n",
       "      <td>5.000000</td>\n",
       "    </tr>\n",
       "    <tr>\n",
       "      <th>50%</th>\n",
       "      <td>2015.000000</td>\n",
       "      <td>4.500000e+05</td>\n",
       "      <td>6.000000e+04</td>\n",
       "      <td>5.000000</td>\n",
       "    </tr>\n",
       "    <tr>\n",
       "      <th>75%</th>\n",
       "      <td>2017.000000</td>\n",
       "      <td>6.750000e+05</td>\n",
       "      <td>9.800000e+04</td>\n",
       "      <td>5.000000</td>\n",
       "    </tr>\n",
       "    <tr>\n",
       "      <th>max</th>\n",
       "      <td>2020.000000</td>\n",
       "      <td>1.000000e+07</td>\n",
       "      <td>2.360457e+06</td>\n",
       "      <td>14.000000</td>\n",
       "    </tr>\n",
       "  </tbody>\n",
       "</table>\n",
       "</div>"
      ],
      "text/plain": [
       "              year  selling_price     km_driven        seats\n",
       "count  8128.000000   8.128000e+03  8.128000e+03  7907.000000\n",
       "mean   2013.804011   6.382718e+05  6.981951e+04     5.416719\n",
       "std       4.044249   8.062534e+05  5.655055e+04     0.959588\n",
       "min    1983.000000   2.999900e+04  1.000000e+00     2.000000\n",
       "25%    2011.000000   2.549990e+05  3.500000e+04     5.000000\n",
       "50%    2015.000000   4.500000e+05  6.000000e+04     5.000000\n",
       "75%    2017.000000   6.750000e+05  9.800000e+04     5.000000\n",
       "max    2020.000000   1.000000e+07  2.360457e+06    14.000000"
      ]
     },
     "execution_count": 11,
     "metadata": {},
     "output_type": "execute_result"
    }
   ],
   "source": [
    "\n",
    "#describing the dataset\n",
    "\n",
    "car_dataset.describe()"
   ]
  },
  {
   "cell_type": "markdown",
   "id": "c99e8c1b",
   "metadata": {
    "id": "c99e8c1b"
   },
   "source": [
    "\n",
    "# Data Preprocessing"
   ]
  },
  {
   "cell_type": "code",
   "execution_count": 12,
   "id": "e2f3ec43",
   "metadata": {
    "colab": {
     "base_uri": "https://localhost:8080/"
    },
    "id": "e2f3ec43",
    "outputId": "9a35b8fe-1509-4be5-eb6a-0a65f25dc2b2"
   },
   "outputs": [
    {
     "data": {
      "text/plain": [
       "name              object\n",
       "year               int64\n",
       "selling_price      int64\n",
       "km_driven          int64\n",
       "fuel              object\n",
       "seller_type       object\n",
       "transmission      object\n",
       "owner             object\n",
       "mileage           object\n",
       "engine            object\n",
       "max_power         object\n",
       "torque            object\n",
       "seats            float64\n",
       "dtype: object"
      ]
     },
     "execution_count": 12,
     "metadata": {},
     "output_type": "execute_result"
    }
   ],
   "source": [
    "car_dataset.dtypes"
   ]
  },
  {
   "cell_type": "code",
   "execution_count": 13,
   "id": "1b309b0d",
   "metadata": {
    "colab": {
     "base_uri": "https://localhost:8080/"
    },
    "id": "1b309b0d",
    "outputId": "c1b1a16b-6618-421f-bc01-926d8d9ceb60"
   },
   "outputs": [
    {
     "data": {
      "text/plain": [
       "name               0\n",
       "year               0\n",
       "selling_price      0\n",
       "km_driven          0\n",
       "fuel               0\n",
       "seller_type        0\n",
       "transmission       0\n",
       "owner              0\n",
       "mileage          221\n",
       "engine           221\n",
       "max_power        215\n",
       "torque           222\n",
       "seats            221\n",
       "dtype: int64"
      ]
     },
     "execution_count": 13,
     "metadata": {},
     "output_type": "execute_result"
    }
   ],
   "source": [
    "\n",
    "car_dataset.isnull().sum()"
   ]
  },
  {
   "cell_type": "code",
   "execution_count": 14,
   "id": "41c26487",
   "metadata": {
    "id": "41c26487"
   },
   "outputs": [],
   "source": [
    "#droping some columns\n",
    "\n",
    "car_dataset = car_dataset.drop_duplicates(['mileage', 'engine', 'max_power', 'torque', 'seats'])\n"
   ]
  },
  {
   "cell_type": "code",
   "execution_count": 15,
   "id": "8d9d66a7",
   "metadata": {
    "id": "8d9d66a7"
   },
   "outputs": [],
   "source": [
    "#replacing the missing values\n",
    "\n",
    "mileage=car_dataset['mileage'].mode().values[0]"
   ]
  },
  {
   "cell_type": "code",
   "execution_count": 16,
   "id": "942644ce",
   "metadata": {
    "colab": {
     "base_uri": "https://localhost:8080/",
     "height": 36
    },
    "id": "942644ce",
    "outputId": "9c8f3d6e-0655-407f-fadf-a2da0bbb550f"
   },
   "outputs": [
    {
     "data": {
      "text/plain": [
       "'17.0 kmpl'"
      ]
     },
     "execution_count": 16,
     "metadata": {},
     "output_type": "execute_result"
    }
   ],
   "source": [
    "mileage"
   ]
  },
  {
   "cell_type": "code",
   "execution_count": 17,
   "id": "07f784ba",
   "metadata": {
    "colab": {
     "base_uri": "https://localhost:8080/"
    },
    "id": "07f784ba",
    "outputId": "17ee1bde-a734-4abb-b8ec-784c2ab806a9"
   },
   "outputs": [],
   "source": [
    "car_dataset['mileage'].fillna('mileage',inplace=True)"
   ]
  },
  {
   "cell_type": "code",
   "execution_count": 18,
   "id": "de2cfce6",
   "metadata": {
    "id": "de2cfce6"
   },
   "outputs": [],
   "source": [
    "engine=car_dataset['engine'].mode().values[0]"
   ]
  },
  {
   "cell_type": "code",
   "execution_count": 19,
   "id": "3b080cbd",
   "metadata": {
    "colab": {
     "base_uri": "https://localhost:8080/",
     "height": 36
    },
    "id": "3b080cbd",
    "outputId": "dc504cad-4fad-4585-b306-43c461889787"
   },
   "outputs": [
    {
     "data": {
      "text/plain": [
       "'1248 CC'"
      ]
     },
     "execution_count": 19,
     "metadata": {},
     "output_type": "execute_result"
    }
   ],
   "source": [
    "engine"
   ]
  },
  {
   "cell_type": "code",
   "execution_count": 20,
   "id": "47196396",
   "metadata": {
    "colab": {
     "base_uri": "https://localhost:8080/"
    },
    "id": "47196396",
    "outputId": "72cf90ce-eb76-4391-ae5b-c7f784160dd8"
   },
   "outputs": [],
   "source": [
    "car_dataset['engine'].fillna('engine',inplace=True)"
   ]
  },
  {
   "cell_type": "code",
   "execution_count": 21,
   "id": "2a1630b2",
   "metadata": {
    "id": "2a1630b2"
   },
   "outputs": [],
   "source": [
    "max_power=car_dataset['max_power'].mode().values[0]"
   ]
  },
  {
   "cell_type": "code",
   "execution_count": 22,
   "id": "24ba855f",
   "metadata": {
    "colab": {
     "base_uri": "https://localhost:8080/",
     "height": 36
    },
    "id": "24ba855f",
    "outputId": "067db221-8a6b-4d73-a525-0a1b36d03d50"
   },
   "outputs": [
    {
     "data": {
      "text/plain": [
       "'75 bhp'"
      ]
     },
     "execution_count": 22,
     "metadata": {},
     "output_type": "execute_result"
    }
   ],
   "source": [
    "max_power"
   ]
  },
  {
   "cell_type": "code",
   "execution_count": 23,
   "id": "b2234e53",
   "metadata": {
    "colab": {
     "base_uri": "https://localhost:8080/"
    },
    "id": "b2234e53",
    "outputId": "88533f08-4044-4294-f339-e9b806ffcfdf"
   },
   "outputs": [],
   "source": [
    "car_dataset['max_power'].fillna('max_power',inplace=True)"
   ]
  },
  {
   "cell_type": "code",
   "execution_count": 24,
   "id": "851e3104",
   "metadata": {
    "id": "851e3104"
   },
   "outputs": [],
   "source": [
    "torque=car_dataset['torque'].mode().values[0]"
   ]
  },
  {
   "cell_type": "code",
   "execution_count": 25,
   "id": "e450240e",
   "metadata": {
    "colab": {
     "base_uri": "https://localhost:8080/",
     "height": 36
    },
    "id": "e450240e",
    "outputId": "df2018ee-3522-4805-a253-e6aa1bfef0f2"
   },
   "outputs": [
    {
     "data": {
      "text/plain": [
       "'200Nm@ 1750rpm'"
      ]
     },
     "execution_count": 25,
     "metadata": {},
     "output_type": "execute_result"
    }
   ],
   "source": [
    "torque"
   ]
  },
  {
   "cell_type": "code",
   "execution_count": 26,
   "id": "635e74ba",
   "metadata": {
    "colab": {
     "base_uri": "https://localhost:8080/"
    },
    "id": "635e74ba",
    "outputId": "160e5c18-6645-4dc4-d949-c76f8d954180"
   },
   "outputs": [],
   "source": [
    "car_dataset['torque'].fillna('torque',inplace=True)"
   ]
  },
  {
   "cell_type": "code",
   "execution_count": 27,
   "id": "c17495cb",
   "metadata": {
    "id": "c17495cb"
   },
   "outputs": [],
   "source": [
    "seats=car_dataset['seats'].mode().values[0]"
   ]
  },
  {
   "cell_type": "code",
   "execution_count": 28,
   "id": "c9152694",
   "metadata": {
    "colab": {
     "base_uri": "https://localhost:8080/"
    },
    "id": "c9152694",
    "outputId": "3339a39d-e8cb-4922-fe77-ad4dfdc8dc20"
   },
   "outputs": [
    {
     "data": {
      "text/plain": [
       "5.0"
      ]
     },
     "execution_count": 28,
     "metadata": {},
     "output_type": "execute_result"
    }
   ],
   "source": [
    "seats"
   ]
  },
  {
   "cell_type": "code",
   "execution_count": 29,
   "id": "7b3c769c",
   "metadata": {
    "colab": {
     "base_uri": "https://localhost:8080/"
    },
    "id": "7b3c769c",
    "outputId": "9987417e-1f9f-4d83-e058-23341a390f2a"
   },
   "outputs": [],
   "source": [
    "car_dataset['seats'].fillna('seats',inplace=True)"
   ]
  },
  {
   "cell_type": "code",
   "execution_count": 30,
   "id": "66e6c29f",
   "metadata": {
    "colab": {
     "base_uri": "https://localhost:8080/"
    },
    "id": "66e6c29f",
    "outputId": "a68060f6-8c22-45ff-a324-60641ea0c801"
   },
   "outputs": [
    {
     "data": {
      "text/plain": [
       "name             0\n",
       "year             0\n",
       "selling_price    0\n",
       "km_driven        0\n",
       "fuel             0\n",
       "seller_type      0\n",
       "transmission     0\n",
       "owner            0\n",
       "mileage          0\n",
       "engine           0\n",
       "max_power        0\n",
       "torque           0\n",
       "seats            0\n",
       "dtype: int64"
      ]
     },
     "execution_count": 30,
     "metadata": {},
     "output_type": "execute_result"
    }
   ],
   "source": [
    "car_dataset.isnull().sum()"
   ]
  },
  {
   "cell_type": "code",
   "execution_count": 31,
   "id": "21bbd804",
   "metadata": {
    "colab": {
     "base_uri": "https://localhost:8080/"
    },
    "id": "21bbd804",
    "outputId": "305eac44-32de-4121-f968-1697cc78bca1"
   },
   "outputs": [
    {
     "data": {
      "text/plain": [
       "array(['23.4 kmpl', '21.14 kmpl', '17.7 kmpl', '23.0 kmpl', '16.1 kmpl',\n",
       "       '20.14 kmpl', '17.3 km/kg', '23.59 kmpl', '20.0 kmpl',\n",
       "       '19.01 kmpl', '17.3 kmpl', '19.3 kmpl', 'mileage', '18.9 kmpl',\n",
       "       '18.15 kmpl', '24.52 kmpl', '19.7 kmpl', '22.54 kmpl', '21.0 kmpl',\n",
       "       '25.5 kmpl', '26.59 kmpl', '21.5 kmpl', '20.3 kmpl', '21.4 kmpl',\n",
       "       '24.7 kmpl', '18.2 kmpl', '16.8 kmpl', '24.3 kmpl', '14.0 kmpl',\n",
       "       '18.6 kmpl', '33.44 km/kg', '23.95 kmpl', '17.0 kmpl',\n",
       "       '20.63 kmpl', '13.93 kmpl', '16.0 kmpl', '17.8 kmpl', '18.5 kmpl',\n",
       "       '12.55 kmpl', '12.99 kmpl', '14.8 kmpl', '13.5 kmpl', '26.0 kmpl',\n",
       "       '20.65 kmpl', '27.3 kmpl', '11.36 kmpl', '17.68 kmpl',\n",
       "       '14.28 kmpl', '18.53 kmpl', '14.84 kmpl', '21.12 kmpl',\n",
       "       '20.36 kmpl', '21.27 kmpl', '18.16 kmpl', '22.0 kmpl', '25.1 kmpl',\n",
       "       '20.51 kmpl', '21.66 kmpl', '25.2 kmpl', '22.9 kmpl', '16.02 kmpl',\n",
       "       '20.54 kmpl', '22.77 kmpl', '15.71 kmpl', '23.1 kmpl',\n",
       "       '19.02 kmpl', '19.81 kmpl', '26.2 km/kg', '16.47 kmpl',\n",
       "       '15.04 kmpl', '19.1 kmpl', '21.79 kmpl', '18.8 kmpl', '21.21 kmpl',\n",
       "       '15.37 kmpl', '11.79 kmpl', '19.0 kmpl', '14.3 kmpl', '15.8 kmpl',\n",
       "       '15.1 kmpl', '19.09 kmpl', '22.32 kmpl', '21.9 kmpl', '14.53 kmpl',\n",
       "       '21.63 kmpl', '20.85 kmpl', '20.45 kmpl', '19.67 kmpl',\n",
       "       '23.01 kmpl', '20.77 kmpl', '17.92 kmpl', '17.01 kmpl',\n",
       "       '22.37 kmpl', '19.33 kmpl', '9.5 kmpl', '12.83 kmpl', '22.48 kmpl',\n",
       "       '16.78 kmpl', '14.67 kmpl', '15.0 kmpl', '13.96 kmpl', '18.0 kmpl',\n",
       "       '12.07 kmpl', '26.21 kmpl', '10.8 kmpl', '16.3 kmpl', '13.6 kmpl',\n",
       "       '14.74 kmpl', '15.6 kmpl', '19.56 kmpl', '22.69 kmpl',\n",
       "       '19.16 kmpl', '18.12 kmpl', '12.1 kmpl', '17.5 kmpl', '42.0 kmpl',\n",
       "       '20.4 kmpl', '21.1 kmpl', '19.44 kmpl', '13.0 kmpl', '21.43 kmpl',\n",
       "       '22.95 kmpl', '16.2 kmpl', '15.3 kmpl', '28.09 kmpl', '17.4 kmpl',\n",
       "       '19.4 kmpl', '26.6 km/kg', '17.6 kmpl', '28.4 kmpl', '14.1 kmpl',\n",
       "       '25.17 kmpl', '22.74 kmpl', '17.57 kmpl', '16.95 kmpl',\n",
       "       '19.49 kmpl', '17.21 kmpl', '13.2 kmpl', '14.2 kmpl', '26.8 kmpl',\n",
       "       '25.4 kmpl', '11.5 kmpl', '27.28 kmpl', '17.97 kmpl', '12.8 kmpl',\n",
       "       '16.55 kmpl', '12.05 kmpl', '14.07 kmpl', '21.02 kmpl',\n",
       "       '11.57 kmpl', '17.9 kmpl', '15.96 kmpl', '17.1 kmpl', '17.19 kmpl',\n",
       "       '21.01 kmpl', '24.0 kmpl', '25.6 kmpl', '21.38 kmpl', '23.84 kmpl',\n",
       "       '23.08 kmpl', '14.24 kmpl', '20.71 kmpl', '15.64 kmpl',\n",
       "       '14.5 kmpl', '16.34 kmpl', '27.39 kmpl', '11.1 kmpl', '13.9 kmpl',\n",
       "       '20.88 km/kg', '20.92 kmpl', '23.8 kmpl', '24.4 kmpl',\n",
       "       '15.29 kmpl', '21.19 kmpl', '22.5 kmpl', '19.6 kmpl', '23.65 kmpl',\n",
       "       '25.32 kmpl', '23.5 kmpl', '16.6 kmpl', '23.9 kmpl', '20.8 kmpl',\n",
       "       '27.62 kmpl', '12.9 kmpl', '25.44 kmpl', '17.88 kmpl', '22.7 kmpl',\n",
       "       '17.2 kmpl', '15.42 kmpl', '19.68 kmpl', '18.7 kmpl', '15.4 kmpl',\n",
       "       '19.34 kmpl', '22.71 kmpl', '25.8 kmpl', '13.7 kmpl', '12.2 kmpl',\n",
       "       '18.49 kmpl', '9.0 kmpl', '0.0 kmpl', '13.58 kmpl', '10.1 kmpl',\n",
       "       '20.5 kmpl', '25.0 kmpl', '10.5 kmpl', '22.07 kmpl', '22.3 kmpl',\n",
       "       '15.26 kmpl', '20.62 kmpl', '27.4 kmpl', '23.2 kmpl', '14.4 kmpl',\n",
       "       '18.4 kmpl', '30.46 km/kg', '14.02 kmpl', '11.0 kmpl', '20.6 kmpl',\n",
       "       '22.05 kmpl', '20.2 kmpl', '18.1 kmpl', '22.1 kmpl', '19.87 kmpl',\n",
       "       '13.01 kmpl', '18.06 kmpl', '26.1 kmpl', '16.52 kmpl',\n",
       "       '13.55 kmpl', '24.2 kmpl', '25.83 kmpl', '11.2 kmpl', '17.09 kmpl',\n",
       "       '21.03 kmpl', '17.45 kmpl', '21.64 kmpl', '21.94 km/kg',\n",
       "       '13.87 kmpl', '19.98 kmpl', '20.52 kmpl', '23.57 kmpl',\n",
       "       '11.7 kmpl', '17.43 kmpl', '18.88 kmpl', '13.68 kmpl',\n",
       "       '11.18 kmpl', '20.89 kmpl', '11.8 kmpl', '19.62 kmpl', '21.7 kmpl',\n",
       "       '14.9 kmpl', '19.5 kmpl', '10.91 kmpl', '15.7 kmpl', '20.73 kmpl',\n",
       "       '15.85 kmpl', '20.7 kmpl', '14.23 kmpl', '16.5 kmpl', '17.36 kmpl',\n",
       "       '12.6 kmpl', '16.36 kmpl', '14.95 kmpl', '16.9 kmpl', '19.2 kmpl',\n",
       "       '16.96 kmpl', '22.15 kmpl', '18.78 kmpl', '19.61 kmpl',\n",
       "       '17.71 kmpl', '18.3 kmpl', '19.12 kmpl', '19.72 kmpl', '12.0 kmpl',\n",
       "       '11.4 kmpl', '23.03 kmpl', '11.07 kmpl', '15.9 kmpl', '17.67 kmpl',\n",
       "       '20.46 kmpl', '13.1 kmpl', '13.45 km/kg', '24.8 kmpl',\n",
       "       '15.73 kmpl', '15.11 kmpl', '12.7 kmpl', '21.2 kmpl', '20.38 kmpl',\n",
       "       '21.56 kmpl', '13.22 kmpl', '14.49 kmpl', '15.05 kmpl',\n",
       "       '23.26 kmpl', '15.41 kmpl', '13.8 kmpl', '22.27 kmpl',\n",
       "       '32.52 km/kg', '14.66 kmpl', '12.12 kmpl', '16.84 kmpl',\n",
       "       '14.09 kmpl', '14.7 kmpl', '13.4 kmpl', '15.5 kmpl', '13.49 kmpl',\n",
       "       '11.88 km/kg', '14.6 kmpl', '10.75 kmpl', '24.5 kmpl',\n",
       "       '11.74 kmpl', '16.07 kmpl', '15.63 kmpl', '26.3 km/kg',\n",
       "       '23.7 km/kg', '25.47 kmpl', '17.05 kmpl', '23.3 kmpl', '11.9 kmpl',\n",
       "       '13.38 kmpl', '20.86 kmpl', '19.2 km/kg', '10.9 kmpl',\n",
       "       '18.25 kmpl', '15.2 kmpl', '20.37 kmpl', '17.8 km/kg', '21.8 kmpl',\n",
       "       '11.96 kmpl', '24.04 kmpl', '19.69 kmpl', '13.73 kmpl',\n",
       "       '21.04 kmpl', '25.01 kmpl', '10.93 kmpl', '10.9 km/kg',\n",
       "       '24.29 kmpl', '13.44 kmpl', '20.07 kmpl', '21.1 km/kg',\n",
       "       '19.08 kmpl', '20.34 kmpl', '11.68 kmpl', '12.5 kmpl', '12.3 kmpl',\n",
       "       '23.87 kmpl', '16.38 kmpl', '17.42 kmpl', '10.0 kmpl',\n",
       "       '18.24 kmpl', '10.71 kmpl', '19.59 kmpl', '16.7 kmpl',\n",
       "       '19.83 kmpl', '21.76 kmpl', '16.05 kmpl', '20.28 kmpl',\n",
       "       '16.25 kmpl', '16.73 kmpl', '18.48 kmpl', '13.2 km/kg',\n",
       "       '21.4 km/kg', '14.99 kmpl', '18.76 kmpl', '16.4 kmpl',\n",
       "       '19.64 kmpl', '14.94 kmpl', '16.6 km/kg', '16.0 km/kg',\n",
       "       '17.11 kmpl', '22.8 km/kg', '32.26 km/kg', '33.0 km/kg',\n",
       "       '12.4 kmpl', '18.44 kmpl', '16.09 kmpl', '19.0 km/kg',\n",
       "       '12.62 kmpl', '21.13 kmpl', '15.17 kmpl', '21.73 kmpl',\n",
       "       '21.72 kmpl', '12.85 kmpl', '14.81 kmpl', '13.24 kmpl',\n",
       "       '14.4 km/kg', '21.49 kmpl', '14.62 kmpl', '26.83 km/kg',\n",
       "       '11.45 kmpl', '12.08 kmpl', '15.74 kmpl', '11.3 kmpl',\n",
       "       '15.1 km/kg', '14.21 kmpl', '11.72 kmpl', '16.51 kmpl'],\n",
       "      dtype=object)"
      ]
     },
     "execution_count": 31,
     "metadata": {},
     "output_type": "execute_result"
    }
   ],
   "source": [
    "car_dataset['mileage'].unique()"
   ]
  },
  {
   "cell_type": "code",
   "execution_count": 32,
   "id": "d62cf14b",
   "metadata": {
    "id": "d62cf14b"
   },
   "outputs": [],
   "source": [
    "car_dataset['mileage']=car_dataset['mileage'].str.replace('kmpl', \" \",).astype(object)"
   ]
  },
  {
   "cell_type": "code",
   "execution_count": 33,
   "id": "daa60154",
   "metadata": {
    "id": "daa60154"
   },
   "outputs": [],
   "source": [
    "car_dataset['mileage']=car_dataset['mileage'].str.replace('km/kg', \" \",).astype(object)"
   ]
  },
  {
   "cell_type": "code",
   "execution_count": 34,
   "id": "10468c6b",
   "metadata": {
    "colab": {
     "base_uri": "https://localhost:8080/"
    },
    "id": "10468c6b",
    "outputId": "608dda2d-8e66-4bfa-97a0-37225126d95e"
   },
   "outputs": [
    {
     "data": {
      "text/plain": [
       "array(['1248 CC', '1498 CC', '1497 CC', '1396 CC', '1298 CC', '1197 CC',\n",
       "       '1061 CC', '796 CC', '1364 CC', '1399 CC', '1461 CC', '993 CC',\n",
       "       'engine', '1198 CC', '1199 CC', '998 CC', '1591 CC', '2179 CC',\n",
       "       '1368 CC', '2982 CC', '2494 CC', '2143 CC', '2477 CC', '1462 CC',\n",
       "       '2755 CC', '1968 CC', '1798 CC', '1196 CC', '1373 CC', '1598 CC',\n",
       "       '1998 CC', '1086 CC', '1194 CC', '1172 CC', '1405 CC', '1582 CC',\n",
       "       '999 CC', '2487 CC', '1999 CC', '3604 CC', '2987 CC', '1995 CC',\n",
       "       '1451 CC', '1969 CC', '2967 CC', '2497 CC', '1797 CC', '1991 CC',\n",
       "       '2362 CC', '1493 CC', '1599 CC', '1341 CC', '1794 CC', '799 CC',\n",
       "       '1193 CC', '2696 CC', '1495 CC', '1186 CC', '1047 CC', '2498 CC',\n",
       "       '2956 CC', '2523 CC', '1120 CC', '624 CC', '1496 CC', '1984 CC',\n",
       "       '2354 CC', '814 CC', '793 CC', '1799 CC', '936 CC', '1956 CC',\n",
       "       '1997 CC', '1499 CC', '1948 CC', '2997 CC', '2489 CC', '2499 CC',\n",
       "       '2609 CC', '2953 CC', '1150 CC', '1994 CC', '1388 CC', '1527 CC',\n",
       "       '2199 CC', '995 CC', '2993 CC', '1586 CC', '1390 CC', '909 CC',\n",
       "       '2393 CC', '3198 CC', '1339 CC', '2835 CC', '2092 CC', '1595 CC',\n",
       "       '2496 CC', '1596 CC', '1597 CC', '2596 CC', '2148 CC', '1299 CC',\n",
       "       '1590 CC', '2231 CC', '2694 CC', '2200 CC', '1795 CC', '1896 CC',\n",
       "       '1796 CC', '1422 CC', '1489 CC', '2359 CC', '2197 CC', '2999 CC',\n",
       "       '1781 CC', '2650 CC', '1343 CC', '2446 CC', '3498 CC', '2198 CC',\n",
       "       '2776 CC', '1950 CC'], dtype=object)"
      ]
     },
     "execution_count": 34,
     "metadata": {},
     "output_type": "execute_result"
    }
   ],
   "source": [
    "car_dataset['engine'].unique()"
   ]
  },
  {
   "cell_type": "code",
   "execution_count": 35,
   "id": "636a7075",
   "metadata": {
    "id": "636a7075"
   },
   "outputs": [],
   "source": [
    "car_dataset['engine']=car_dataset['engine'].str.replace('CC', \" \").astype(object)"
   ]
  },
  {
   "cell_type": "code",
   "execution_count": 36,
   "id": "453a4a28",
   "metadata": {
    "colab": {
     "base_uri": "https://localhost:8080/"
    },
    "id": "453a4a28",
    "outputId": "8858da5d-f98f-4158-b662-01fe4455608e"
   },
   "outputs": [
    {
     "data": {
      "text/plain": [
       "array(['74 bhp', '103.52 bhp', '78 bhp', '90 bhp', '88.2 bhp',\n",
       "       '81.86 bhp', '57.5 bhp', '37 bhp', '67.1 bhp', '68.1 bhp',\n",
       "       '108.45 bhp', '60 bhp', '73.9 bhp', 'max_power', '67 bhp',\n",
       "       '82 bhp', '88.5 bhp', '46.3 bhp', '88.73 bhp', '64.1 bhp',\n",
       "       '98.6 bhp', '88.8 bhp', '83.81 bhp', '83.1 bhp', '47.3 bhp',\n",
       "       '73.8 bhp', '34.2 bhp', '35 bhp', '81.83 bhp', '40.3 bhp',\n",
       "       '121.3 bhp', '138.03 bhp', '160.77 bhp', '117.3 bhp', '116.3 bhp',\n",
       "       '83.14 bhp', '67.05 bhp', '168.5 bhp', '100 bhp', '120.7 bhp',\n",
       "       '98.63 bhp', '175.56 bhp', '103.25 bhp', '171.5 bhp', '100.6 bhp',\n",
       "       '174.33 bhp', '187.74 bhp', '170 bhp', '78.9 bhp', '88.76 bhp',\n",
       "       '86.8 bhp', '108.495 bhp', '108.62 bhp', '93.7 bhp', '103.6 bhp',\n",
       "       '98.59 bhp', '189 bhp', '67.04 bhp', '68.05 bhp', '58.2 bhp',\n",
       "       '82.85 bhp', '81.80 bhp', '73 bhp', '120 bhp', '94.68 bhp',\n",
       "       '160 bhp', '65 bhp', '155 bhp', '69.01 bhp', '126.32 bhp',\n",
       "       '138.1 bhp', '83.8 bhp', '126.2 bhp', '98.96 bhp', '62.1 bhp',\n",
       "       '86.7 bhp', '188 bhp', '214.56 bhp', '177 bhp', '280 bhp',\n",
       "       '148.31 bhp', '254.79 bhp', '190 bhp', '177.46 bhp', '204 bhp',\n",
       "       '141 bhp', '117.6 bhp', '241.4 bhp', '282 bhp', '150 bhp',\n",
       "       '147.5 bhp', '108.5 bhp', '103.5 bhp', '183 bhp', '181.04 bhp',\n",
       "       '157.7 bhp', '164.7 bhp', '91.1 bhp', '400 bhp', '68 bhp',\n",
       "       '75 bhp', '85.8 bhp', '87.2 bhp', '53 bhp', '118 bhp', '103.2 bhp',\n",
       "       '83 bhp', '84 bhp', '58.16 bhp', '147.94 bhp', '74.02 bhp',\n",
       "       '53.3 bhp', '80 bhp', '88.7 bhp', '97.7 bhp', '121.36 bhp',\n",
       "       '162 bhp', '140 bhp', '94 bhp', '100.57 bhp', '82.9 bhp',\n",
       "       '83.11 bhp', '70 bhp', '153.86 bhp', '121 bhp', '126.3 bhp',\n",
       "       '73.97 bhp', '171 bhp', '69 bhp', '99.6 bhp', '102 bhp', '105 bhp',\n",
       "       '63 bhp', '79.4 bhp', '97.9 bhp', '63.1 bhp', '66.1 bhp',\n",
       "       '110 bhp', '174.5 bhp', '53.26 bhp', '73.75 bhp', '67.06 bhp',\n",
       "       '64.08 bhp', '37.5 bhp', '189.3 bhp', '158.8 bhp', '61.7 bhp',\n",
       "       '55.2 bhp', '71.01 bhp', '73.74 bhp', '147.9 bhp', '71 bhp',\n",
       "       '77 bhp', '121.4 bhp', '113.4 bhp', '47 bhp', '130 bhp',\n",
       "       '57.6 bhp', '138 bhp', '52.8 bhp', '53.64 bhp', '53.5 bhp',\n",
       "       '76.8 bhp', '82.4 bhp', '113.42 bhp', '76 bhp', '84.8 bhp', '0',\n",
       "       '56.3 bhp', '218 bhp', '112 bhp', '92 bhp', '105.5 bhp', '169 bhp',\n",
       "       '95 bhp', '72.4 bhp', '115 bhp', '152 bhp', '91.2 bhp', '156 bhp',\n",
       "       '74.9 bhp', '62 bhp', '105.3 bhp', '73.94 bhp', '85.80 bhp',\n",
       "       '85 bhp', '118.3 bhp', '72 bhp', '147.51 bhp', '58 bhp', '64 bhp',\n",
       "       '126.24 bhp', '76.9 bhp', '194.3 bhp', '99.23 bhp', '89.84 bhp',\n",
       "       '123.7 bhp', '118.35 bhp', '99 bhp', '241 bhp', '136 bhp',\n",
       "       '261.4 bhp', '104.68 bhp', '37.48 bhp', '104 bhp', '88.50 bhp',\n",
       "       '63.12 bhp', '91.7 bhp', '102.5 bhp', '177.6 bhp', '45 bhp',\n",
       "       '123.37 bhp', '147.8 bhp', '184 bhp', '84.48 bhp', '68.07 bhp',\n",
       "       '74.96 bhp', '167.6 bhp', '152.87 bhp', '112.2 bhp', '83.83 bhp',\n",
       "       '197 bhp', '110.4 bhp', '104.55 bhp', '103 bhp', '103.3 bhp',\n",
       "       '66 bhp', '108.6 bhp', '165 bhp', '163.7 bhp', '116.9 bhp',\n",
       "       '94.93 bhp', '127 bhp', '198.5 bhp', '179.5 bhp', '120.69 bhp',\n",
       "       '121.31 bhp', '138.08 bhp', '187.7 bhp', '80.8 bhp', '86.79 bhp',\n",
       "       '93.87 bhp', '116.6 bhp', '143 bhp', '92.7 bhp', '88 bhp',\n",
       "       '58.33 bhp', '78.8 bhp', '64.4 bhp', '125 bhp', '139.01 bhp',\n",
       "       '254.8 bhp', '181 bhp', '258 bhp', '55.23 bhp', '270.9 bhp',\n",
       "       '265 bhp', '157.75 bhp', '101 bhp', '186 bhp', '187.4 bhp',\n",
       "       '224 bhp', '64.9 bhp', '148 bhp', '35.5 bhp', '89.75 bhp',\n",
       "       '32.8 bhp', '91.72 bhp', '106 bhp', '98.97 bhp', '66.6 bhp',\n",
       "       '86 bhp', '65.3 bhp', '98.82 bhp', '198.25 bhp', '38 bhp',\n",
       "       '142 bhp', '132 bhp', '174.57 bhp', '178 bhp', '163.2 bhp',\n",
       "       '203.2 bhp', '177.5 bhp', '175 bhp', '57 bhp', '80.84 bhp',\n",
       "       '68.4 bhp', '167.67 bhp', '170.63 bhp', '52 bhp', '149.5 bhp',\n",
       "       '48.21 bhp', ' bhp', '201.1 bhp', '100.5 bhp', '144 bhp',\n",
       "       '194.4 bhp', '168.7 bhp', '104.5 bhp', '103.26 bhp', '116.4 bhp',\n",
       "       '98.79 bhp', '80.9 bhp', '58.3 bhp', '272 bhp', '235 bhp',\n",
       "       '167.62 bhp', '170.30 bhp', '139.46 bhp', '158 bhp', '110.5 bhp',\n",
       "       '82.5 bhp', '141.1 bhp', '38.4 bhp', '197.2 bhp', '161 bhp',\n",
       "       '194 bhp', '122.4 bhp', '134.10 bhp', '60.2 bhp', '134 bhp',\n",
       "       '203 bhp', '135.1 bhp'], dtype=object)"
      ]
     },
     "execution_count": 36,
     "metadata": {},
     "output_type": "execute_result"
    }
   ],
   "source": [
    "car_dataset['max_power'].unique()"
   ]
  },
  {
   "cell_type": "code",
   "execution_count": 37,
   "id": "357eddda",
   "metadata": {
    "id": "357eddda"
   },
   "outputs": [],
   "source": [
    "car_dataset['max_power']=car_dataset['max_power'].str.replace('bhp', \" \").astype(object)"
   ]
  },
  {
   "cell_type": "code",
   "execution_count": 38,
   "id": "b67270ab",
   "metadata": {
    "colab": {
     "base_uri": "https://localhost:8080/"
    },
    "id": "b67270ab",
    "outputId": "e9d782b4-5c49-4b7b-8314-231e057f6e62"
   },
   "outputs": [
    {
     "data": {
      "text/plain": [
       "array(['190Nm@ 2000rpm', '250Nm@ 1500-2500rpm', '12.7@ 2,700(kgm@ rpm)',\n",
       "       '22.4 kgm at 1750-2750rpm', '11.5@ 4,500(kgm@ rpm)',\n",
       "       '113.75nm@ 4000rpm', '7.8@ 4,500(kgm@ rpm)', '59Nm@ 2500rpm',\n",
       "       '170Nm@ 1800-2400rpm', '160Nm@ 2000rpm', '248Nm@ 2250rpm',\n",
       "       '78Nm@ 4500rpm', 'torque', '84Nm@ 3500rpm', '115Nm@ 3500-3600rpm',\n",
       "       '200Nm@ 1750rpm', '62Nm@ 3000rpm', '219.7Nm@ 1500-2750rpm',\n",
       "       '114Nm@ 3500rpm', '115Nm@ 4000rpm', '69Nm@ 3500rpm',\n",
       "       '172.5Nm@ 1750rpm', '6.1kgm@ 3000rpm', '114.7Nm@ 4000rpm',\n",
       "       '60Nm@ 3500rpm', '90Nm@ 3500rpm', '151Nm@ 4850rpm',\n",
       "       '104Nm@ 4000rpm', '320Nm@ 1700-2700rpm', '250Nm@ 1750-2500rpm',\n",
       "       '145Nm@ 4600rpm', '146Nm@ 4800rpm', '343Nm@ 1400-3400rpm',\n",
       "       '200Nm@ 1400-3400rpm', '200Nm@ 1250-4000rpm',\n",
       "       '400Nm@ 2000-2500rpm', '138Nm@ 4400rpm', '360Nm@ 1200-3400rpm',\n",
       "       '200Nm@ 1200-3600rpm', '380Nm@ 1750-2500rpm', '173Nm@ 4000rpm',\n",
       "       '400Nm@ 1750-3000rpm', '400Nm@ 1400-2800rpm',\n",
       "       '200Nm@ 1750-3000rpm', '111.7Nm@ 4000rpm', '219.6Nm@ 1500-2750rpm',\n",
       "       '112Nm@ 4000rpm', '250Nm@ 1500-3000rpm', '130Nm@ 4000rpm',\n",
       "       '205Nm@ 1750-3250rpm', '280Nm@ 1350-4600rpm', '99.04Nm@ 4500rpm',\n",
       "       '77Nm@ 3500rpm', '110Nm@ 3750rpm', '153Nm@ 3800rpm',\n",
       "       '113.7Nm@ 4000rpm', '114Nm@ 4000rpm', '113Nm@ 4200rpm',\n",
       "       '101Nm@ 3000rpm', '290Nm@ 1800-2800rpm', '120Nm@ 4250rpm',\n",
       "       '250Nm@ 1500~4500rpm', '96 Nm at 3000 rpm', '360Nm@ 1750-2800rpm',\n",
       "       '135Nm@ 2500rpm', '259.8Nm@ 1900-2750rpm', '200Nm@ 1900rpm',\n",
       "       '259.9Nm@ 1900-2750rpm', '91Nm@ 4250rpm', '96.1Nm@ 3000rpm',\n",
       "       '109Nm@ 4500rpm', '400nm@ 1750-3000rpm', '202Nm@ 3600-5200rpm',\n",
       "       '430Nm@ 1750-2500rpm', '347Nm@ 4300rpm', '382nm@ 1750-2250rpm',\n",
       "       '620Nm@ 1600-2400rpm', '400Nm@ 1750-2500rpm', '250@ 1250-5000rpm',\n",
       "       '500Nm@ 1600-1800rpm', '250Nm@ 1600-3600rpm', '400Nm',\n",
       "       '550Nm@ 1750-2750rpm', '490Nm@ 1600rpm', '250 Nm at 2750 rpm',\n",
       "       '177.5Nm@ 4700rpm', '170Nm@ 1750-4000rpm', '300Nm@ 1200-4000rpm',\n",
       "       '300Nm@ 1200-1400rpm', '260Nm@ 1500-2750rpm', '213Nm@ 4500rpm',\n",
       "       '224Nm@ 4000rpm', '640Nm@ 1740rpm', '113Nm@ 4500rpm',\n",
       "       '95Nm@ 3000-4300rpm', '13.1kgm@ 4600rpm', '205Nm@ 1800-2800rpm',\n",
       "       '71Nm@ 3500rpm', '190Nm@ 1750-3000rpm', '146Nm at 4800 rpm',\n",
       "       '14.9 KGM at 3000 RPM', '115Nm@ 3200rpm', '117nm@ 4000rpm',\n",
       "       '320Nm@ 1500-3000rpm', '72Nm@ 4386rpm', '11.4 kgm at 4,000 rpm',\n",
       "       '140Nm@ 1500-4000rpm', '134Nm@ 4000rpm', '150Nm@ 4500rpm',\n",
       "       '340Nm@ 1800-3250rpm', '240Nm@ 1600-2800rpm',\n",
       "       '330Nm@ 1600-2800rpm', '12.5@ 3,500(kgm@ rpm)', '110Nm@ 4800rpm',\n",
       "       '111.8Nm@ 4000rpm', '11.8@ 3,200(kgm@ rpm)', '135.4Nm@ 2500rpm',\n",
       "       '300Nm@ 1750-2500rpm', '190.25nm@ 1750-2250rpm',\n",
       "       '140Nm@ 1800-3000rpm', '20.4@ 1400-3400(kgm@ rpm)',\n",
       "       '247Nm@ 1800-2000rpm', '223Nm@ 1600-2200rpm',\n",
       "       '180 Nm at 1440-1500rpm', '195Nm@ 1400-2200rpm',\n",
       "       '154.9Nm@ 4200rpm', '114.73Nm@ 4000rpm', '160Nm@ 1500-2750rpm',\n",
       "       '108Nm@ 4400rpm', '190.24nm@ 1750-2250rpm', '200Nm@ 2000-3500rpm',\n",
       "       '420Nm@ 1400-2600rpm', '100Nm@ 2700rpm', '51Nm@ 4000rpm',\n",
       "       '250Nm@ 1250-5300rpm', '132Nm@ 3000rpm', '350Nm@ 1500-2750rpm',\n",
       "       '218Nm@ 4200rpm', '14.9@ 3,000(kgm@ rpm)',\n",
       "       '24@ 1,900-2,750(kgm@ rpm)', '13.5@ 2,500(kgm@ rpm)',\n",
       "       '85Nm@ 3000rpm', '74.5Nm@ 4000rpm', '160Nm@ 1750rpm',\n",
       "       '180.4Nm@ 1750-2500rpm', '230Nm@ 1500-2500rpm',\n",
       "       '113.75Nm@ 4000rpm', '219.66nm@ 1500-2750rpm', '245Nm@ 1750rpm',\n",
       "       '360Nm@ 1400-3200rpm', '320Nm@ 2000rpm', '135 Nm at 2500  rpm ',\n",
       "       '24 KGM at 1900-2750 RPM', '190Nm@ 1750-2250rpm',\n",
       "       '204Nm@ 2000-2750rpm', '14.3@ 1,800-3,000(kgm@ rpm)',\n",
       "       '250nm@ 1500-2750rpm', '125Nm@ 2000rpm', '172Nm@ 4300rpm',\n",
       "       '150Nm@ 1750rpm', '102Nm@ 4000rpm', '85Nm@ 2500rpm',\n",
       "       '8.5@ 2,500(kgm@ rpm)', '180Nm@ 1440-1500rpm', '106.5Nm@ 4400rpm',\n",
       "       '108.5Nm@ 5000rpm', '350Nm@ 1750-2500rpm', '144.15nm@ 4500rpm',\n",
       "       '104Nm@ 4400rpm', '99Nm@ 4500rpm', '200Nm@ 2000rpm',\n",
       "       '280Nm@ 1800-2800rpm', '142.5Nm@ 1750rpm', '140Nm@ 4400rpm',\n",
       "       '115@ 2,500(kgm@ rpm)', '196Nm@ 5000rpm',\n",
       "       '260 Nm at 1800-2200 rpm', '9.8@ 3,000(kgm@ rpm)',\n",
       "       '209Nm@ 2000rpm', '135 Nm at 2500 rpm', '140Nm@ 4200rpm',\n",
       "       '220Nm at 1400-2600 rpm', '48Nm@ 3000rpm', '171Nm@ 1800rpm',\n",
       "       '277.5Nm@ 1700-2200rpm', '215Nm@ 3600rpm', '219.6Nm@ 1750-2750rpm',\n",
       "       '195Nm@ 1440-2200rpm', '13@ 2,500(kgm@ rpm)', '180Nm@ 2000rpm',\n",
       "       '200Nm@ 1400-2200rpm', '380Nm(38.7kgm)@ 2500rpm', '110Nm@ 4400rpm',\n",
       "       '72Nm@ 4388rpm', '263.7Nm@ 2500rpm', '320Nm@ 1600-2800rpm',\n",
       "       '25.5@ 1,500-3,000(kgm@ rpm)', '16.3@ 2,000(kgm@ rpm)',\n",
       "       '190 Nm at 1750 rpm ', '94.14Nm@ 3500rpm', '12@ 3,500(kgm@ rpm)',\n",
       "       '113Nm@ 5000rpm', '280Nm@ 2400-2800rpm', '96Nm@ 3500rpm',\n",
       "       '16@ 2,000(kgm@ rpm)', '320Nm@ 1750-3000rpm', '114.73nm@ 4000rpm',\n",
       "       '320Nm@ 1750-2500rpm', '138nm@ 4400rpm', '190Nm@ 1750rpm',\n",
       "       '789Nm@ 2250rpm', '259.87Nm@ 1900-2750rpm', '205Nm@ 1750rpm',\n",
       "       '436.39Nm@ 1800-2500rpm', '182.5Nm@ 1500-1800rpm',\n",
       "       '90.3Nm@ 4200rpm', '12.5@ 2,500(kgm@ rpm)', '215Nm@ 1750-3000rpm',\n",
       "       '215Nm@ 1750-3000', '305Nm@ 2000rpm', '540Nm@ 2000rpm',\n",
       "       '327Nm@ 2600rpm', '300Nm@ 1600-3000rpm', '620Nm@ 2000-2500rpm',\n",
       "       '450Nm@ 1600-2400rpm', '19@ 1,800(kgm@ rpm)',\n",
       "       '9.2@ 4,200(kgm@ rpm)', '145@ 4,100(kgm@ rpm)',\n",
       "       '51Nm@ 4000+/-500rpm', '110Nm@ 3000rpm', '148Nm@ 3500rpm',\n",
       "       '116Nm@ 4750rpm', '48@ 3,000+/-500(NM@ rpm)', '148Nm@ 4000rpm',\n",
       "       '222Nm@ 4300rpm', '135.3Nm@ 5000rpm', '98Nm@ 1600-3000rpm',\n",
       "       '170Nm@ 1400-4500rpm', '343Nm@ 1400-2800rpm',\n",
       "       '402Nm@ 1600-3000rpm', '113Nm@ 3300rpm', '99.07Nm@ 4500rpm',\n",
       "       '210nm@ 1600-2200rpm', '190 Nm at 1750  rpm ', '32.1kgm@ 2000rpm',\n",
       "       '224nm@ 1500-2750rpm', '400nm@ 1750-2500rpm',\n",
       "       '215Nm@ 1750-2500rpm', '25@ 1,800-2,800(kgm@ rpm)',\n",
       "       '197Nm@ 1750rpm', '136.3Nm@ 4200rpm', '470Nm@ 1750-2500rpm',\n",
       "       '11@ 3,000(kgm@ rpm)', '142Nm@ 4000rpm', '145Nm@ 4100rpm',\n",
       "       '320Nm@ 1500-2800rpm', '123Nm@ 1000-2500rpm',\n",
       "       '218Nm@ 1400-2600rpm', '510@ 1600-2400', '220Nm@ 1500-2750rpm',\n",
       "       '380Nm@ 2000rpm', '104Nm@ 3100rpm', '292Nm@ 2000rpm',\n",
       "       '20@ 3,750(kgm@ rpm)', '46.5@ 1,400-2,800(kgm@ rpm)',\n",
       "       '380Nm@ 2500rpm', '15@ 3,800(kgm@ rpm)', '136Nm@ 4250rpm',\n",
       "       '228Nm@ 4400rpm', '149Nm@ 4500rpm', '187Nm@ 2500rpm',\n",
       "       '146Nm@ 3400rpm', '8.6@ 3,500(kgm@ rpm)', '219.7Nm@ 1750-2750rpm',\n",
       "       '190Nm@ 2000-3000', '450Nm@ 2000rpm', '300Nm@ 2000rpm',\n",
       "       '230Nm@ 1800-2000rpm', '42@ 2,000(kgm@ rpm)',\n",
       "       '110Nm@ 3000-4300rpm', '110(11.2)@ 4800', '330Nm@ 1800rpm',\n",
       "       '225Nm@ 1500-2500rpm', '380Nm@ 1750-2750rpm',\n",
       "       '28.3@ 1,700-2,200(kgm@ rpm)', '259.88Nm@ 1900-2750rpm',\n",
       "       '580Nm@ 1400-3250rpm', '400 Nm /2000 rpm', '127Nm@ 3500rpm',\n",
       "       '300Nm@ 1500-2500rpm', '132.3Nm@ 4000rpm', '113nm@ 4400rpm',\n",
       "       '151NM@ 4850rpm', '153Nm@ 3750-3800rpm', '10.7@ 2,500(kgm@ rpm)',\n",
       "       '124.6Nm@ 3500rpm', '78Nm@ 3500rpm', '219.9Nm@ 1750-2750rpm',\n",
       "       '420.7Nm@ 1800-2500rpm', '130Nm@ 3000rpm', '424Nm@ 2000rpm',\n",
       "       '130@ 2500(kgm@ rpm)', '99.8Nm@ 2700rpm', '113Nm@ 4,500rpm',\n",
       "       '11.2@ 4,400(kgm@ rpm)', '240Nm@ 1850rpm', '16.1@ 4,200(kgm@ rpm)',\n",
       "       '320Nm@ 1750-2700rpm', '115Nm@ 4500rpm', '245Nm@ 4000rpm',\n",
       "       '321Nm@ 1600-2400rpm', '619Nm@ 1600-2400rpm',\n",
       "       '380Nm@ 1750-3000rpm', '560Nm@ 1500rpm', '230Nm@ 1500-2250rpm',\n",
       "       '90Nm@ 2650rpm', '260Nm@ 1800-2200rpm', '600Nm@ 2000rpm',\n",
       "       '259.87nm@ 1500-3000rpm', '16.6@ 4,500(kgm@ rpm)',\n",
       "       '219.66NM@ 1500-2750rpm', '12.5@ 3,000(kgm@ rpm)',\n",
       "       '620Nm@ 1500-2500rpm', '250Nm@ 1500-4500rpm',\n",
       "       '14.9@ 3,400(kgm@ rpm)', '25.5@ 1,900(kgm@ rpm)',\n",
       "       '33.7@ 1,800(kgm@ rpm)', '285Nm@ 2400-4000rpm',\n",
       "       '10.7@ 2,600(kgm@ rpm)', '250Nm@ 1000-2000rpm', '240Nm@ 1750rpm',\n",
       "       '226Nm@ 4400rpm', '510Nm@ 1600-2800rpm', '259.87NM@ 1500-3000rpm',\n",
       "       '155 Nm at 1600-2800 rpm', '240Nm@ 2000rpm', '103Nm@ 4500rpm',\n",
       "       '13.5@ 4,800(kgm@ rpm)', '400Nm@ 1750-2750rpm',\n",
       "       '175Nm@ 1500-4100rpm', '72.9Nm@ 2250rpm', '135.4Nm@ 2500',\n",
       "       '245Nm@ 5000rpm', '57Nm@ 2500rpm', '96Nm@ 2500rpm',\n",
       "       '215nm@ 1750-2500rpm', '10.4@ 3,200(kgm@ rpm)', '128Nm@ 3100rpm',\n",
       "       '102Nm@ 2600rpm', '131Nm@ 4400rpm', '11.4@ 4,000(kgm@ rpm)',\n",
       "       '250Nm@ 4250rpm', '343Nm@ 1600-2800rpm', '185Nm@ 1750-2750rpm',\n",
       "       '12@ 2500(kgm@ rpm)', '12.4@ 2,600(kgm@ rpm)', '170Nm@ 4200rpm',\n",
       "       '176Nm@ 1500rpm', '380NM@ 1800-2800rpm', '250Nm@ 1600-2000rpm',\n",
       "       '24.5@ 3,500-4,500(kgm@ rpm)', '22.9@ 1,950-4,700(kgm@ rpm)',\n",
       "       '113Nm@ 4400rpm', '121Nm@ 2800rpm', '210 / 1900',\n",
       "       '250Nm@ 1250-5000rpm', '400Nm@ 175-2750rpm', '350Nm@ 1500-3500rpm',\n",
       "       '175nm@ 1750-4000rpm', '115@ 2500(kgm@ rpm)', '110Nm@ 4500rpm',\n",
       "       '190Nm@ 2000-3000rpm', '106Nm@ 2200rpm',\n",
       "       '21.4@ 1,750-4,600(kgm@ rpm)', '96Nm@ 3000rpm',\n",
       "       '23.6@ 4,250(kgm@ rpm)', '11.3kgm@ 4700rpm', '450Nm@ 1750-2500rpm',\n",
       "       '35.7@ 1,750-3,000(kgm@ rpm)', '6@ 2,500(kgm@ rpm)',\n",
       "       '13.9 kgm at 4200 rpm', '320Nm@ 1400-4100rpm',\n",
       "       '150Nm@ 1700-4500rpm', '113.8Nm@ 4000rpm', '110@ 3,000(kgm@ rpm)',\n",
       "       '151Nm@ 2400rpm', '62Nm@ 2500rpm', '18@ 1,600-2,200(kgm@ rpm)',\n",
       "       '83Nm@ 3000rpm', '124.5Nm@ 3500rpm', '20@ 4,700(kgm@ rpm)',\n",
       "       '300Nm@ 1600-4000rpm', '171.6Nm@ 1500-4000rpm',\n",
       "       '21.4@ 1,900(kgm@ rpm)', '190@ 21,800(kgm@ rpm)',\n",
       "       '5.7@ 2,500(kgm@ rpm)', '88.4Nm@ 4200rpm',\n",
       "       '250 Nm at 1,500-3,000 rpm', '340nm@ 1750-3000rpm',\n",
       "       '36.6@ 1,750-2,500(kgm@ rpm)', '12.5kgm@ 3500rpm',\n",
       "       '6.1@ 3,000(kgm@ rpm)', '110Nm@ 4000rpm', '350nm@ 1800-2600rpm',\n",
       "       '175nm@ 1500-4100rpm', '4.8kgm@ 3000rpm', '355Nm@ 4500rpm',\n",
       "       '51@ 1,750-3,000(kgm@ rpm)', '119Nm@ 4250rpm',\n",
       "       '410Nm@ 1600-2800rpm', '174Nm@ 4300rpm', '99.1Nm@ 4500rpm',\n",
       "       '385Nm@ 1600-2500rpm', '180 Nm at 2000rpm', '190 Nm at 1750 rpm',\n",
       "       '53@ 2,000-2,750(kgm@ rpm)', '360Nm@ 1400-2600rpm',\n",
       "       '420Nm@ 2000rpm', '124Nm@ 3500rpm', '17.5@ 4,300(kgm@ rpm)',\n",
       "       '360Nm@ 2000rpm', '145Nm@ 3750rpm', '85Nm@ 3500rpm',\n",
       "       '190Nm@ 4200rpm', '190 Nm at 2000rpm', '13.5@ 2500(kgm@ rpm)',\n",
       "       '250nm@ 1500-3000rpm', '159.8Nm@ 1500-2750rpm', '500Nm@ 2000rpm',\n",
       "       '333Nm@ 1600-3200rpm', '400nm@ 2800rpm',\n",
       "       '33@ 2,000-2,680(kgm@ rpm)', '10.2@ 2,600(kgm@ rpm)', '480Nm',\n",
       "       '190Nm@ 4300rpm', '320Nm@ 1800-2800rpm', '380Nm@ 1750rpm',\n",
       "       '250.06nm@ 1500-2750rpm', '90nm@ 3500rpm', '190Nm@ 3700rpm',\n",
       "       '436.4Nm@ 1800-2500rpm', '96  Nm at 3000  rpm '], dtype=object)"
      ]
     },
     "execution_count": 38,
     "metadata": {},
     "output_type": "execute_result"
    }
   ],
   "source": [
    "car_dataset['torque'].unique()"
   ]
  },
  {
   "cell_type": "code",
   "execution_count": 39,
   "id": "17634427",
   "metadata": {
    "colab": {
     "base_uri": "https://localhost:8080/"
    },
    "id": "17634427",
    "outputId": "44d9acf8-5c92-4b80-ad8b-922e078d5cd8"
   },
   "outputs": [
    {
     "data": {
      "text/plain": [
       "array(['23.4  ', '21.14  ', '17.7  ', '23.0  ', '16.1  ', '20.14  ',\n",
       "       '17.3  ', '23.59  ', '20.0  ', '19.01  ', '19.3  ', 'mileage',\n",
       "       '18.9  ', '18.15  ', '24.52  ', '19.7  ', '22.54  ', '21.0  ',\n",
       "       '25.5  ', '26.59  ', '21.5  ', '20.3  ', '21.4  ', '24.7  ',\n",
       "       '18.2  ', '16.8  ', '24.3  ', '14.0  ', '18.6  ', '33.44  ',\n",
       "       '23.95  ', '17.0  ', '20.63  ', '13.93  ', '16.0  ', '17.8  ',\n",
       "       '18.5  ', '12.55  ', '12.99  ', '14.8  ', '13.5  ', '26.0  ',\n",
       "       '20.65  ', '27.3  ', '11.36  ', '17.68  ', '14.28  ', '18.53  ',\n",
       "       '14.84  ', '21.12  ', '20.36  ', '21.27  ', '18.16  ', '22.0  ',\n",
       "       '25.1  ', '20.51  ', '21.66  ', '25.2  ', '22.9  ', '16.02  ',\n",
       "       '20.54  ', '22.77  ', '15.71  ', '23.1  ', '19.02  ', '19.81  ',\n",
       "       '26.2  ', '16.47  ', '15.04  ', '19.1  ', '21.79  ', '18.8  ',\n",
       "       '21.21  ', '15.37  ', '11.79  ', '19.0  ', '14.3  ', '15.8  ',\n",
       "       '15.1  ', '19.09  ', '22.32  ', '21.9  ', '14.53  ', '21.63  ',\n",
       "       '20.85  ', '20.45  ', '19.67  ', '23.01  ', '20.77  ', '17.92  ',\n",
       "       '17.01  ', '22.37  ', '19.33  ', '9.5  ', '12.83  ', '22.48  ',\n",
       "       '16.78  ', '14.67  ', '15.0  ', '13.96  ', '18.0  ', '12.07  ',\n",
       "       '26.21  ', '10.8  ', '16.3  ', '13.6  ', '14.74  ', '15.6  ',\n",
       "       '19.56  ', '22.69  ', '19.16  ', '18.12  ', '12.1  ', '17.5  ',\n",
       "       '42.0  ', '20.4  ', '21.1  ', '19.44  ', '13.0  ', '21.43  ',\n",
       "       '22.95  ', '16.2  ', '15.3  ', '28.09  ', '17.4  ', '19.4  ',\n",
       "       '26.6  ', '17.6  ', '28.4  ', '14.1  ', '25.17  ', '22.74  ',\n",
       "       '17.57  ', '16.95  ', '19.49  ', '17.21  ', '13.2  ', '14.2  ',\n",
       "       '26.8  ', '25.4  ', '11.5  ', '27.28  ', '17.97  ', '12.8  ',\n",
       "       '16.55  ', '12.05  ', '14.07  ', '21.02  ', '11.57  ', '17.9  ',\n",
       "       '15.96  ', '17.1  ', '17.19  ', '21.01  ', '24.0  ', '25.6  ',\n",
       "       '21.38  ', '23.84  ', '23.08  ', '14.24  ', '20.71  ', '15.64  ',\n",
       "       '14.5  ', '16.34  ', '27.39  ', '11.1  ', '13.9  ', '20.88  ',\n",
       "       '20.92  ', '23.8  ', '24.4  ', '15.29  ', '21.19  ', '22.5  ',\n",
       "       '19.6  ', '23.65  ', '25.32  ', '23.5  ', '16.6  ', '23.9  ',\n",
       "       '20.8  ', '27.62  ', '12.9  ', '25.44  ', '17.88  ', '22.7  ',\n",
       "       '17.2  ', '15.42  ', '19.68  ', '18.7  ', '15.4  ', '19.34  ',\n",
       "       '22.71  ', '25.8  ', '13.7  ', '12.2  ', '18.49  ', '9.0  ',\n",
       "       '0.0  ', '13.58  ', '10.1  ', '20.5  ', '25.0  ', '10.5  ',\n",
       "       '22.07  ', '22.3  ', '15.26  ', '20.62  ', '27.4  ', '23.2  ',\n",
       "       '14.4  ', '18.4  ', '30.46  ', '14.02  ', '11.0  ', '20.6  ',\n",
       "       '22.05  ', '20.2  ', '18.1  ', '22.1  ', '19.87  ', '13.01  ',\n",
       "       '18.06  ', '26.1  ', '16.52  ', '13.55  ', '24.2  ', '25.83  ',\n",
       "       '11.2  ', '17.09  ', '21.03  ', '17.45  ', '21.64  ', '21.94  ',\n",
       "       '13.87  ', '19.98  ', '20.52  ', '23.57  ', '11.7  ', '17.43  ',\n",
       "       '18.88  ', '13.68  ', '11.18  ', '20.89  ', '11.8  ', '19.62  ',\n",
       "       '21.7  ', '14.9  ', '19.5  ', '10.91  ', '15.7  ', '20.73  ',\n",
       "       '15.85  ', '20.7  ', '14.23  ', '16.5  ', '17.36  ', '12.6  ',\n",
       "       '16.36  ', '14.95  ', '16.9  ', '19.2  ', '16.96  ', '22.15  ',\n",
       "       '18.78  ', '19.61  ', '17.71  ', '18.3  ', '19.12  ', '19.72  ',\n",
       "       '12.0  ', '11.4  ', '23.03  ', '11.07  ', '15.9  ', '17.67  ',\n",
       "       '20.46  ', '13.1  ', '13.45  ', '24.8  ', '15.73  ', '15.11  ',\n",
       "       '12.7  ', '21.2  ', '20.38  ', '21.56  ', '13.22  ', '14.49  ',\n",
       "       '15.05  ', '23.26  ', '15.41  ', '13.8  ', '22.27  ', '32.52  ',\n",
       "       '14.66  ', '12.12  ', '16.84  ', '14.09  ', '14.7  ', '13.4  ',\n",
       "       '15.5  ', '13.49  ', '11.88  ', '14.6  ', '10.75  ', '24.5  ',\n",
       "       '11.74  ', '16.07  ', '15.63  ', '26.3  ', '23.7  ', '25.47  ',\n",
       "       '17.05  ', '23.3  ', '11.9  ', '13.38  ', '20.86  ', '10.9  ',\n",
       "       '18.25  ', '15.2  ', '20.37  ', '21.8  ', '11.96  ', '24.04  ',\n",
       "       '19.69  ', '13.73  ', '21.04  ', '25.01  ', '10.93  ', '24.29  ',\n",
       "       '13.44  ', '20.07  ', '19.08  ', '20.34  ', '11.68  ', '12.5  ',\n",
       "       '12.3  ', '23.87  ', '16.38  ', '17.42  ', '10.0  ', '18.24  ',\n",
       "       '10.71  ', '19.59  ', '16.7  ', '19.83  ', '21.76  ', '16.05  ',\n",
       "       '20.28  ', '16.25  ', '16.73  ', '18.48  ', '14.99  ', '18.76  ',\n",
       "       '16.4  ', '19.64  ', '14.94  ', '17.11  ', '22.8  ', '32.26  ',\n",
       "       '33.0  ', '12.4  ', '18.44  ', '16.09  ', '12.62  ', '21.13  ',\n",
       "       '15.17  ', '21.73  ', '21.72  ', '12.85  ', '14.81  ', '13.24  ',\n",
       "       '21.49  ', '14.62  ', '26.83  ', '11.45  ', '12.08  ', '15.74  ',\n",
       "       '11.3  ', '14.21  ', '11.72  ', '16.51  '], dtype=object)"
      ]
     },
     "execution_count": 39,
     "metadata": {},
     "output_type": "execute_result"
    }
   ],
   "source": [
    "car_dataset['mileage'].unique()"
   ]
  },
  {
   "cell_type": "code",
   "execution_count": 40,
   "id": "17aa5b52",
   "metadata": {
    "colab": {
     "base_uri": "https://localhost:8080/"
    },
    "id": "17aa5b52",
    "outputId": "c4b097c9-d7d5-4fcb-ac02-73c6c6670595"
   },
   "outputs": [
    {
     "name": "stdout",
     "output_type": "stream",
     "text": [
      "Diesel    506\n",
      "Petrol    384\n",
      "CNG        19\n",
      "LPG        12\n",
      "Name: fuel, dtype: int64\n",
      "Individual          746\n",
      "Dealer              167\n",
      "Trustmark Dealer      8\n",
      "Name: seller_type, dtype: int64\n",
      "Manual       695\n",
      "Automatic    226\n",
      "Name: transmission, dtype: int64\n"
     ]
    }
   ],
   "source": [
    "#checking the counts of  attributes\n",
    "\n",
    "print(car_dataset.fuel.value_counts())\n",
    "print(car_dataset.seller_type.value_counts())\n",
    "print(car_dataset.transmission .value_counts())"
   ]
  },
  {
   "cell_type": "markdown",
   "id": "9d42d6ba",
   "metadata": {
    "id": "9d42d6ba"
   },
   "source": [
    "# Data Visualization"
   ]
  },
  {
   "cell_type": "code",
   "execution_count": 41,
   "id": "4263497e",
   "metadata": {
    "id": "4263497e"
   },
   "outputs": [],
   "source": [
    "#creating variables for storing attributs and perform the plots\n",
    "fuel=car_dataset['fuel']\n",
    "seller_type=car_dataset['seller_type']\n",
    "transmission=car_dataset['transmission']\n",
    "selling_price=car_dataset['selling_price']\n"
   ]
  },
  {
   "cell_type": "code",
   "execution_count": 42,
   "id": "ff4b2d22",
   "metadata": {
    "id": "ff4b2d22"
   },
   "outputs": [],
   "source": [
    "from matplotlib import style"
   ]
  },
  {
   "cell_type": "code",
   "execution_count": 43,
   "id": "42716ab8",
   "metadata": {
    "colab": {
     "base_uri": "https://localhost:8080/",
     "height": 532
    },
    "id": "42716ab8",
    "outputId": "762004b3-7db6-42b6-92ca-274f0102ca38"
   },
   "outputs": [
    {
     "data": {
      "text/plain": [
       "<Axes: xlabel='transmission', ylabel='selling_price'>"
      ]
     },
     "execution_count": 43,
     "metadata": {},
     "output_type": "execute_result"
    },
    {
     "data": {
      "image/png": "[encoded data removed]",
      "text/plain": [
       "<Figure size 1500x500 with 3 Axes>"
      ]
     },
     "metadata": {},
     "output_type": "display_data"
    }
   ],
   "source": [
    "fig,axes=plt.subplots(1,3,figsize=(15,5),sharey=True)\n",
    "fig.suptitle(\"Visualization\")\n",
    "sns.barplot(x=fuel,y=selling_price,ax=axes[0])\n",
    "sns.barplot(x=seller_type,y=selling_price,ax=axes[1])\n",
    "sns.barplot(x=transmission,y=selling_price,ax=axes[2])"
   ]
  },
  {
   "cell_type": "markdown",
   "id": "dab062bb",
   "metadata": {
    "id": "dab062bb"
   },
   "source": [
    "# Observation\n",
    "\n",
    "Selling Price of cars seems to have higher prices when sold by Dealers when compared to Individuals\n",
    "\n",
    "It can be observed that Selling Price would be higher for cars that are Automatic.\n",
    "\n",
    "Selling Price of cars with Fuel Type of Diesel is higher than Petrol and CNG"
   ]
  },
  {
   "cell_type": "code",
   "execution_count": 44,
   "id": "e0621519",
   "metadata": {
    "colab": {
     "base_uri": "https://localhost:8080/",
     "height": 657
    },
    "id": "e0621519",
    "outputId": "37639c9d-c4b7-464b-ff4a-933befe74b66"
   },
   "outputs": [
    {
     "name": "stderr",
     "output_type": "stream",
     "text": [
      "C:\\Users\\DELL LYF\\AppData\\Local\\Temp\\ipykernel_880\\1948968213.py:1: UserWarning: \n",
      "\n",
      "`distplot` is a deprecated function and will be removed in seaborn v0.14.0.\n",
      "\n",
      "Please adapt your code to use either `displot` (a figure-level function with\n",
      "similar flexibility) or `histplot` (an axes-level function for histograms).\n",
      "\n",
      "For a guide to updating your code to use the new functions, please see\n",
      "https://gist.github.com/mwaskom/de44147ed2974457ad6372750bbe5751\n",
      "\n",
      "  sns.distplot((car_dataset[\"year\"]))\n"
     ]
    },
    {
     "data": {
      "text/plain": [
       "<Axes: xlabel='year', ylabel='Density'>"
      ]
     },
     "execution_count": 44,
     "metadata": {},
     "output_type": "execute_result"
    },
    {
     "data": {
      "image/png": "[encoded data removed]",
      "text/plain": [
       "<Figure size 640x480 with 1 Axes>"
      ]
     },
     "metadata": {},
     "output_type": "display_data"
    }
   ],
   "source": [
    "sns.distplot((car_dataset[\"year\"]))"
   ]
  },
  {
   "cell_type": "markdown",
   "id": "719b1a93",
   "metadata": {
    "id": "719b1a93"
   },
   "source": [
    "# Observation\n",
    "\n",
    "In the year of 2010 to 2020 have the high price"
   ]
  },
  {
   "cell_type": "code",
   "execution_count": 45,
   "id": "8a98b21d",
   "metadata": {
    "colab": {
     "base_uri": "https://localhost:8080/",
     "height": 619
    },
    "id": "8a98b21d",
    "outputId": "744fb7d6-4563-4a0e-eb22-5bfea6d14446"
   },
   "outputs": [
    {
     "data": {
      "image/png": "[encoded data removed]",
      "text/plain": [
       "<Figure size 1500x700 with 1 Axes>"
      ]
     },
     "metadata": {},
     "output_type": "display_data"
    }
   ],
   "source": [
    "sns.set_style('whitegrid')\n",
    "plt.figure(figsize=(15,7))\n",
    "sns.histplot(car_dataset.selling_price,kde=True,color='green')\n",
    "plt.show()"
   ]
  },
  {
   "cell_type": "markdown",
   "id": "14da3007",
   "metadata": {
    "id": "14da3007"
   },
   "source": [
    "# Observation\n",
    "\n",
    "\n",
    "Car count is high in the price of 0.1 to 0.2"
   ]
  },
  {
   "cell_type": "code",
   "execution_count": 46,
   "id": "7b5612ca",
   "metadata": {
    "colab": {
     "base_uri": "https://localhost:8080/",
     "height": 673
    },
    "id": "7b5612ca",
    "outputId": "f92b8dd5-06d7-4ad5-a9f4-b1a08195711d"
   },
   "outputs": [
    {
     "name": "stderr",
     "output_type": "stream",
     "text": [
      "C:\\Users\\DELL LYF\\AppData\\Local\\Temp\\ipykernel_880\\2061104225.py:1: UserWarning: \n",
      "\n",
      "`distplot` is a deprecated function and will be removed in seaborn v0.14.0.\n",
      "\n",
      "Please adapt your code to use either `displot` (a figure-level function with\n",
      "similar flexibility) or `histplot` (an axes-level function for histograms).\n",
      "\n",
      "For a guide to updating your code to use the new functions, please see\n",
      "https://gist.github.com/mwaskom/de44147ed2974457ad6372750bbe5751\n",
      "\n",
      "  sns.distplot((car_dataset[\"km_driven\"]))\n"
     ]
    },
    {
     "data": {
      "text/plain": [
       "<Axes: xlabel='km_driven', ylabel='Density'>"
      ]
     },
     "execution_count": 46,
     "metadata": {},
     "output_type": "execute_result"
    },
    {
     "data": {
      "image/png": "[encoded data removed]",
      "text/plain": [
       "<Figure size 640x480 with 1 Axes>"
      ]
     },
     "metadata": {},
     "output_type": "display_data"
    }
   ],
   "source": [
    "sns.distplot((car_dataset[\"km_driven\"]))"
   ]
  },
  {
   "cell_type": "markdown",
   "id": "e11340f7",
   "metadata": {
    "id": "e11340f7"
   },
   "source": [
    "# Observation\n",
    "\n",
    "50000  km  to  100000  driven cars have the high selling price."
   ]
  },
  {
   "cell_type": "code",
   "execution_count": 47,
   "id": "5f8ca3c5",
   "metadata": {
    "colab": {
     "base_uri": "https://localhost:8080/"
    },
    "id": "5f8ca3c5",
    "outputId": "dcfcddae-4f5b-40f7-a90c-136d5493b7ef"
   },
   "outputs": [
    {
     "data": {
      "text/plain": [
       "array(['First Owner', 'Second Owner', 'Third Owner',\n",
       "       'Fourth & Above Owner', 'Test Drive Car'], dtype=object)"
      ]
     },
     "execution_count": 47,
     "metadata": {},
     "output_type": "execute_result"
    }
   ],
   "source": [
    "car_dataset['owner'].unique()"
   ]
  },
  {
   "cell_type": "markdown",
   "id": "7d6bf21b",
   "metadata": {
    "id": "7d6bf21b"
   },
   "source": [
    "# Co-relation plot"
   ]
  },
  {
   "cell_type": "code",
   "execution_count": 48,
   "id": "43770a14",
   "metadata": {
    "colab": {
     "base_uri": "https://localhost:8080/",
     "height": 206
    },
    "id": "43770a14",
    "outputId": "b5f2465b-e4e8-4906-e4e3-cb115542b233"
   },
   "outputs": [
    {
     "data": {
      "text/html": [
       "<div>\n",
       "<style scoped>\n",
       "    .dataframe tbody tr th:only-of-type {\n",
       "        vertical-align: middle;\n",
       "    }\n",
       "\n",
       "    .dataframe tbody tr th {\n",
       "        vertical-align: top;\n",
       "    }\n",
       "\n",
       "    .dataframe thead th {\n",
       "        text-align: right;\n",
       "    }\n",
       "</style>\n",
       "<table border=\"1\" class=\"dataframe\">\n",
       "  <thead>\n",
       "    <tr style=\"text-align: right;\">\n",
       "      <th></th>\n",
       "      <th>name</th>\n",
       "      <th>year</th>\n",
       "      <th>selling_price</th>\n",
       "      <th>km_driven</th>\n",
       "      <th>fuel</th>\n",
       "      <th>seller_type</th>\n",
       "      <th>transmission</th>\n",
       "      <th>owner</th>\n",
       "      <th>mileage</th>\n",
       "      <th>engine</th>\n",
       "      <th>max_power</th>\n",
       "      <th>torque</th>\n",
       "      <th>seats</th>\n",
       "    </tr>\n",
       "  </thead>\n",
       "  <tbody>\n",
       "    <tr>\n",
       "      <th>0</th>\n",
       "      <td>Maruti Swift Dzire VDI</td>\n",
       "      <td>2014</td>\n",
       "      <td>450000</td>\n",
       "      <td>145500</td>\n",
       "      <td>1</td>\n",
       "      <td>1</td>\n",
       "      <td>0</td>\n",
       "      <td>0</td>\n",
       "      <td>23.4</td>\n",
       "      <td>1248</td>\n",
       "      <td>74</td>\n",
       "      <td>190Nm@ 2000rpm</td>\n",
       "      <td>5.0</td>\n",
       "    </tr>\n",
       "    <tr>\n",
       "      <th>1</th>\n",
       "      <td>Skoda Rapid 1.5 TDI Ambition</td>\n",
       "      <td>2014</td>\n",
       "      <td>370000</td>\n",
       "      <td>120000</td>\n",
       "      <td>1</td>\n",
       "      <td>1</td>\n",
       "      <td>0</td>\n",
       "      <td>1</td>\n",
       "      <td>21.14</td>\n",
       "      <td>1498</td>\n",
       "      <td>103.52</td>\n",
       "      <td>250Nm@ 1500-2500rpm</td>\n",
       "      <td>5.0</td>\n",
       "    </tr>\n",
       "    <tr>\n",
       "      <th>2</th>\n",
       "      <td>Honda City 2017-2020 EXi</td>\n",
       "      <td>2006</td>\n",
       "      <td>158000</td>\n",
       "      <td>140000</td>\n",
       "      <td>0</td>\n",
       "      <td>1</td>\n",
       "      <td>0</td>\n",
       "      <td>2</td>\n",
       "      <td>17.7</td>\n",
       "      <td>1497</td>\n",
       "      <td>78</td>\n",
       "      <td>12.7@ 2,700(kgm@ rpm)</td>\n",
       "      <td>5.0</td>\n",
       "    </tr>\n",
       "    <tr>\n",
       "      <th>3</th>\n",
       "      <td>Hyundai i20 Sportz Diesel</td>\n",
       "      <td>2010</td>\n",
       "      <td>225000</td>\n",
       "      <td>127000</td>\n",
       "      <td>1</td>\n",
       "      <td>1</td>\n",
       "      <td>0</td>\n",
       "      <td>0</td>\n",
       "      <td>23.0</td>\n",
       "      <td>1396</td>\n",
       "      <td>90</td>\n",
       "      <td>22.4 kgm at 1750-2750rpm</td>\n",
       "      <td>5.0</td>\n",
       "    </tr>\n",
       "    <tr>\n",
       "      <th>4</th>\n",
       "      <td>Maruti Swift VXI BSIII</td>\n",
       "      <td>2007</td>\n",
       "      <td>130000</td>\n",
       "      <td>120000</td>\n",
       "      <td>0</td>\n",
       "      <td>1</td>\n",
       "      <td>0</td>\n",
       "      <td>0</td>\n",
       "      <td>16.1</td>\n",
       "      <td>1298</td>\n",
       "      <td>88.2</td>\n",
       "      <td>11.5@ 4,500(kgm@ rpm)</td>\n",
       "      <td>5.0</td>\n",
       "    </tr>\n",
       "  </tbody>\n",
       "</table>\n",
       "</div>"
      ],
      "text/plain": [
       "                           name  year  selling_price  km_driven  fuel  \\\n",
       "0        Maruti Swift Dzire VDI  2014         450000     145500     1   \n",
       "1  Skoda Rapid 1.5 TDI Ambition  2014         370000     120000     1   \n",
       "2      Honda City 2017-2020 EXi  2006         158000     140000     0   \n",
       "3     Hyundai i20 Sportz Diesel  2010         225000     127000     1   \n",
       "4        Maruti Swift VXI BSIII  2007         130000     120000     0   \n",
       "\n",
       "   seller_type  transmission  owner  mileage  engine max_power  \\\n",
       "0            1             0      0   23.4    1248        74     \n",
       "1            1             0      1  21.14    1498    103.52     \n",
       "2            1             0      2   17.7    1497        78     \n",
       "3            1             0      0   23.0    1396        90     \n",
       "4            1             0      0   16.1    1298      88.2     \n",
       "\n",
       "                     torque seats  \n",
       "0            190Nm@ 2000rpm   5.0  \n",
       "1       250Nm@ 1500-2500rpm   5.0  \n",
       "2     12.7@ 2,700(kgm@ rpm)   5.0  \n",
       "3  22.4 kgm at 1750-2750rpm   5.0  \n",
       "4     11.5@ 4,500(kgm@ rpm)   5.0  "
      ]
     },
     "execution_count": 48,
     "metadata": {},
     "output_type": "execute_result"
    }
   ],
   "source": [
    "#encoding\n",
    "\n",
    "car_dataset.replace({'fuel':{'Petrol':0,'Diesel':1,'CNG':2,'LPG':3}},inplace=True)\n",
    "car_dataset.replace({'seller_type':{'Dealer':0,'Individual':1,'Trustmark Dealer':2}},inplace=True)\n",
    "car_dataset.replace({'transmission':{'Manual':0,'Automatic':1}},inplace=True)\n",
    "car_dataset.replace({'owner':{'First Owner':0,'Second Owner':1,'Third Owner':2,'Fourth & Above Owner':3,'Test Drive Car':4}},inplace=True)\n",
    "car_dataset.head()\n"
   ]
  },
  {
   "cell_type": "code",
   "execution_count": 49,
   "id": "d228e26c",
   "metadata": {
    "colab": {
     "base_uri": "https://localhost:8080/",
     "height": 694
    },
    "id": "d228e26c",
    "outputId": "09786b64-b721-4b32-aeb7-864acd758a65"
   },
   "outputs": [
    {
     "name": "stderr",
     "output_type": "stream",
     "text": [
      "C:\\Users\\DELL LYF\\AppData\\Local\\Temp\\ipykernel_880\\1633798671.py:2: FutureWarning: The default value of numeric_only in DataFrame.corr is deprecated. In a future version, it will default to False. Select only valid columns or specify the value of numeric_only to silence this warning.\n",
      "  sns.heatmap(car_dataset.corr(),annot=True)\n"
     ]
    },
    {
     "data": {
      "text/plain": [
       "<function matplotlib.pyplot.show(close=None, block=None)>"
      ]
     },
     "execution_count": 49,
     "metadata": {},
     "output_type": "execute_result"
    },
    {
     "data": {
      "image/png": "[encoded data removed]",
      "text/plain": [
       "<Figure size 1000x700 with 2 Axes>"
      ]
     },
     "metadata": {},
     "output_type": "display_data"
    }
   ],
   "source": [
    "plt.figure(figsize=(10,7))\n",
    "sns.heatmap(car_dataset.corr(),annot=True)\n",
    "plt.title(\"correlation\")\n",
    "plt.show"
   ]
  },
  {
   "cell_type": "markdown",
   "id": "d7afda29",
   "metadata": {
    "id": "d7afda29"
   },
   "source": [
    "# Test-Train Split"
   ]
  },
  {
   "cell_type": "code",
   "execution_count": 50,
   "id": "cEUh9AHhIACM",
   "metadata": {
    "id": "cEUh9AHhIACM"
   },
   "outputs": [],
   "source": [
    "car_dataset['mileage'] = pd.to_numeric(car_dataset['mileage'], errors='coerce')\n",
    "car_dataset['engine'] = pd.to_numeric(car_dataset['engine'], errors='coerce')\n",
    "car_dataset['max_power'] = pd.to_numeric(car_dataset['max_power'], errors='coerce')\n",
    "car_dataset['seats'] = pd.to_numeric(car_dataset['seats'], errors='coerce')"
   ]
  },
  {
   "cell_type": "code",
   "execution_count": 51,
   "id": "f9cfaeba",
   "metadata": {
    "id": "f9cfaeba"
   },
   "outputs": [],
   "source": [
    "#assigning x,y values\n",
    "x=car_dataset[['year','km_driven','fuel','seller_type','transmission','owner','mileage','engine','max_power','seats']]\n",
    "y=car_dataset[['selling_price']]"
   ]
  },
  {
   "cell_type": "code",
   "execution_count": 52,
   "id": "61664574",
   "metadata": {
    "colab": {
     "base_uri": "https://localhost:8080/",
     "height": 423
    },
    "id": "61664574",
    "outputId": "29f77cce-0519-4414-ba95-6e000a67e0a4"
   },
   "outputs": [
    {
     "data": {
      "text/html": [
       "<div>\n",
       "<style scoped>\n",
       "    .dataframe tbody tr th:only-of-type {\n",
       "        vertical-align: middle;\n",
       "    }\n",
       "\n",
       "    .dataframe tbody tr th {\n",
       "        vertical-align: top;\n",
       "    }\n",
       "\n",
       "    .dataframe thead th {\n",
       "        text-align: right;\n",
       "    }\n",
       "</style>\n",
       "<table border=\"1\" class=\"dataframe\">\n",
       "  <thead>\n",
       "    <tr style=\"text-align: right;\">\n",
       "      <th></th>\n",
       "      <th>year</th>\n",
       "      <th>km_driven</th>\n",
       "      <th>fuel</th>\n",
       "      <th>seller_type</th>\n",
       "      <th>transmission</th>\n",
       "      <th>owner</th>\n",
       "      <th>mileage</th>\n",
       "      <th>engine</th>\n",
       "      <th>max_power</th>\n",
       "      <th>seats</th>\n",
       "    </tr>\n",
       "  </thead>\n",
       "  <tbody>\n",
       "    <tr>\n",
       "      <th>0</th>\n",
       "      <td>2014</td>\n",
       "      <td>145500</td>\n",
       "      <td>1</td>\n",
       "      <td>1</td>\n",
       "      <td>0</td>\n",
       "      <td>0</td>\n",
       "      <td>23.40</td>\n",
       "      <td>1248.0</td>\n",
       "      <td>74.00</td>\n",
       "      <td>5.0</td>\n",
       "    </tr>\n",
       "    <tr>\n",
       "      <th>1</th>\n",
       "      <td>2014</td>\n",
       "      <td>120000</td>\n",
       "      <td>1</td>\n",
       "      <td>1</td>\n",
       "      <td>0</td>\n",
       "      <td>1</td>\n",
       "      <td>21.14</td>\n",
       "      <td>1498.0</td>\n",
       "      <td>103.52</td>\n",
       "      <td>5.0</td>\n",
       "    </tr>\n",
       "    <tr>\n",
       "      <th>2</th>\n",
       "      <td>2006</td>\n",
       "      <td>140000</td>\n",
       "      <td>0</td>\n",
       "      <td>1</td>\n",
       "      <td>0</td>\n",
       "      <td>2</td>\n",
       "      <td>17.70</td>\n",
       "      <td>1497.0</td>\n",
       "      <td>78.00</td>\n",
       "      <td>5.0</td>\n",
       "    </tr>\n",
       "    <tr>\n",
       "      <th>3</th>\n",
       "      <td>2010</td>\n",
       "      <td>127000</td>\n",
       "      <td>1</td>\n",
       "      <td>1</td>\n",
       "      <td>0</td>\n",
       "      <td>0</td>\n",
       "      <td>23.00</td>\n",
       "      <td>1396.0</td>\n",
       "      <td>90.00</td>\n",
       "      <td>5.0</td>\n",
       "    </tr>\n",
       "    <tr>\n",
       "      <th>4</th>\n",
       "      <td>2007</td>\n",
       "      <td>120000</td>\n",
       "      <td>0</td>\n",
       "      <td>1</td>\n",
       "      <td>0</td>\n",
       "      <td>0</td>\n",
       "      <td>16.10</td>\n",
       "      <td>1298.0</td>\n",
       "      <td>88.20</td>\n",
       "      <td>5.0</td>\n",
       "    </tr>\n",
       "    <tr>\n",
       "      <th>...</th>\n",
       "      <td>...</td>\n",
       "      <td>...</td>\n",
       "      <td>...</td>\n",
       "      <td>...</td>\n",
       "      <td>...</td>\n",
       "      <td>...</td>\n",
       "      <td>...</td>\n",
       "      <td>...</td>\n",
       "      <td>...</td>\n",
       "      <td>...</td>\n",
       "    </tr>\n",
       "    <tr>\n",
       "      <th>8045</th>\n",
       "      <td>2017</td>\n",
       "      <td>20171</td>\n",
       "      <td>1</td>\n",
       "      <td>0</td>\n",
       "      <td>1</td>\n",
       "      <td>0</td>\n",
       "      <td>19.87</td>\n",
       "      <td>1461.0</td>\n",
       "      <td>108.50</td>\n",
       "      <td>5.0</td>\n",
       "    </tr>\n",
       "    <tr>\n",
       "      <th>8058</th>\n",
       "      <td>2017</td>\n",
       "      <td>8000</td>\n",
       "      <td>0</td>\n",
       "      <td>0</td>\n",
       "      <td>1</td>\n",
       "      <td>0</td>\n",
       "      <td>16.60</td>\n",
       "      <td>1798.0</td>\n",
       "      <td>177.50</td>\n",
       "      <td>5.0</td>\n",
       "    </tr>\n",
       "    <tr>\n",
       "      <th>8074</th>\n",
       "      <td>2013</td>\n",
       "      <td>60000</td>\n",
       "      <td>0</td>\n",
       "      <td>1</td>\n",
       "      <td>0</td>\n",
       "      <td>2</td>\n",
       "      <td>16.51</td>\n",
       "      <td>1586.0</td>\n",
       "      <td>103.20</td>\n",
       "      <td>5.0</td>\n",
       "    </tr>\n",
       "    <tr>\n",
       "      <th>8081</th>\n",
       "      <td>2005</td>\n",
       "      <td>100000</td>\n",
       "      <td>0</td>\n",
       "      <td>1</td>\n",
       "      <td>1</td>\n",
       "      <td>1</td>\n",
       "      <td>12.00</td>\n",
       "      <td>1493.0</td>\n",
       "      <td>100.00</td>\n",
       "      <td>5.0</td>\n",
       "    </tr>\n",
       "    <tr>\n",
       "      <th>8094</th>\n",
       "      <td>2012</td>\n",
       "      <td>80868</td>\n",
       "      <td>0</td>\n",
       "      <td>1</td>\n",
       "      <td>0</td>\n",
       "      <td>2</td>\n",
       "      <td>13.70</td>\n",
       "      <td>1368.0</td>\n",
       "      <td>88.80</td>\n",
       "      <td>5.0</td>\n",
       "    </tr>\n",
       "  </tbody>\n",
       "</table>\n",
       "<p>921 rows × 10 columns</p>\n",
       "</div>"
      ],
      "text/plain": [
       "      year  km_driven  fuel  seller_type  transmission  owner  mileage  \\\n",
       "0     2014     145500     1            1             0      0    23.40   \n",
       "1     2014     120000     1            1             0      1    21.14   \n",
       "2     2006     140000     0            1             0      2    17.70   \n",
       "3     2010     127000     1            1             0      0    23.00   \n",
       "4     2007     120000     0            1             0      0    16.10   \n",
       "...    ...        ...   ...          ...           ...    ...      ...   \n",
       "8045  2017      20171     1            0             1      0    19.87   \n",
       "8058  2017       8000     0            0             1      0    16.60   \n",
       "8074  2013      60000     0            1             0      2    16.51   \n",
       "8081  2005     100000     0            1             1      1    12.00   \n",
       "8094  2012      80868     0            1             0      2    13.70   \n",
       "\n",
       "      engine  max_power  seats  \n",
       "0     1248.0      74.00    5.0  \n",
       "1     1498.0     103.52    5.0  \n",
       "2     1497.0      78.00    5.0  \n",
       "3     1396.0      90.00    5.0  \n",
       "4     1298.0      88.20    5.0  \n",
       "...      ...        ...    ...  \n",
       "8045  1461.0     108.50    5.0  \n",
       "8058  1798.0     177.50    5.0  \n",
       "8074  1586.0     103.20    5.0  \n",
       "8081  1493.0     100.00    5.0  \n",
       "8094  1368.0      88.80    5.0  \n",
       "\n",
       "[921 rows x 10 columns]"
      ]
     },
     "execution_count": 52,
     "metadata": {},
     "output_type": "execute_result"
    }
   ],
   "source": [
    "x"
   ]
  },
  {
   "cell_type": "code",
   "execution_count": 53,
   "id": "013906b6",
   "metadata": {
    "colab": {
     "base_uri": "https://localhost:8080/",
     "height": 423
    },
    "id": "013906b6",
    "outputId": "4f4d80ff-b0a6-4595-c943-235e77e23bfa"
   },
   "outputs": [
    {
     "data": {
      "text/html": [
       "<div>\n",
       "<style scoped>\n",
       "    .dataframe tbody tr th:only-of-type {\n",
       "        vertical-align: middle;\n",
       "    }\n",
       "\n",
       "    .dataframe tbody tr th {\n",
       "        vertical-align: top;\n",
       "    }\n",
       "\n",
       "    .dataframe thead th {\n",
       "        text-align: right;\n",
       "    }\n",
       "</style>\n",
       "<table border=\"1\" class=\"dataframe\">\n",
       "  <thead>\n",
       "    <tr style=\"text-align: right;\">\n",
       "      <th></th>\n",
       "      <th>selling_price</th>\n",
       "    </tr>\n",
       "  </thead>\n",
       "  <tbody>\n",
       "    <tr>\n",
       "      <th>0</th>\n",
       "      <td>450000</td>\n",
       "    </tr>\n",
       "    <tr>\n",
       "      <th>1</th>\n",
       "      <td>370000</td>\n",
       "    </tr>\n",
       "    <tr>\n",
       "      <th>2</th>\n",
       "      <td>158000</td>\n",
       "    </tr>\n",
       "    <tr>\n",
       "      <th>3</th>\n",
       "      <td>225000</td>\n",
       "    </tr>\n",
       "    <tr>\n",
       "      <th>4</th>\n",
       "      <td>130000</td>\n",
       "    </tr>\n",
       "    <tr>\n",
       "      <th>...</th>\n",
       "      <td>...</td>\n",
       "    </tr>\n",
       "    <tr>\n",
       "      <th>8045</th>\n",
       "      <td>750000</td>\n",
       "    </tr>\n",
       "    <tr>\n",
       "      <th>8058</th>\n",
       "      <td>1689999</td>\n",
       "    </tr>\n",
       "    <tr>\n",
       "      <th>8074</th>\n",
       "      <td>295000</td>\n",
       "    </tr>\n",
       "    <tr>\n",
       "      <th>8081</th>\n",
       "      <td>110000</td>\n",
       "    </tr>\n",
       "    <tr>\n",
       "      <th>8094</th>\n",
       "      <td>200000</td>\n",
       "    </tr>\n",
       "  </tbody>\n",
       "</table>\n",
       "<p>921 rows × 1 columns</p>\n",
       "</div>"
      ],
      "text/plain": [
       "      selling_price\n",
       "0            450000\n",
       "1            370000\n",
       "2            158000\n",
       "3            225000\n",
       "4            130000\n",
       "...             ...\n",
       "8045         750000\n",
       "8058        1689999\n",
       "8074         295000\n",
       "8081         110000\n",
       "8094         200000\n",
       "\n",
       "[921 rows x 1 columns]"
      ]
     },
     "execution_count": 53,
     "metadata": {},
     "output_type": "execute_result"
    }
   ],
   "source": [
    "y"
   ]
  },
  {
   "cell_type": "code",
   "execution_count": 55,
   "id": "ada16e29",
   "metadata": {
    "id": "ada16e29"
   },
   "outputs": [],
   "source": [
    "# Splitting the data into train and test\n",
    "x_train,x_test,y_train,y_test=train_test_split(x,y,test_size=0.3,random_state=46)"
   ]
  },
  {
   "cell_type": "code",
   "execution_count": 56,
   "id": "a78887e0",
   "metadata": {
    "colab": {
     "base_uri": "https://localhost:8080/"
    },
    "id": "a78887e0",
    "outputId": "20c8086c-d90c-495c-c60d-e1b387f4279b"
   },
   "outputs": [
    {
     "data": {
      "text/plain": [
       "((644, 10), (277, 10), (644, 1), (277, 1))"
      ]
     },
     "execution_count": 56,
     "metadata": {},
     "output_type": "execute_result"
    }
   ],
   "source": [
    "# To check the shape\n",
    "x_train.shape, x_test.shape, y_train.shape, y_test.shape"
   ]
  },
  {
   "cell_type": "code",
   "execution_count": 57,
   "id": "e4b0fa93",
   "metadata": {
    "colab": {
     "base_uri": "https://localhost:8080/",
     "height": 423
    },
    "id": "e4b0fa93",
    "outputId": "5107ca69-f47b-4545-f9b7-cb1d9b53f515"
   },
   "outputs": [
    {
     "data": {
      "text/html": [
       "<div>\n",
       "<style scoped>\n",
       "    .dataframe tbody tr th:only-of-type {\n",
       "        vertical-align: middle;\n",
       "    }\n",
       "\n",
       "    .dataframe tbody tr th {\n",
       "        vertical-align: top;\n",
       "    }\n",
       "\n",
       "    .dataframe thead th {\n",
       "        text-align: right;\n",
       "    }\n",
       "</style>\n",
       "<table border=\"1\" class=\"dataframe\">\n",
       "  <thead>\n",
       "    <tr style=\"text-align: right;\">\n",
       "      <th></th>\n",
       "      <th>year</th>\n",
       "      <th>km_driven</th>\n",
       "      <th>fuel</th>\n",
       "      <th>seller_type</th>\n",
       "      <th>transmission</th>\n",
       "      <th>owner</th>\n",
       "      <th>mileage</th>\n",
       "      <th>engine</th>\n",
       "      <th>max_power</th>\n",
       "      <th>seats</th>\n",
       "    </tr>\n",
       "  </thead>\n",
       "  <tbody>\n",
       "    <tr>\n",
       "      <th>1410</th>\n",
       "      <td>2017</td>\n",
       "      <td>70000</td>\n",
       "      <td>1</td>\n",
       "      <td>1</td>\n",
       "      <td>0</td>\n",
       "      <td>0</td>\n",
       "      <td>16.30</td>\n",
       "      <td>1956.0</td>\n",
       "      <td>170.0</td>\n",
       "      <td>5.0</td>\n",
       "    </tr>\n",
       "    <tr>\n",
       "      <th>594</th>\n",
       "      <td>2010</td>\n",
       "      <td>59549</td>\n",
       "      <td>0</td>\n",
       "      <td>0</td>\n",
       "      <td>0</td>\n",
       "      <td>0</td>\n",
       "      <td>19.00</td>\n",
       "      <td>998.0</td>\n",
       "      <td>67.1</td>\n",
       "      <td>5.0</td>\n",
       "    </tr>\n",
       "    <tr>\n",
       "      <th>62</th>\n",
       "      <td>2011</td>\n",
       "      <td>110000</td>\n",
       "      <td>0</td>\n",
       "      <td>1</td>\n",
       "      <td>0</td>\n",
       "      <td>2</td>\n",
       "      <td>20.36</td>\n",
       "      <td>1197.0</td>\n",
       "      <td>78.9</td>\n",
       "      <td>5.0</td>\n",
       "    </tr>\n",
       "    <tr>\n",
       "      <th>4454</th>\n",
       "      <td>2006</td>\n",
       "      <td>74000</td>\n",
       "      <td>1</td>\n",
       "      <td>1</td>\n",
       "      <td>0</td>\n",
       "      <td>0</td>\n",
       "      <td>13.70</td>\n",
       "      <td>1948.0</td>\n",
       "      <td>68.0</td>\n",
       "      <td>7.0</td>\n",
       "    </tr>\n",
       "    <tr>\n",
       "      <th>43</th>\n",
       "      <td>2013</td>\n",
       "      <td>86300</td>\n",
       "      <td>0</td>\n",
       "      <td>0</td>\n",
       "      <td>0</td>\n",
       "      <td>0</td>\n",
       "      <td>16.80</td>\n",
       "      <td>1497.0</td>\n",
       "      <td>116.3</td>\n",
       "      <td>5.0</td>\n",
       "    </tr>\n",
       "    <tr>\n",
       "      <th>...</th>\n",
       "      <td>...</td>\n",
       "      <td>...</td>\n",
       "      <td>...</td>\n",
       "      <td>...</td>\n",
       "      <td>...</td>\n",
       "      <td>...</td>\n",
       "      <td>...</td>\n",
       "      <td>...</td>\n",
       "      <td>...</td>\n",
       "      <td>...</td>\n",
       "    </tr>\n",
       "    <tr>\n",
       "      <th>2239</th>\n",
       "      <td>2003</td>\n",
       "      <td>83000</td>\n",
       "      <td>0</td>\n",
       "      <td>1</td>\n",
       "      <td>0</td>\n",
       "      <td>1</td>\n",
       "      <td>13.80</td>\n",
       "      <td>1299.0</td>\n",
       "      <td>70.0</td>\n",
       "      <td>5.0</td>\n",
       "    </tr>\n",
       "    <tr>\n",
       "      <th>6044</th>\n",
       "      <td>2012</td>\n",
       "      <td>50000</td>\n",
       "      <td>1</td>\n",
       "      <td>1</td>\n",
       "      <td>1</td>\n",
       "      <td>0</td>\n",
       "      <td>16.09</td>\n",
       "      <td>1995.0</td>\n",
       "      <td>184.0</td>\n",
       "      <td>5.0</td>\n",
       "    </tr>\n",
       "    <tr>\n",
       "      <th>2418</th>\n",
       "      <td>2017</td>\n",
       "      <td>25000</td>\n",
       "      <td>0</td>\n",
       "      <td>1</td>\n",
       "      <td>0</td>\n",
       "      <td>0</td>\n",
       "      <td>18.12</td>\n",
       "      <td>1196.0</td>\n",
       "      <td>86.8</td>\n",
       "      <td>5.0</td>\n",
       "    </tr>\n",
       "    <tr>\n",
       "      <th>155</th>\n",
       "      <td>2016</td>\n",
       "      <td>11000</td>\n",
       "      <td>0</td>\n",
       "      <td>0</td>\n",
       "      <td>1</td>\n",
       "      <td>0</td>\n",
       "      <td>14.30</td>\n",
       "      <td>1598.0</td>\n",
       "      <td>103.5</td>\n",
       "      <td>5.0</td>\n",
       "    </tr>\n",
       "    <tr>\n",
       "      <th>267</th>\n",
       "      <td>2013</td>\n",
       "      <td>90000</td>\n",
       "      <td>0</td>\n",
       "      <td>1</td>\n",
       "      <td>1</td>\n",
       "      <td>1</td>\n",
       "      <td>17.97</td>\n",
       "      <td>1498.0</td>\n",
       "      <td>99.6</td>\n",
       "      <td>5.0</td>\n",
       "    </tr>\n",
       "  </tbody>\n",
       "</table>\n",
       "<p>277 rows × 10 columns</p>\n",
       "</div>"
      ],
      "text/plain": [
       "      year  km_driven  fuel  seller_type  transmission  owner  mileage  \\\n",
       "1410  2017      70000     1            1             0      0    16.30   \n",
       "594   2010      59549     0            0             0      0    19.00   \n",
       "62    2011     110000     0            1             0      2    20.36   \n",
       "4454  2006      74000     1            1             0      0    13.70   \n",
       "43    2013      86300     0            0             0      0    16.80   \n",
       "...    ...        ...   ...          ...           ...    ...      ...   \n",
       "2239  2003      83000     0            1             0      1    13.80   \n",
       "6044  2012      50000     1            1             1      0    16.09   \n",
       "2418  2017      25000     0            1             0      0    18.12   \n",
       "155   2016      11000     0            0             1      0    14.30   \n",
       "267   2013      90000     0            1             1      1    17.97   \n",
       "\n",
       "      engine  max_power  seats  \n",
       "1410  1956.0      170.0    5.0  \n",
       "594    998.0       67.1    5.0  \n",
       "62    1197.0       78.9    5.0  \n",
       "4454  1948.0       68.0    7.0  \n",
       "43    1497.0      116.3    5.0  \n",
       "...      ...        ...    ...  \n",
       "2239  1299.0       70.0    5.0  \n",
       "6044  1995.0      184.0    5.0  \n",
       "2418  1196.0       86.8    5.0  \n",
       "155   1598.0      103.5    5.0  \n",
       "267   1498.0       99.6    5.0  \n",
       "\n",
       "[277 rows x 10 columns]"
      ]
     },
     "execution_count": 57,
     "metadata": {},
     "output_type": "execute_result"
    }
   ],
   "source": [
    "x_test"
   ]
  },
  {
   "cell_type": "code",
   "execution_count": 58,
   "id": "73866577",
   "metadata": {
    "colab": {
     "base_uri": "https://localhost:8080/",
     "height": 423
    },
    "id": "73866577",
    "outputId": "932e7a7c-4be8-44b4-ad26-0479e07ab287"
   },
   "outputs": [
    {
     "data": {
      "text/html": [
       "<div>\n",
       "<style scoped>\n",
       "    .dataframe tbody tr th:only-of-type {\n",
       "        vertical-align: middle;\n",
       "    }\n",
       "\n",
       "    .dataframe tbody tr th {\n",
       "        vertical-align: top;\n",
       "    }\n",
       "\n",
       "    .dataframe thead th {\n",
       "        text-align: right;\n",
       "    }\n",
       "</style>\n",
       "<table border=\"1\" class=\"dataframe\">\n",
       "  <thead>\n",
       "    <tr style=\"text-align: right;\">\n",
       "      <th></th>\n",
       "      <th>selling_price</th>\n",
       "    </tr>\n",
       "  </thead>\n",
       "  <tbody>\n",
       "    <tr>\n",
       "      <th>1410</th>\n",
       "      <td>1950000</td>\n",
       "    </tr>\n",
       "    <tr>\n",
       "      <th>594</th>\n",
       "      <td>225000</td>\n",
       "    </tr>\n",
       "    <tr>\n",
       "      <th>62</th>\n",
       "      <td>190000</td>\n",
       "    </tr>\n",
       "    <tr>\n",
       "      <th>4454</th>\n",
       "      <td>130000</td>\n",
       "    </tr>\n",
       "    <tr>\n",
       "      <th>43</th>\n",
       "      <td>425000</td>\n",
       "    </tr>\n",
       "    <tr>\n",
       "      <th>...</th>\n",
       "      <td>...</td>\n",
       "    </tr>\n",
       "    <tr>\n",
       "      <th>2239</th>\n",
       "      <td>110000</td>\n",
       "    </tr>\n",
       "    <tr>\n",
       "      <th>6044</th>\n",
       "      <td>1800000</td>\n",
       "    </tr>\n",
       "    <tr>\n",
       "      <th>2418</th>\n",
       "      <td>570000</td>\n",
       "    </tr>\n",
       "    <tr>\n",
       "      <th>155</th>\n",
       "      <td>645000</td>\n",
       "    </tr>\n",
       "    <tr>\n",
       "      <th>267</th>\n",
       "      <td>350000</td>\n",
       "    </tr>\n",
       "  </tbody>\n",
       "</table>\n",
       "<p>277 rows × 1 columns</p>\n",
       "</div>"
      ],
      "text/plain": [
       "      selling_price\n",
       "1410        1950000\n",
       "594          225000\n",
       "62           190000\n",
       "4454         130000\n",
       "43           425000\n",
       "...             ...\n",
       "2239         110000\n",
       "6044        1800000\n",
       "2418         570000\n",
       "155          645000\n",
       "267          350000\n",
       "\n",
       "[277 rows x 1 columns]"
      ]
     },
     "execution_count": 58,
     "metadata": {},
     "output_type": "execute_result"
    }
   ],
   "source": [
    "\n",
    "y_test"
   ]
  },
  {
   "cell_type": "code",
   "execution_count": 59,
   "id": "b26WNOnxJ4N4",
   "metadata": {
    "colab": {
     "base_uri": "https://localhost:8080/"
    },
    "id": "b26WNOnxJ4N4",
    "outputId": "997064e9-d379-4147-b7fa-3e031967543a"
   },
   "outputs": [
    {
     "data": {
      "text/plain": [
       "year            0\n",
       "km_driven       0\n",
       "fuel            0\n",
       "seller_type     0\n",
       "transmission    0\n",
       "owner           0\n",
       "mileage         2\n",
       "engine          2\n",
       "max_power       2\n",
       "seats           2\n",
       "dtype: int64"
      ]
     },
     "execution_count": 59,
     "metadata": {},
     "output_type": "execute_result"
    }
   ],
   "source": [
    " x_train.isnull().sum()"
   ]
  },
  {
   "cell_type": "code",
   "execution_count": 60,
   "id": "0968a568",
   "metadata": {
    "id": "0968a568"
   },
   "outputs": [],
   "source": [
    "from sklearn.impute import SimpleImputer\n",
    "mv=SimpleImputer(missing_values=np.nan,strategy=\"median\")\n",
    "x_train=mv.fit_transform(x_train)"
   ]
  },
  {
   "cell_type": "markdown",
   "id": "89f916a8",
   "metadata": {
    "id": "89f916a8"
   },
   "source": [
    "# Model Building"
   ]
  },
  {
   "cell_type": "markdown",
   "id": "b5f51472",
   "metadata": {
    "id": "b5f51472"
   },
   "source": [
    "\n",
    "# Linear Regression\n",
    "Linear regression is a type of supervised machine learning algorithm that computes the linear relationship between a dependent variable and one or more independent features.\n"
   ]
  },
  {
   "cell_type": "code",
   "execution_count": 61,
   "id": "969978b8",
   "metadata": {
    "id": "969978b8"
   },
   "outputs": [],
   "source": [
    "ln=LinearRegression()"
   ]
  },
  {
   "cell_type": "code",
   "execution_count": 62,
   "id": "1e54311c",
   "metadata": {
    "colab": {
     "base_uri": "https://localhost:8080/",
     "height": 74
    },
    "id": "1e54311c",
    "outputId": "c57e3ac5-a31e-4424-9ef6-1ce0b79cf62b"
   },
   "outputs": [
    {
     "data": {
      "text/html": [
       "<style>#sk-container-id-1 {color: black;background-color: white;}#sk-container-id-1 pre{padding: 0;}#sk-container-id-1 div.sk-toggleable {background-color: white;}#sk-container-id-1 label.sk-toggleable__label {cursor: pointer;display: block;width: 100%;margin-bottom: 0;padding: 0.3em;box-sizing: border-box;text-align: center;}#sk-container-id-1 label.sk-toggleable__label-arrow:before {content: \"▸\";float: left;margin-right: 0.25em;color: #696969;}#sk-container-id-1 label.sk-toggleable__label-arrow:hover:before {color: black;}#sk-container-id-1 div.sk-estimator:hover label.sk-toggleable__label-arrow:before {color: black;}#sk-container-id-1 div.sk-toggleable__content {max-height: 0;max-width: 0;overflow: hidden;text-align: left;background-color: #f0f8ff;}#sk-container-id-1 div.sk-toggleable__content pre {margin: 0.2em;color: black;border-radius: 0.25em;background-color: #f0f8ff;}#sk-container-id-1 input.sk-toggleable__control:checked~div.sk-toggleable__content {max-height: 200px;max-width: 100%;overflow: auto;}#sk-container-id-1 input.sk-toggleable__control:checked~label.sk-toggleable__label-arrow:before {content: \"▾\";}#sk-container-id-1 div.sk-estimator input.sk-toggleable__control:checked~label.sk-toggleable__label {background-color: #d4ebff;}#sk-container-id-1 div.sk-label input.sk-toggleable__control:checked~label.sk-toggleable__label {background-color: #d4ebff;}#sk-container-id-1 input.sk-hidden--visually {border: 0;clip: rect(1px 1px 1px 1px);clip: rect(1px, 1px, 1px, 1px);height: 1px;margin: -1px;overflow: hidden;padding: 0;position: absolute;width: 1px;}#sk-container-id-1 div.sk-estimator {font-family: monospace;background-color: #f0f8ff;border: 1px dotted black;border-radius: 0.25em;box-sizing: border-box;margin-bottom: 0.5em;}#sk-container-id-1 div.sk-estimator:hover {background-color: #d4ebff;}#sk-container-id-1 div.sk-parallel-item::after {content: \"\";width: 100%;border-bottom: 1px solid gray;flex-grow: 1;}#sk-container-id-1 div.sk-label:hover label.sk-toggleable__label {background-color: #d4ebff;}#sk-container-id-1 div.sk-serial::before {content: \"\";position: absolute;border-left: 1px solid gray;box-sizing: border-box;top: 0;bottom: 0;left: 50%;z-index: 0;}#sk-container-id-1 div.sk-serial {display: flex;flex-direction: column;align-items: center;background-color: white;padding-right: 0.2em;padding-left: 0.2em;position: relative;}#sk-container-id-1 div.sk-item {position: relative;z-index: 1;}#sk-container-id-1 div.sk-parallel {display: flex;align-items: stretch;justify-content: center;background-color: white;position: relative;}#sk-container-id-1 div.sk-item::before, #sk-container-id-1 div.sk-parallel-item::before {content: \"\";position: absolute;border-left: 1px solid gray;box-sizing: border-box;top: 0;bottom: 0;left: 50%;z-index: -1;}#sk-container-id-1 div.sk-parallel-item {display: flex;flex-direction: column;z-index: 1;position: relative;background-color: white;}#sk-container-id-1 div.sk-parallel-item:first-child::after {align-self: flex-end;width: 50%;}#sk-container-id-1 div.sk-parallel-item:last-child::after {align-self: flex-start;width: 50%;}#sk-container-id-1 div.sk-parallel-item:only-child::after {width: 0;}#sk-container-id-1 div.sk-dashed-wrapped {border: 1px dashed gray;margin: 0 0.4em 0.5em 0.4em;box-sizing: border-box;padding-bottom: 0.4em;background-color: white;}#sk-container-id-1 div.sk-label label {font-family: monospace;font-weight: bold;display: inline-block;line-height: 1.2em;}#sk-container-id-1 div.sk-label-container {text-align: center;}#sk-container-id-1 div.sk-container {/* jupyter's `normalize.less` sets `[hidden] { display: none; }` but bootstrap.min.css set `[hidden] { display: none !important; }` so we also need the `!important` here to be able to override the default hidden behavior on the sphinx rendered scikit-learn.org. See: https://github.com/scikit-learn/scikit-learn/issues/21755 */display: inline-block !important;position: relative;}#sk-container-id-1 div.sk-text-repr-fallback {display: none;}</style><div id=\"sk-container-id-1\" class=\"sk-top-container\"><div class=\"sk-text-repr-fallback\"><pre>LinearRegression()</pre><b>In a Jupyter environment, please rerun this cell to show the HTML representation or trust the notebook. <br />On GitHub, the HTML representation is unable to render, please try loading this page with nbviewer.org.</b></div><div class=\"sk-container\" hidden><div class=\"sk-item\"><div class=\"sk-estimator sk-toggleable\"><input class=\"sk-toggleable__control sk-hidden--visually\" id=\"sk-estimator-id-1\" type=\"checkbox\" checked><label for=\"sk-estimator-id-1\" class=\"sk-toggleable__label sk-toggleable__label-arrow\">LinearRegression</label><div class=\"sk-toggleable__content\"><pre>LinearRegression()</pre></div></div></div></div></div>"
      ],
      "text/plain": [
       "LinearRegression()"
      ]
     },
     "execution_count": 62,
     "metadata": {},
     "output_type": "execute_result"
    }
   ],
   "source": [
    "# Training data is used for model building\n",
    "ln.fit(x_train,y_train)"
   ]
  },
  {
   "cell_type": "code",
   "execution_count": 63,
   "id": "fcbf8d42",
   "metadata": {
    "colab": {
     "base_uri": "https://localhost:8080/"
    },
    "id": "fcbf8d42",
    "outputId": "2db1c432-f22f-48df-8241-5ee4a2654ced"
   },
   "outputs": [
    {
     "name": "stderr",
     "output_type": "stream",
     "text": [
      "C:\\Users\\DELL LYF\\anaconda3\\Lib\\site-packages\\sklearn\\base.py:432: UserWarning: X has feature names, but LinearRegression was fitted without feature names\n",
      "  warnings.warn(\n"
     ]
    }
   ],
   "source": [
    "# Testing data is used for prediction\n",
    "predicted_test=ln.predict(x_test)"
   ]
  },
  {
   "cell_type": "code",
   "execution_count": 64,
   "id": "59b28c93",
   "metadata": {
    "colab": {
     "base_uri": "https://localhost:8080/"
    },
    "id": "59b28c93",
    "outputId": "638b935c-6b2d-446f-d216-288736b2cb4d"
   },
   "outputs": [
    {
     "data": {
      "text/plain": [
       "array([[ 1.69117204e+06],\n",
       "       [ 1.04840377e+05],\n",
       "       [ 1.15667497e+05],\n",
       "       [-1.68085058e+05],\n",
       "       [ 7.95852018e+05],\n",
       "       [ 2.54222655e+05],\n",
       "       [ 3.25393390e+04],\n",
       "       [ 1.83885030e+06],\n",
       "       [ 3.60751894e+05],\n",
       "       [ 9.56214328e+05],\n",
       "       [ 1.03508930e+06],\n",
       "       [ 2.41046823e+06],\n",
       "       [ 7.30230612e+05],\n",
       "       [ 1.15121485e+06],\n",
       "       [ 3.06347368e+05],\n",
       "       [ 2.71255237e+05],\n",
       "       [ 1.64160212e+06],\n",
       "       [ 1.15504122e+06],\n",
       "       [ 9.98060566e+05],\n",
       "       [-1.85955068e+05],\n",
       "       [ 9.92795650e+05],\n",
       "       [ 2.56195001e+05],\n",
       "       [ 1.53792027e+06],\n",
       "       [ 1.98845851e+06],\n",
       "       [ 2.73657177e+05],\n",
       "       [ 2.62083568e+05],\n",
       "       [ 1.44970555e+05],\n",
       "       [ 3.95609589e+05],\n",
       "       [ 5.65490252e+05],\n",
       "       [ 8.77720268e+05],\n",
       "       [-2.38436709e+05],\n",
       "       [ 4.93809602e+05],\n",
       "       [ 4.56139991e+05],\n",
       "       [ 6.70536406e+05],\n",
       "       [ 1.82643381e+06],\n",
       "       [ 6.92028758e+05],\n",
       "       [ 5.79155144e+05],\n",
       "       [ 1.04677776e+06],\n",
       "       [ 5.00485837e+05],\n",
       "       [ 2.62503667e+05],\n",
       "       [ 3.06314099e+05],\n",
       "       [-6.35662644e+04],\n",
       "       [ 1.05139979e+06],\n",
       "       [ 3.70837676e+05],\n",
       "       [ 1.35191183e+06],\n",
       "       [-4.24495822e+04],\n",
       "       [ 5.70722337e+05],\n",
       "       [ 2.15873473e+06],\n",
       "       [ 8.57189153e+05],\n",
       "       [ 1.57042221e+05],\n",
       "       [ 4.38335445e+05],\n",
       "       [ 1.05717581e+06],\n",
       "       [ 2.41155919e+05],\n",
       "       [ 7.57939426e+05],\n",
       "       [ 1.52816449e+06],\n",
       "       [ 3.95658481e+05],\n",
       "       [-9.46003619e+05],\n",
       "       [ 2.01432975e+06],\n",
       "       [ 7.75591371e+05],\n",
       "       [ 3.57812639e+05],\n",
       "       [ 1.38402772e+06],\n",
       "       [ 1.80202008e+05],\n",
       "       [ 3.08981511e+06],\n",
       "       [ 6.85550775e+05],\n",
       "       [ 8.17980746e+05],\n",
       "       [ 3.34003886e+05],\n",
       "       [ 6.82979070e+05],\n",
       "       [ 1.73029092e+06],\n",
       "       [ 1.36624172e+06],\n",
       "       [-1.55319426e+05],\n",
       "       [ 8.14371330e+05],\n",
       "       [ 2.71506399e+06],\n",
       "       [ 1.25589340e+06],\n",
       "       [ 9.56713211e+05],\n",
       "       [ 1.45357006e+06],\n",
       "       [-1.31459208e+05],\n",
       "       [ 5.59781608e+05],\n",
       "       [-6.05280191e+05],\n",
       "       [ 6.59527700e+05],\n",
       "       [ 4.53947758e+05],\n",
       "       [ 1.70965377e+06],\n",
       "       [ 5.92369750e+05],\n",
       "       [ 1.40690533e+06],\n",
       "       [ 3.59091378e+05],\n",
       "       [ 1.22731150e+06],\n",
       "       [-1.10893111e+05],\n",
       "       [ 2.94313990e+05],\n",
       "       [ 2.90375865e+05],\n",
       "       [ 2.61341921e+05],\n",
       "       [ 2.64898457e+05],\n",
       "       [ 8.50901140e+04],\n",
       "       [-3.07663729e+05],\n",
       "       [ 1.50876347e+06],\n",
       "       [ 7.24006473e+05],\n",
       "       [ 3.59689603e+05],\n",
       "       [ 4.58464056e+05],\n",
       "       [ 1.65823336e+05],\n",
       "       [ 1.24696560e+06],\n",
       "       [ 1.17938374e+06],\n",
       "       [ 1.92514683e+06],\n",
       "       [-2.83824642e+05],\n",
       "       [ 4.59348548e+05],\n",
       "       [ 2.04362669e+05],\n",
       "       [ 4.49874480e+05],\n",
       "       [ 2.26940817e+05],\n",
       "       [ 1.74062110e+05],\n",
       "       [ 4.09251005e+05],\n",
       "       [-3.59596019e+05],\n",
       "       [ 4.67913353e+05],\n",
       "       [ 3.00686995e+05],\n",
       "       [ 8.44303645e+05],\n",
       "       [ 1.94664806e+05],\n",
       "       [ 6.22485514e+05],\n",
       "       [ 7.75570728e+05],\n",
       "       [ 8.82773926e+05],\n",
       "       [ 6.56342548e+05],\n",
       "       [ 3.47368304e+05],\n",
       "       [ 1.45139385e+06],\n",
       "       [ 1.66148003e+06],\n",
       "       [ 7.09872971e+05],\n",
       "       [ 1.27837006e+06],\n",
       "       [ 2.61265799e+06],\n",
       "       [-2.25899491e+05],\n",
       "       [ 3.07528937e+05],\n",
       "       [ 1.77131504e+05],\n",
       "       [ 1.84069108e+06],\n",
       "       [ 5.97843324e+05],\n",
       "       [ 3.48755939e+05],\n",
       "       [ 1.12182558e+06],\n",
       "       [ 3.28067890e+05],\n",
       "       [ 7.58102450e+05],\n",
       "       [ 1.44043470e+06],\n",
       "       [ 7.19852405e+05],\n",
       "       [ 2.37691246e+05],\n",
       "       [ 6.03399237e+05],\n",
       "       [ 3.56045559e+05],\n",
       "       [ 1.12998564e+06],\n",
       "       [ 4.88797857e+05],\n",
       "       [ 7.41481301e+05],\n",
       "       [ 1.02502960e+06],\n",
       "       [ 1.74014257e+06],\n",
       "       [ 1.54240205e+06],\n",
       "       [ 8.36856474e+05],\n",
       "       [ 1.43695879e+06],\n",
       "       [ 1.27562967e+06],\n",
       "       [-3.18470734e+04],\n",
       "       [ 7.92205910e+05],\n",
       "       [ 6.12628304e+05],\n",
       "       [-5.39936730e+05],\n",
       "       [ 4.94398662e+04],\n",
       "       [ 5.77737921e+05],\n",
       "       [ 9.75169161e+05],\n",
       "       [-6.12266984e+04],\n",
       "       [ 2.25391202e+05],\n",
       "       [ 6.10479632e+05],\n",
       "       [ 5.25048318e+05],\n",
       "       [ 3.08588978e+05],\n",
       "       [ 9.34710688e+05],\n",
       "       [ 2.66843944e+05],\n",
       "       [ 5.76463747e+05],\n",
       "       [-1.73023856e+05],\n",
       "       [ 7.42002535e+05],\n",
       "       [ 2.97631694e+05],\n",
       "       [ 1.10131637e+06],\n",
       "       [-3.43072360e+04],\n",
       "       [ 2.19743264e+06],\n",
       "       [ 2.67760930e+05],\n",
       "       [ 7.63173742e+05],\n",
       "       [ 9.12597152e+05],\n",
       "       [ 2.84142036e+05],\n",
       "       [-2.97473369e+04],\n",
       "       [ 1.83397308e+06],\n",
       "       [-6.59031225e+04],\n",
       "       [ 7.24963432e+05],\n",
       "       [ 5.08171887e+04],\n",
       "       [ 4.60966409e+05],\n",
       "       [ 7.87466113e+04],\n",
       "       [-7.76555326e+05],\n",
       "       [ 1.20020825e+06],\n",
       "       [-5.33793758e+05],\n",
       "       [ 1.45717168e+05],\n",
       "       [ 1.81557437e+06],\n",
       "       [ 9.71942936e+04],\n",
       "       [ 6.72524573e+05],\n",
       "       [ 3.34051659e+05],\n",
       "       [ 2.86149518e+05],\n",
       "       [ 4.77804566e+05],\n",
       "       [ 7.97332354e+05],\n",
       "       [ 8.29388002e+05],\n",
       "       [ 1.07261706e+05],\n",
       "       [ 1.32531514e+05],\n",
       "       [ 7.06748888e+05],\n",
       "       [ 3.25794388e+06],\n",
       "       [ 2.13354259e+06],\n",
       "       [ 3.71011429e+05],\n",
       "       [ 5.47963742e+05],\n",
       "       [ 1.25977731e+06],\n",
       "       [ 8.41044484e+05],\n",
       "       [ 3.04952220e+04],\n",
       "       [ 9.85027454e+05],\n",
       "       [ 1.55745268e+06],\n",
       "       [ 1.90093680e+06],\n",
       "       [ 9.86192900e+05],\n",
       "       [ 1.04434141e+06],\n",
       "       [ 3.18274466e+06],\n",
       "       [ 1.54349111e+06],\n",
       "       [-5.79804638e+04],\n",
       "       [ 2.20516217e+05],\n",
       "       [ 1.25683252e+06],\n",
       "       [ 9.53369780e+05],\n",
       "       [ 8.71964080e+05],\n",
       "       [ 6.62309693e+05],\n",
       "       [-2.58085162e+05],\n",
       "       [-1.55454563e+05],\n",
       "       [ 4.71079297e+05],\n",
       "       [ 9.19965849e+05],\n",
       "       [ 1.49292441e+04],\n",
       "       [ 5.30390544e+05],\n",
       "       [ 4.79177502e+05],\n",
       "       [ 3.88360902e+05],\n",
       "       [ 1.88000897e+06],\n",
       "       [-3.54749937e+05],\n",
       "       [ 1.80228185e+06],\n",
       "       [ 9.74547063e+05],\n",
       "       [ 1.08814504e+06],\n",
       "       [ 2.81558002e+06],\n",
       "       [ 7.07226267e+05],\n",
       "       [ 8.70026880e+04],\n",
       "       [ 8.44066168e+05],\n",
       "       [-2.35108355e+05],\n",
       "       [ 4.70835634e+05],\n",
       "       [ 3.42222521e+06],\n",
       "       [ 1.03069462e+06],\n",
       "       [ 5.04450423e+05],\n",
       "       [ 6.51575268e+05],\n",
       "       [ 1.16765969e+06],\n",
       "       [ 1.02100471e+06],\n",
       "       [ 6.23144981e+05],\n",
       "       [ 1.28167123e+06],\n",
       "       [ 5.06729415e+05],\n",
       "       [ 1.04621905e+06],\n",
       "       [ 7.99744425e+05],\n",
       "       [ 9.29877587e+05],\n",
       "       [ 9.19486454e+05],\n",
       "       [ 1.39395097e+03],\n",
       "       [ 1.18898577e+06],\n",
       "       [ 2.48386304e+06],\n",
       "       [ 5.32190689e+05],\n",
       "       [ 1.48393792e+06],\n",
       "       [-2.32095968e+05],\n",
       "       [ 1.80471929e+05],\n",
       "       [ 1.56138441e+06],\n",
       "       [ 1.81570664e+06],\n",
       "       [ 1.49421515e+06],\n",
       "       [ 1.01985545e+05],\n",
       "       [-3.30211098e+05],\n",
       "       [ 8.82239537e+05],\n",
       "       [ 1.35480896e+05],\n",
       "       [ 1.58150389e+05],\n",
       "       [-2.77183847e+05],\n",
       "       [ 5.62726500e+05],\n",
       "       [ 1.25882749e+06],\n",
       "       [ 9.10289007e+05],\n",
       "       [ 3.60401816e+04],\n",
       "       [ 1.99800989e+05],\n",
       "       [ 2.19951254e+06],\n",
       "       [ 1.02588656e+06],\n",
       "       [ 6.26285872e+05],\n",
       "       [ 7.21798060e+05],\n",
       "       [ 9.28316023e+05],\n",
       "       [ 4.56513186e+05],\n",
       "       [ 8.00625054e+05],\n",
       "       [-4.34359379e+05],\n",
       "       [ 1.84214019e+06],\n",
       "       [ 6.09784176e+05],\n",
       "       [ 1.06400313e+06],\n",
       "       [ 6.03750045e+05]])"
      ]
     },
     "execution_count": 64,
     "metadata": {},
     "output_type": "execute_result"
    }
   ],
   "source": [
    "predicted_test"
   ]
  },
  {
   "cell_type": "code",
   "execution_count": 65,
   "id": "b7cf571e",
   "metadata": {
    "colab": {
     "base_uri": "https://localhost:8080/",
     "height": 423
    },
    "id": "b7cf571e",
    "outputId": "68110a4a-de00-4655-8217-aa67e686bc12"
   },
   "outputs": [
    {
     "data": {
      "text/html": [
       "<div>\n",
       "<style scoped>\n",
       "    .dataframe tbody tr th:only-of-type {\n",
       "        vertical-align: middle;\n",
       "    }\n",
       "\n",
       "    .dataframe tbody tr th {\n",
       "        vertical-align: top;\n",
       "    }\n",
       "\n",
       "    .dataframe thead th {\n",
       "        text-align: right;\n",
       "    }\n",
       "</style>\n",
       "<table border=\"1\" class=\"dataframe\">\n",
       "  <thead>\n",
       "    <tr style=\"text-align: right;\">\n",
       "      <th></th>\n",
       "      <th>selling_price</th>\n",
       "    </tr>\n",
       "  </thead>\n",
       "  <tbody>\n",
       "    <tr>\n",
       "      <th>1410</th>\n",
       "      <td>1950000</td>\n",
       "    </tr>\n",
       "    <tr>\n",
       "      <th>594</th>\n",
       "      <td>225000</td>\n",
       "    </tr>\n",
       "    <tr>\n",
       "      <th>62</th>\n",
       "      <td>190000</td>\n",
       "    </tr>\n",
       "    <tr>\n",
       "      <th>4454</th>\n",
       "      <td>130000</td>\n",
       "    </tr>\n",
       "    <tr>\n",
       "      <th>43</th>\n",
       "      <td>425000</td>\n",
       "    </tr>\n",
       "    <tr>\n",
       "      <th>...</th>\n",
       "      <td>...</td>\n",
       "    </tr>\n",
       "    <tr>\n",
       "      <th>2239</th>\n",
       "      <td>110000</td>\n",
       "    </tr>\n",
       "    <tr>\n",
       "      <th>6044</th>\n",
       "      <td>1800000</td>\n",
       "    </tr>\n",
       "    <tr>\n",
       "      <th>2418</th>\n",
       "      <td>570000</td>\n",
       "    </tr>\n",
       "    <tr>\n",
       "      <th>155</th>\n",
       "      <td>645000</td>\n",
       "    </tr>\n",
       "    <tr>\n",
       "      <th>267</th>\n",
       "      <td>350000</td>\n",
       "    </tr>\n",
       "  </tbody>\n",
       "</table>\n",
       "<p>277 rows × 1 columns</p>\n",
       "</div>"
      ],
      "text/plain": [
       "      selling_price\n",
       "1410        1950000\n",
       "594          225000\n",
       "62           190000\n",
       "4454         130000\n",
       "43           425000\n",
       "...             ...\n",
       "2239         110000\n",
       "6044        1800000\n",
       "2418         570000\n",
       "155          645000\n",
       "267          350000\n",
       "\n",
       "[277 rows x 1 columns]"
      ]
     },
     "execution_count": 65,
     "metadata": {},
     "output_type": "execute_result"
    }
   ],
   "source": [
    "y_test"
   ]
  },
  {
   "cell_type": "markdown",
   "id": "9986cc6c",
   "metadata": {
    "id": "9986cc6c"
   },
   "source": [
    "\n",
    "# accuracy"
   ]
  },
  {
   "cell_type": "code",
   "execution_count": 66,
   "id": "85a87cdd",
   "metadata": {
    "id": "85a87cdd"
   },
   "outputs": [],
   "source": [
    "#importing linbrary for calculating accuracy\n",
    "from sklearn.metrics import mean_squared_error,r2_score"
   ]
  },
  {
   "cell_type": "code",
   "execution_count": 67,
   "id": "39251455",
   "metadata": {
    "id": "39251455"
   },
   "outputs": [],
   "source": [
    "accuracy=r2_score(y_test,predicted_test)"
   ]
  },
  {
   "cell_type": "code",
   "execution_count": 68,
   "id": "c339e7bf",
   "metadata": {
    "colab": {
     "base_uri": "https://localhost:8080/"
    },
    "id": "c339e7bf",
    "outputId": "61d3babb-13a4-4dc9-8696-892c7b1f5f67"
   },
   "outputs": [
    {
     "data": {
      "text/plain": [
       "0.6427641217639068"
      ]
     },
     "execution_count": 68,
     "metadata": {},
     "output_type": "execute_result"
    }
   ],
   "source": [
    "accuracy"
   ]
  },
  {
   "cell_type": "markdown",
   "id": "757ff07b",
   "metadata": {
    "id": "757ff07b"
   },
   "source": [
    "\n",
    "# Decision tree\n",
    "A decision tree is a non-parametric supervised learning algorithm for classification and regression tasks. It has a hierarchical tree structure consisting of a root node, branches, internal nodes, and leaf nodes. Decision trees are used for classification and regression tasks, providing easy-to-understand models"
   ]
  },
  {
   "cell_type": "code",
   "execution_count": 69,
   "id": "cf41ac76",
   "metadata": {
    "colab": {
     "base_uri": "https://localhost:8080/",
     "height": 423
    },
    "id": "cf41ac76",
    "outputId": "58ca3f39-c758-416e-d3d9-388563ac3104"
   },
   "outputs": [
    {
     "data": {
      "text/html": [
       "<div>\n",
       "<style scoped>\n",
       "    .dataframe tbody tr th:only-of-type {\n",
       "        vertical-align: middle;\n",
       "    }\n",
       "\n",
       "    .dataframe tbody tr th {\n",
       "        vertical-align: top;\n",
       "    }\n",
       "\n",
       "    .dataframe thead th {\n",
       "        text-align: right;\n",
       "    }\n",
       "</style>\n",
       "<table border=\"1\" class=\"dataframe\">\n",
       "  <thead>\n",
       "    <tr style=\"text-align: right;\">\n",
       "      <th></th>\n",
       "      <th>year</th>\n",
       "      <th>km_driven</th>\n",
       "      <th>fuel</th>\n",
       "      <th>seller_type</th>\n",
       "      <th>transmission</th>\n",
       "      <th>owner</th>\n",
       "      <th>mileage</th>\n",
       "      <th>engine</th>\n",
       "      <th>max_power</th>\n",
       "      <th>seats</th>\n",
       "    </tr>\n",
       "  </thead>\n",
       "  <tbody>\n",
       "    <tr>\n",
       "      <th>0</th>\n",
       "      <td>2014</td>\n",
       "      <td>145500</td>\n",
       "      <td>1</td>\n",
       "      <td>1</td>\n",
       "      <td>0</td>\n",
       "      <td>0</td>\n",
       "      <td>23.40</td>\n",
       "      <td>1248.0</td>\n",
       "      <td>74.00</td>\n",
       "      <td>5.0</td>\n",
       "    </tr>\n",
       "    <tr>\n",
       "      <th>1</th>\n",
       "      <td>2014</td>\n",
       "      <td>120000</td>\n",
       "      <td>1</td>\n",
       "      <td>1</td>\n",
       "      <td>0</td>\n",
       "      <td>1</td>\n",
       "      <td>21.14</td>\n",
       "      <td>1498.0</td>\n",
       "      <td>103.52</td>\n",
       "      <td>5.0</td>\n",
       "    </tr>\n",
       "    <tr>\n",
       "      <th>2</th>\n",
       "      <td>2006</td>\n",
       "      <td>140000</td>\n",
       "      <td>0</td>\n",
       "      <td>1</td>\n",
       "      <td>0</td>\n",
       "      <td>2</td>\n",
       "      <td>17.70</td>\n",
       "      <td>1497.0</td>\n",
       "      <td>78.00</td>\n",
       "      <td>5.0</td>\n",
       "    </tr>\n",
       "    <tr>\n",
       "      <th>3</th>\n",
       "      <td>2010</td>\n",
       "      <td>127000</td>\n",
       "      <td>1</td>\n",
       "      <td>1</td>\n",
       "      <td>0</td>\n",
       "      <td>0</td>\n",
       "      <td>23.00</td>\n",
       "      <td>1396.0</td>\n",
       "      <td>90.00</td>\n",
       "      <td>5.0</td>\n",
       "    </tr>\n",
       "    <tr>\n",
       "      <th>4</th>\n",
       "      <td>2007</td>\n",
       "      <td>120000</td>\n",
       "      <td>0</td>\n",
       "      <td>1</td>\n",
       "      <td>0</td>\n",
       "      <td>0</td>\n",
       "      <td>16.10</td>\n",
       "      <td>1298.0</td>\n",
       "      <td>88.20</td>\n",
       "      <td>5.0</td>\n",
       "    </tr>\n",
       "    <tr>\n",
       "      <th>...</th>\n",
       "      <td>...</td>\n",
       "      <td>...</td>\n",
       "      <td>...</td>\n",
       "      <td>...</td>\n",
       "      <td>...</td>\n",
       "      <td>...</td>\n",
       "      <td>...</td>\n",
       "      <td>...</td>\n",
       "      <td>...</td>\n",
       "      <td>...</td>\n",
       "    </tr>\n",
       "    <tr>\n",
       "      <th>8045</th>\n",
       "      <td>2017</td>\n",
       "      <td>20171</td>\n",
       "      <td>1</td>\n",
       "      <td>0</td>\n",
       "      <td>1</td>\n",
       "      <td>0</td>\n",
       "      <td>19.87</td>\n",
       "      <td>1461.0</td>\n",
       "      <td>108.50</td>\n",
       "      <td>5.0</td>\n",
       "    </tr>\n",
       "    <tr>\n",
       "      <th>8058</th>\n",
       "      <td>2017</td>\n",
       "      <td>8000</td>\n",
       "      <td>0</td>\n",
       "      <td>0</td>\n",
       "      <td>1</td>\n",
       "      <td>0</td>\n",
       "      <td>16.60</td>\n",
       "      <td>1798.0</td>\n",
       "      <td>177.50</td>\n",
       "      <td>5.0</td>\n",
       "    </tr>\n",
       "    <tr>\n",
       "      <th>8074</th>\n",
       "      <td>2013</td>\n",
       "      <td>60000</td>\n",
       "      <td>0</td>\n",
       "      <td>1</td>\n",
       "      <td>0</td>\n",
       "      <td>2</td>\n",
       "      <td>16.51</td>\n",
       "      <td>1586.0</td>\n",
       "      <td>103.20</td>\n",
       "      <td>5.0</td>\n",
       "    </tr>\n",
       "    <tr>\n",
       "      <th>8081</th>\n",
       "      <td>2005</td>\n",
       "      <td>100000</td>\n",
       "      <td>0</td>\n",
       "      <td>1</td>\n",
       "      <td>1</td>\n",
       "      <td>1</td>\n",
       "      <td>12.00</td>\n",
       "      <td>1493.0</td>\n",
       "      <td>100.00</td>\n",
       "      <td>5.0</td>\n",
       "    </tr>\n",
       "    <tr>\n",
       "      <th>8094</th>\n",
       "      <td>2012</td>\n",
       "      <td>80868</td>\n",
       "      <td>0</td>\n",
       "      <td>1</td>\n",
       "      <td>0</td>\n",
       "      <td>2</td>\n",
       "      <td>13.70</td>\n",
       "      <td>1368.0</td>\n",
       "      <td>88.80</td>\n",
       "      <td>5.0</td>\n",
       "    </tr>\n",
       "  </tbody>\n",
       "</table>\n",
       "<p>921 rows × 10 columns</p>\n",
       "</div>"
      ],
      "text/plain": [
       "      year  km_driven  fuel  seller_type  transmission  owner  mileage  \\\n",
       "0     2014     145500     1            1             0      0    23.40   \n",
       "1     2014     120000     1            1             0      1    21.14   \n",
       "2     2006     140000     0            1             0      2    17.70   \n",
       "3     2010     127000     1            1             0      0    23.00   \n",
       "4     2007     120000     0            1             0      0    16.10   \n",
       "...    ...        ...   ...          ...           ...    ...      ...   \n",
       "8045  2017      20171     1            0             1      0    19.87   \n",
       "8058  2017       8000     0            0             1      0    16.60   \n",
       "8074  2013      60000     0            1             0      2    16.51   \n",
       "8081  2005     100000     0            1             1      1    12.00   \n",
       "8094  2012      80868     0            1             0      2    13.70   \n",
       "\n",
       "      engine  max_power  seats  \n",
       "0     1248.0      74.00    5.0  \n",
       "1     1498.0     103.52    5.0  \n",
       "2     1497.0      78.00    5.0  \n",
       "3     1396.0      90.00    5.0  \n",
       "4     1298.0      88.20    5.0  \n",
       "...      ...        ...    ...  \n",
       "8045  1461.0     108.50    5.0  \n",
       "8058  1798.0     177.50    5.0  \n",
       "8074  1586.0     103.20    5.0  \n",
       "8081  1493.0     100.00    5.0  \n",
       "8094  1368.0      88.80    5.0  \n",
       "\n",
       "[921 rows x 10 columns]"
      ]
     },
     "execution_count": 69,
     "metadata": {},
     "output_type": "execute_result"
    }
   ],
   "source": [
    "x"
   ]
  },
  {
   "cell_type": "code",
   "execution_count": 70,
   "id": "e50a51bc",
   "metadata": {
    "colab": {
     "base_uri": "https://localhost:8080/",
     "height": 423
    },
    "id": "e50a51bc",
    "outputId": "5c67486d-104c-4356-dbf3-96df15537355"
   },
   "outputs": [
    {
     "data": {
      "text/html": [
       "<div>\n",
       "<style scoped>\n",
       "    .dataframe tbody tr th:only-of-type {\n",
       "        vertical-align: middle;\n",
       "    }\n",
       "\n",
       "    .dataframe tbody tr th {\n",
       "        vertical-align: top;\n",
       "    }\n",
       "\n",
       "    .dataframe thead th {\n",
       "        text-align: right;\n",
       "    }\n",
       "</style>\n",
       "<table border=\"1\" class=\"dataframe\">\n",
       "  <thead>\n",
       "    <tr style=\"text-align: right;\">\n",
       "      <th></th>\n",
       "      <th>selling_price</th>\n",
       "    </tr>\n",
       "  </thead>\n",
       "  <tbody>\n",
       "    <tr>\n",
       "      <th>0</th>\n",
       "      <td>450000</td>\n",
       "    </tr>\n",
       "    <tr>\n",
       "      <th>1</th>\n",
       "      <td>370000</td>\n",
       "    </tr>\n",
       "    <tr>\n",
       "      <th>2</th>\n",
       "      <td>158000</td>\n",
       "    </tr>\n",
       "    <tr>\n",
       "      <th>3</th>\n",
       "      <td>225000</td>\n",
       "    </tr>\n",
       "    <tr>\n",
       "      <th>4</th>\n",
       "      <td>130000</td>\n",
       "    </tr>\n",
       "    <tr>\n",
       "      <th>...</th>\n",
       "      <td>...</td>\n",
       "    </tr>\n",
       "    <tr>\n",
       "      <th>8045</th>\n",
       "      <td>750000</td>\n",
       "    </tr>\n",
       "    <tr>\n",
       "      <th>8058</th>\n",
       "      <td>1689999</td>\n",
       "    </tr>\n",
       "    <tr>\n",
       "      <th>8074</th>\n",
       "      <td>295000</td>\n",
       "    </tr>\n",
       "    <tr>\n",
       "      <th>8081</th>\n",
       "      <td>110000</td>\n",
       "    </tr>\n",
       "    <tr>\n",
       "      <th>8094</th>\n",
       "      <td>200000</td>\n",
       "    </tr>\n",
       "  </tbody>\n",
       "</table>\n",
       "<p>921 rows × 1 columns</p>\n",
       "</div>"
      ],
      "text/plain": [
       "      selling_price\n",
       "0            450000\n",
       "1            370000\n",
       "2            158000\n",
       "3            225000\n",
       "4            130000\n",
       "...             ...\n",
       "8045         750000\n",
       "8058        1689999\n",
       "8074         295000\n",
       "8081         110000\n",
       "8094         200000\n",
       "\n",
       "[921 rows x 1 columns]"
      ]
     },
     "execution_count": 70,
     "metadata": {},
     "output_type": "execute_result"
    }
   ],
   "source": [
    "y"
   ]
  },
  {
   "cell_type": "code",
   "execution_count": 71,
   "id": "941b483c",
   "metadata": {
    "id": "941b483c"
   },
   "outputs": [],
   "source": [
    "#importing the library  decisiontreeregressor\n",
    "from sklearn.tree  import DecisionTreeRegressor"
   ]
  },
  {
   "cell_type": "code",
   "execution_count": 72,
   "id": "6b982e36",
   "metadata": {
    "id": "6b982e36"
   },
   "outputs": [],
   "source": [
    "dc=DecisionTreeRegressor()"
   ]
  },
  {
   "cell_type": "code",
   "execution_count": 73,
   "id": "91ca499b",
   "metadata": {
    "colab": {
     "base_uri": "https://localhost:8080/",
     "height": 74
    },
    "id": "91ca499b",
    "outputId": "3c38e754-56b7-431d-ac2c-befb839f88d4"
   },
   "outputs": [
    {
     "data": {
      "text/html": [
       "<style>#sk-container-id-2 {color: black;background-color: white;}#sk-container-id-2 pre{padding: 0;}#sk-container-id-2 div.sk-toggleable {background-color: white;}#sk-container-id-2 label.sk-toggleable__label {cursor: pointer;display: block;width: 100%;margin-bottom: 0;padding: 0.3em;box-sizing: border-box;text-align: center;}#sk-container-id-2 label.sk-toggleable__label-arrow:before {content: \"▸\";float: left;margin-right: 0.25em;color: #696969;}#sk-container-id-2 label.sk-toggleable__label-arrow:hover:before {color: black;}#sk-container-id-2 div.sk-estimator:hover label.sk-toggleable__label-arrow:before {color: black;}#sk-container-id-2 div.sk-toggleable__content {max-height: 0;max-width: 0;overflow: hidden;text-align: left;background-color: #f0f8ff;}#sk-container-id-2 div.sk-toggleable__content pre {margin: 0.2em;color: black;border-radius: 0.25em;background-color: #f0f8ff;}#sk-container-id-2 input.sk-toggleable__control:checked~div.sk-toggleable__content {max-height: 200px;max-width: 100%;overflow: auto;}#sk-container-id-2 input.sk-toggleable__control:checked~label.sk-toggleable__label-arrow:before {content: \"▾\";}#sk-container-id-2 div.sk-estimator input.sk-toggleable__control:checked~label.sk-toggleable__label {background-color: #d4ebff;}#sk-container-id-2 div.sk-label input.sk-toggleable__control:checked~label.sk-toggleable__label {background-color: #d4ebff;}#sk-container-id-2 input.sk-hidden--visually {border: 0;clip: rect(1px 1px 1px 1px);clip: rect(1px, 1px, 1px, 1px);height: 1px;margin: -1px;overflow: hidden;padding: 0;position: absolute;width: 1px;}#sk-container-id-2 div.sk-estimator {font-family: monospace;background-color: #f0f8ff;border: 1px dotted black;border-radius: 0.25em;box-sizing: border-box;margin-bottom: 0.5em;}#sk-container-id-2 div.sk-estimator:hover {background-color: #d4ebff;}#sk-container-id-2 div.sk-parallel-item::after {content: \"\";width: 100%;border-bottom: 1px solid gray;flex-grow: 1;}#sk-container-id-2 div.sk-label:hover label.sk-toggleable__label {background-color: #d4ebff;}#sk-container-id-2 div.sk-serial::before {content: \"\";position: absolute;border-left: 1px solid gray;box-sizing: border-box;top: 0;bottom: 0;left: 50%;z-index: 0;}#sk-container-id-2 div.sk-serial {display: flex;flex-direction: column;align-items: center;background-color: white;padding-right: 0.2em;padding-left: 0.2em;position: relative;}#sk-container-id-2 div.sk-item {position: relative;z-index: 1;}#sk-container-id-2 div.sk-parallel {display: flex;align-items: stretch;justify-content: center;background-color: white;position: relative;}#sk-container-id-2 div.sk-item::before, #sk-container-id-2 div.sk-parallel-item::before {content: \"\";position: absolute;border-left: 1px solid gray;box-sizing: border-box;top: 0;bottom: 0;left: 50%;z-index: -1;}#sk-container-id-2 div.sk-parallel-item {display: flex;flex-direction: column;z-index: 1;position: relative;background-color: white;}#sk-container-id-2 div.sk-parallel-item:first-child::after {align-self: flex-end;width: 50%;}#sk-container-id-2 div.sk-parallel-item:last-child::after {align-self: flex-start;width: 50%;}#sk-container-id-2 div.sk-parallel-item:only-child::after {width: 0;}#sk-container-id-2 div.sk-dashed-wrapped {border: 1px dashed gray;margin: 0 0.4em 0.5em 0.4em;box-sizing: border-box;padding-bottom: 0.4em;background-color: white;}#sk-container-id-2 div.sk-label label {font-family: monospace;font-weight: bold;display: inline-block;line-height: 1.2em;}#sk-container-id-2 div.sk-label-container {text-align: center;}#sk-container-id-2 div.sk-container {/* jupyter's `normalize.less` sets `[hidden] { display: none; }` but bootstrap.min.css set `[hidden] { display: none !important; }` so we also need the `!important` here to be able to override the default hidden behavior on the sphinx rendered scikit-learn.org. See: https://github.com/scikit-learn/scikit-learn/issues/21755 */display: inline-block !important;position: relative;}#sk-container-id-2 div.sk-text-repr-fallback {display: none;}</style><div id=\"sk-container-id-2\" class=\"sk-top-container\"><div class=\"sk-text-repr-fallback\"><pre>DecisionTreeRegressor()</pre><b>In a Jupyter environment, please rerun this cell to show the HTML representation or trust the notebook. <br />On GitHub, the HTML representation is unable to render, please try loading this page with nbviewer.org.</b></div><div class=\"sk-container\" hidden><div class=\"sk-item\"><div class=\"sk-estimator sk-toggleable\"><input class=\"sk-toggleable__control sk-hidden--visually\" id=\"sk-estimator-id-2\" type=\"checkbox\" checked><label for=\"sk-estimator-id-2\" class=\"sk-toggleable__label sk-toggleable__label-arrow\">DecisionTreeRegressor</label><div class=\"sk-toggleable__content\"><pre>DecisionTreeRegressor()</pre></div></div></div></div></div>"
      ],
      "text/plain": [
       "DecisionTreeRegressor()"
      ]
     },
     "execution_count": 73,
     "metadata": {},
     "output_type": "execute_result"
    }
   ],
   "source": [
    "dc.fit(x_train,y_train)"
   ]
  },
  {
   "cell_type": "code",
   "execution_count": 74,
   "id": "be6da4e1",
   "metadata": {
    "colab": {
     "base_uri": "https://localhost:8080/"
    },
    "id": "be6da4e1",
    "outputId": "7417b2e6-18e4-4d1e-bca8-5edb5cdcb5a4"
   },
   "outputs": [
    {
     "name": "stderr",
     "output_type": "stream",
     "text": [
      "C:\\Users\\DELL LYF\\anaconda3\\Lib\\site-packages\\sklearn\\base.py:432: UserWarning: X has feature names, but DecisionTreeRegressor was fitted without feature names\n",
      "  warnings.warn(\n"
     ]
    }
   ],
   "source": [
    "prd1=dc.predict(x_test)"
   ]
  },
  {
   "cell_type": "code",
   "execution_count": 75,
   "id": "165788db",
   "metadata": {
    "colab": {
     "base_uri": "https://localhost:8080/"
    },
    "id": "165788db",
    "outputId": "cc0c69b2-933e-496f-b24a-b55879d4a554"
   },
   "outputs": [
    {
     "data": {
      "text/plain": [
       "array([2150000.,  130000.,  300000.,  150000.,  550000.,  400000.,\n",
       "        110000., 2600000.,  250000.,  675000.,  168000., 2900000.,\n",
       "        600000.,  960000.,  400000.,  311000., 1250000.,  900000.,\n",
       "        850000.,  300000.,  775000.,  375000., 1000000., 3000000.,\n",
       "        320000.,  225000.,  222000.,  550000.,  425000.,  250000.,\n",
       "         96000.,  400000.,  300000.,  484999., 1630000.,  350000.,\n",
       "        550000.,  480000.,  300000.,  335000.,  150000.,  200000.,\n",
       "        725000.,  250000.,  875000.,  170000.,  320000., 1750000.,\n",
       "        280000.,  259000.,  560000.,  749000.,  420000.,  625000.,\n",
       "       1250000.,  475000.,  150000.,  900000.,  366000.,  225000.,\n",
       "        168000.,  500000., 6000000.,  630000.,  550000.,  450000.,\n",
       "        487000., 2450000.,  650000.,  150000.,  555000., 5850000.,\n",
       "        960000.,  850000., 2000000.,  320000.,  530000.,   99000.,\n",
       "        450000.,  335000., 3251000.,  580000.,  850000.,  450000.,\n",
       "        600000.,  150000.,  400000.,  425000.,  311000.,  300000.,\n",
       "        320000.,  200000., 1165000.,  630000.,  259000.,  500000.,\n",
       "        105000., 1025000.,  793000., 3400000.,   90000.,  110000.,\n",
       "        219000.,  350000.,  650000.,  340000.,  390000.,  320000.,\n",
       "        400000.,  385000.,  520000.,  700000.,  250000.,  400000.,\n",
       "        850000.,  390000.,  487000., 2000000., 1450000.,  700000.,\n",
       "        830000., 1100000.,   95000.,  375000.,  375000., 1250000.,\n",
       "        345000.,  275000.,  925000.,  400000., 1025000.,  900000.,\n",
       "        420000.,  275000.,  580000.,  390000., 1325000.,  520000.,\n",
       "        890000., 1025000., 1859000., 2475000.,  750000., 1859000.,\n",
       "       1200000.,  250000.,  168000.,  250000.,  135000.,  170000.,\n",
       "        550000.,  500000.,  170000.,  585000.,  520000.,  580000.,\n",
       "        400000., 1000000.,  450000.,  256000.,  170000.,  750000.,\n",
       "        390000.,  540000.,  320000., 2700000.,  300000.,  900000.,\n",
       "        490000.,  140000.,  210000.,  400000.,  160000.,  630000.,\n",
       "        320000.,  350000.,  235000.,  170000., 1100000.,  200000.,\n",
       "        270000., 2000000.,  300000.,  500000.,  611000.,  400000.,\n",
       "        335000.,  295000.,  700000.,  425000.,  292000.,  775000.,\n",
       "       5850000., 1750000.,  451999.,  650000.,  875000.,  890000.,\n",
       "         80000.,  650000.,  737000., 1900000.,  600000.,  900000.,\n",
       "       2000000.,  800000.,  200000.,  130000., 1100000.,  600000.,\n",
       "        300000.,  250000.,  170000.,   90000.,  420000.,  675000.,\n",
       "        210000.,  475000.,  595000.,  345000., 1400000.,  166000.,\n",
       "       2450000.,  885000.,  900000., 2650000.,  615000.,  140000.,\n",
       "        700000.,  135000.,  585000., 6000000.,  749000.,  430000.,\n",
       "        385000.,  805000.,  600000.,  400000., 1325000.,  275000.,\n",
       "        350000.,  490000.,  650000.,  950000.,  120000.,  500000.,\n",
       "       2850000.,  250000., 1859000.,  150000.,  375000.,  800000.,\n",
       "       2450000.,  800000.,  500000.,   70000.,  550000.,  250000.,\n",
       "        425000.,  140000.,  400000., 1025000.,  890000.,  320000.,\n",
       "        420000., 2950000.,  900000.,  500000.,  555000., 1100000.,\n",
       "        220000.,  650000.,   92000.,  700000.,  520000.,  775000.,\n",
       "        300000.])"
      ]
     },
     "execution_count": 75,
     "metadata": {},
     "output_type": "execute_result"
    }
   ],
   "source": [
    "prd1"
   ]
  },
  {
   "cell_type": "code",
   "execution_count": 76,
   "id": "da6a853c",
   "metadata": {
    "id": "da6a853c"
   },
   "outputs": [],
   "source": [
    "accuracy1=r2_score(y_test,prd1)"
   ]
  },
  {
   "cell_type": "code",
   "execution_count": 77,
   "id": "dffb4f3d",
   "metadata": {
    "colab": {
     "base_uri": "https://localhost:8080/"
    },
    "id": "dffb4f3d",
    "outputId": "f16b1762-5ccf-430d-9d44-87dde01e4372"
   },
   "outputs": [
    {
     "data": {
      "text/plain": [
       "0.48671727643246643"
      ]
     },
     "execution_count": 77,
     "metadata": {},
     "output_type": "execute_result"
    }
   ],
   "source": [
    "accuracy1"
   ]
  },
  {
   "cell_type": "code",
   "execution_count": 78,
   "id": "93135c9c",
   "metadata": {
    "id": "93135c9c"
   },
   "outputs": [],
   "source": [
    "mean=mean_squared_error(y_test,prd1)"
   ]
  },
  {
   "cell_type": "code",
   "execution_count": 79,
   "id": "a8bba0a3",
   "metadata": {
    "colab": {
     "base_uri": "https://localhost:8080/"
    },
    "id": "a8bba0a3",
    "outputId": "5cd7f4cd-158f-4509-f76d-d96ba5f2b6be"
   },
   "outputs": [
    {
     "data": {
      "text/plain": [
       "423639760707.6246"
      ]
     },
     "execution_count": 79,
     "metadata": {},
     "output_type": "execute_result"
    }
   ],
   "source": [
    "mean"
   ]
  },
  {
   "cell_type": "markdown",
   "id": "939ca468",
   "metadata": {
    "id": "939ca468"
   },
   "source": [
    "# random forest\n",
    "Random Forest is a popular machine learning algorithm that belongs to the supervised learning technique. It can be used for both Classification and Regression problems in ML. It is based on the concept of ensemble learning, which is a process of combining multiple classifiers to solve a complex problem and to improve the performance of the model."
   ]
  },
  {
   "cell_type": "code",
   "execution_count": 80,
   "id": "c9229e83",
   "metadata": {
    "id": "c9229e83"
   },
   "outputs": [],
   "source": [
    "#importing the library\n",
    "from sklearn.ensemble import RandomForestRegressor"
   ]
  },
  {
   "cell_type": "code",
   "execution_count": 81,
   "id": "4a0dcd36",
   "metadata": {
    "id": "4a0dcd36"
   },
   "outputs": [],
   "source": [
    "rd=RandomForestRegressor(n_estimators=40)"
   ]
  },
  {
   "cell_type": "code",
   "execution_count": 82,
   "id": "46734cbe",
   "metadata": {
    "colab": {
     "base_uri": "https://localhost:8080/",
     "height": 129
    },
    "id": "46734cbe",
    "outputId": "4d812586-6f87-4a75-cd07-f87a57c41641"
   },
   "outputs": [
    {
     "name": "stderr",
     "output_type": "stream",
     "text": [
      "C:\\Users\\DELL LYF\\AppData\\Local\\Temp\\ipykernel_880\\1577479518.py:1: DataConversionWarning: A column-vector y was passed when a 1d array was expected. Please change the shape of y to (n_samples,), for example using ravel().\n",
      "  rd.fit(x_train,y_train)\n"
     ]
    },
    {
     "data": {
      "text/html": [
       "<style>#sk-container-id-3 {color: black;background-color: white;}#sk-container-id-3 pre{padding: 0;}#sk-container-id-3 div.sk-toggleable {background-color: white;}#sk-container-id-3 label.sk-toggleable__label {cursor: pointer;display: block;width: 100%;margin-bottom: 0;padding: 0.3em;box-sizing: border-box;text-align: center;}#sk-container-id-3 label.sk-toggleable__label-arrow:before {content: \"▸\";float: left;margin-right: 0.25em;color: #696969;}#sk-container-id-3 label.sk-toggleable__label-arrow:hover:before {color: black;}#sk-container-id-3 div.sk-estimator:hover label.sk-toggleable__label-arrow:before {color: black;}#sk-container-id-3 div.sk-toggleable__content {max-height: 0;max-width: 0;overflow: hidden;text-align: left;background-color: #f0f8ff;}#sk-container-id-3 div.sk-toggleable__content pre {margin: 0.2em;color: black;border-radius: 0.25em;background-color: #f0f8ff;}#sk-container-id-3 input.sk-toggleable__control:checked~div.sk-toggleable__content {max-height: 200px;max-width: 100%;overflow: auto;}#sk-container-id-3 input.sk-toggleable__control:checked~label.sk-toggleable__label-arrow:before {content: \"▾\";}#sk-container-id-3 div.sk-estimator input.sk-toggleable__control:checked~label.sk-toggleable__label {background-color: #d4ebff;}#sk-container-id-3 div.sk-label input.sk-toggleable__control:checked~label.sk-toggleable__label {background-color: #d4ebff;}#sk-container-id-3 input.sk-hidden--visually {border: 0;clip: rect(1px 1px 1px 1px);clip: rect(1px, 1px, 1px, 1px);height: 1px;margin: -1px;overflow: hidden;padding: 0;position: absolute;width: 1px;}#sk-container-id-3 div.sk-estimator {font-family: monospace;background-color: #f0f8ff;border: 1px dotted black;border-radius: 0.25em;box-sizing: border-box;margin-bottom: 0.5em;}#sk-container-id-3 div.sk-estimator:hover {background-color: #d4ebff;}#sk-container-id-3 div.sk-parallel-item::after {content: \"\";width: 100%;border-bottom: 1px solid gray;flex-grow: 1;}#sk-container-id-3 div.sk-label:hover label.sk-toggleable__label {background-color: #d4ebff;}#sk-container-id-3 div.sk-serial::before {content: \"\";position: absolute;border-left: 1px solid gray;box-sizing: border-box;top: 0;bottom: 0;left: 50%;z-index: 0;}#sk-container-id-3 div.sk-serial {display: flex;flex-direction: column;align-items: center;background-color: white;padding-right: 0.2em;padding-left: 0.2em;position: relative;}#sk-container-id-3 div.sk-item {position: relative;z-index: 1;}#sk-container-id-3 div.sk-parallel {display: flex;align-items: stretch;justify-content: center;background-color: white;position: relative;}#sk-container-id-3 div.sk-item::before, #sk-container-id-3 div.sk-parallel-item::before {content: \"\";position: absolute;border-left: 1px solid gray;box-sizing: border-box;top: 0;bottom: 0;left: 50%;z-index: -1;}#sk-container-id-3 div.sk-parallel-item {display: flex;flex-direction: column;z-index: 1;position: relative;background-color: white;}#sk-container-id-3 div.sk-parallel-item:first-child::after {align-self: flex-end;width: 50%;}#sk-container-id-3 div.sk-parallel-item:last-child::after {align-self: flex-start;width: 50%;}#sk-container-id-3 div.sk-parallel-item:only-child::after {width: 0;}#sk-container-id-3 div.sk-dashed-wrapped {border: 1px dashed gray;margin: 0 0.4em 0.5em 0.4em;box-sizing: border-box;padding-bottom: 0.4em;background-color: white;}#sk-container-id-3 div.sk-label label {font-family: monospace;font-weight: bold;display: inline-block;line-height: 1.2em;}#sk-container-id-3 div.sk-label-container {text-align: center;}#sk-container-id-3 div.sk-container {/* jupyter's `normalize.less` sets `[hidden] { display: none; }` but bootstrap.min.css set `[hidden] { display: none !important; }` so we also need the `!important` here to be able to override the default hidden behavior on the sphinx rendered scikit-learn.org. See: https://github.com/scikit-learn/scikit-learn/issues/21755 */display: inline-block !important;position: relative;}#sk-container-id-3 div.sk-text-repr-fallback {display: none;}</style><div id=\"sk-container-id-3\" class=\"sk-top-container\"><div class=\"sk-text-repr-fallback\"><pre>RandomForestRegressor(n_estimators=40)</pre><b>In a Jupyter environment, please rerun this cell to show the HTML representation or trust the notebook. <br />On GitHub, the HTML representation is unable to render, please try loading this page with nbviewer.org.</b></div><div class=\"sk-container\" hidden><div class=\"sk-item\"><div class=\"sk-estimator sk-toggleable\"><input class=\"sk-toggleable__control sk-hidden--visually\" id=\"sk-estimator-id-3\" type=\"checkbox\" checked><label for=\"sk-estimator-id-3\" class=\"sk-toggleable__label sk-toggleable__label-arrow\">RandomForestRegressor</label><div class=\"sk-toggleable__content\"><pre>RandomForestRegressor(n_estimators=40)</pre></div></div></div></div></div>"
      ],
      "text/plain": [
       "RandomForestRegressor(n_estimators=40)"
      ]
     },
     "execution_count": 82,
     "metadata": {},
     "output_type": "execute_result"
    }
   ],
   "source": [
    "rd.fit(x_train,y_train)"
   ]
  },
  {
   "cell_type": "code",
   "execution_count": 83,
   "id": "dfae7e12",
   "metadata": {
    "colab": {
     "base_uri": "https://localhost:8080/"
    },
    "id": "dfae7e12",
    "outputId": "8a8d3f30-2c11-42a0-ed2b-eadd0c0678d6"
   },
   "outputs": [
    {
     "name": "stderr",
     "output_type": "stream",
     "text": [
      "C:\\Users\\DELL LYF\\anaconda3\\Lib\\site-packages\\sklearn\\base.py:432: UserWarning: X has feature names, but RandomForestRegressor was fitted without feature names\n",
      "  warnings.warn(\n"
     ]
    }
   ],
   "source": [
    "prd2=rd.predict(x_test)"
   ]
  },
  {
   "cell_type": "code",
   "execution_count": 84,
   "id": "990075d3",
   "metadata": {
    "colab": {
     "base_uri": "https://localhost:8080/"
    },
    "id": "990075d3",
    "outputId": "16b76c9a-26a0-4ba5-c45c-e21be38f1c8b"
   },
   "outputs": [
    {
     "data": {
      "text/plain": [
       "array([1835874.925,  172875.   ,  248975.   ,  155999.975,  544650.   ,\n",
       "        391049.4  ,  203074.925, 2414424.95 ,  331199.975,  628400.   ,\n",
       "        441800.   , 3344950.   ,  578250.   ,  965225.   ,  413300.   ,\n",
       "        263250.   , 1918175.   ,  837825.   ,  827800.   ,  154899.975,\n",
       "        708525.   ,  327350.   ,  787500.   , 2583999.95 ,  247050.   ,\n",
       "        252100.   ,  211075.   ,  385149.875,  451524.9  ,  364050.   ,\n",
       "        131575.   ,  480124.975,  181275.   ,  643574.825, 1718624.975,\n",
       "        373599.9  ,  609500.   ,  651750.   ,  210625.   ,  287799.95 ,\n",
       "        189450.   ,  165749.975,  863000.   ,  345974.95 ,  955775.   ,\n",
       "        139749.975,  239924.975, 2475499.925,  281800.   ,  271074.975,\n",
       "        473799.975,  883175.   ,  421374.925,  588874.975, 1180999.975,\n",
       "        356574.875,  110625.   , 1798149.95 ,  353775.   ,  193825.   ,\n",
       "        440175.   ,  451674.975, 4975000.   ,  559975.   ,  616275.   ,\n",
       "        323199.925,  508325.   , 1864249.975,  662650.   ,  151375.   ,\n",
       "        532649.975, 4165250.   ,  924500.   ,  805650.   , 1129124.975,\n",
       "        268349.95 ,  415300.   ,  127899.95 ,  765399.925,  277549.975,\n",
       "       2256950.   ,  588574.95 ,  933575.   ,  364725.   ,  774474.975,\n",
       "        248024.95 ,  500375.   ,  379824.95 ,  261550.   ,  277549.85 ,\n",
       "        278099.95 ,  174649.95 , 1194150.   ,  513600.   ,  267875.   ,\n",
       "        553875.   ,  141750.   ,  964300.   ,  953325.   , 2444624.875,\n",
       "        124700.   ,  151000.   ,  254299.925,  256625.   ,  546924.9  ,\n",
       "        221875.   ,  363599.9  ,  271024.95 ,  463775.   ,  365375.   ,\n",
       "        720524.9  ,  424324.925,  250450.   ,  605974.95 ,  760424.975,\n",
       "        408799.9  ,  444725.   , 1140499.975, 1594100.   ,  465949.85 ,\n",
       "       1049025.   , 1715125.   ,  110300.   ,  318075.   ,  308700.   ,\n",
       "       1959949.975,  358474.775,  279374.95 ,  844025.   ,  449050.   ,\n",
       "        898650.   ,  859649.975,  426974.975,  308749.95 ,  571999.8  ,\n",
       "        405399.975, 1127050.   ,  552075.   ,  721499.925,  889875.   ,\n",
       "       1424024.975, 2097175.   ,  921124.975, 1608275.   , 1082075.   ,\n",
       "        257099.875,  386774.975,  279525.   ,  319275.   ,  144825.   ,\n",
       "        490749.9  ,  545325.   ,  256674.9  ,  296099.825,  618999.75 ,\n",
       "        568225.   ,  425224.975,  597675.   ,  271174.725,  490600.   ,\n",
       "        200225.   ,  670474.95 ,  336799.95 ,  540149.975,  277224.975,\n",
       "       2606999.975,  281375.   ,  984250.   ,  630124.95 ,  168674.975,\n",
       "        169849.975,  602225.   ,  165750.   ,  484249.975,  278749.95 ,\n",
       "        277524.975,  300425.   ,  134949.975,  969750.   ,  149674.975,\n",
       "        191024.975, 1834824.975,  174625.   ,  743674.975,  560649.975,\n",
       "        415975.   ,  280299.975,  446525.   ,  738375.   ,  328599.975,\n",
       "        358774.975,  781674.95 , 6527250.   , 1946624.975,  386299.65 ,\n",
       "        560949.975,  935400.   ,  737624.575,  109200.   ,  762549.975,\n",
       "        991225.   , 2305375.   ,  801225.   ,  887050.   , 4522750.   ,\n",
       "       1246600.   ,  194250.   ,  157125.   ,  999200.   ,  429000.   ,\n",
       "        323074.975,  297425.   ,  140674.95 ,  147100.   ,  403625.   ,\n",
       "        662200.   ,  158874.975,  422499.975,  455300.   ,  262925.   ,\n",
       "       1351750.   ,  197649.975, 1892624.9  ,  819099.975,  847500.   ,\n",
       "       3660575.   ,  566874.975,  163574.95 ,  563999.975,  146625.   ,\n",
       "        363299.9  , 6243650.   ,  883325.   ,  450750.   ,  398250.   ,\n",
       "        907250.   ,  591075.   ,  566499.825, 1191575.   ,  323249.975,\n",
       "        539825.   ,  793250.   ,  763875.   ,  862125.   ,  117050.   ,\n",
       "        560275.   , 2889375.   ,  367774.7  , 1244425.   ,  160675.   ,\n",
       "        307049.975, 1057249.975, 2211124.975,  918774.975,  338249.925,\n",
       "        325900.   ,  559449.975,  238124.9  ,  357499.95 ,  161424.975,\n",
       "        391800.   ,  959850.   ,  691499.925,  276699.95 ,  407974.975,\n",
       "       2678775.   ,  856125.   ,  598024.825,  596950.   ,  912625.   ,\n",
       "        280399.875,  496150.   ,  105999.975, 1074625.   ,  742899.975,\n",
       "        772324.95 ,  415049.95 ])"
      ]
     },
     "execution_count": 84,
     "metadata": {},
     "output_type": "execute_result"
    }
   ],
   "source": [
    "prd2"
   ]
  },
  {
   "cell_type": "code",
   "execution_count": 85,
   "id": "9c65602b",
   "metadata": {
    "id": "9c65602b"
   },
   "outputs": [],
   "source": [
    "#finding the accuracy\n",
    "accuracy2=r2_score(y_test,prd2)"
   ]
  },
  {
   "cell_type": "code",
   "execution_count": 86,
   "id": "8a1afe2f",
   "metadata": {
    "colab": {
     "base_uri": "https://localhost:8080/"
    },
    "id": "8a1afe2f",
    "outputId": "8edbe7fc-d722-4768-c0ba-8e726d6e6e87"
   },
   "outputs": [
    {
     "data": {
      "text/plain": [
       "0.7464569770848715"
      ]
     },
     "execution_count": 86,
     "metadata": {},
     "output_type": "execute_result"
    }
   ],
   "source": [
    "accuracy2"
   ]
  },
  {
   "cell_type": "code",
   "execution_count": 87,
   "id": "20cf05cf",
   "metadata": {
    "id": "20cf05cf"
   },
   "outputs": [],
   "source": [
    "mean=mean_squared_error(y_test,prd2)"
   ]
  },
  {
   "cell_type": "code",
   "execution_count": 88,
   "id": "9896fc75",
   "metadata": {
    "colab": {
     "base_uri": "https://localhost:8080/"
    },
    "id": "9896fc75",
    "outputId": "d20ac938-0ec5-483a-c11b-f07e0157d62c"
   },
   "outputs": [
    {
     "data": {
      "text/plain": [
       "209262655111.9845"
      ]
     },
     "execution_count": 88,
     "metadata": {},
     "output_type": "execute_result"
    }
   ],
   "source": [
    "mean"
   ]
  },
  {
   "cell_type": "markdown",
   "id": "4f2cd9eb",
   "metadata": {
    "id": "4f2cd9eb"
   },
   "source": [
    "# Extra-trees regressor.\n",
    "\n",
    "This class implements a meta estimator that fits a number of randomized decision trees  on various sub-samples of the dataset and uses averaging to improve the predictive accuracy and control over-fitting."
   ]
  },
  {
   "cell_type": "code",
   "execution_count": 89,
   "id": "9b10c212",
   "metadata": {
    "id": "9b10c212"
   },
   "outputs": [],
   "source": [
    "from sklearn.ensemble import  ExtraTreesRegressor"
   ]
  },
  {
   "cell_type": "code",
   "execution_count": 90,
   "id": "86a430fc",
   "metadata": {
    "colab": {
     "base_uri": "https://localhost:8080/"
    },
    "id": "86a430fc",
    "outputId": "5256fcd1-a92f-46c4-b571-242c5b052171"
   },
   "outputs": [
    {
     "name": "stderr",
     "output_type": "stream",
     "text": [
      "C:\\Users\\DELL LYF\\AppData\\Local\\Temp\\ipykernel_880\\3615405687.py:2: DataConversionWarning: A column-vector y was passed when a 1d array was expected. Please change the shape of y to (n_samples,), for example using ravel().\n",
      "  et.fit(x_train,y_train)\n",
      "C:\\Users\\DELL LYF\\anaconda3\\Lib\\site-packages\\sklearn\\base.py:432: UserWarning: X has feature names, but ExtraTreesRegressor was fitted without feature names\n",
      "  warnings.warn(\n"
     ]
    }
   ],
   "source": [
    "et=ExtraTreesRegressor(n_estimators = 120)\n",
    "et.fit(x_train,y_train)\n",
    "prd3=et.predict(x_test)"
   ]
  },
  {
   "cell_type": "code",
   "execution_count": 91,
   "id": "3732da62",
   "metadata": {
    "colab": {
     "base_uri": "https://localhost:8080/"
    },
    "id": "3732da62",
    "outputId": "cb19f0fe-1cf2-47a3-f622-29a177834481"
   },
   "outputs": [
    {
     "data": {
      "text/plain": [
       "array([1618000.        ,  181000.        ,  239883.33333333,\n",
       "        143325.        ,  506249.975     ,  376107.65833333,\n",
       "        186908.33333333, 1507874.95      ,  345558.33333333,\n",
       "        689916.66666667,  379166.66666667, 3261966.66666667,\n",
       "        536024.95833333,  988316.65833333,  475058.33333333,\n",
       "        262908.33333333, 1706074.96666667,  818716.66666667,\n",
       "        864483.33333333,  189774.98333333,  734208.33333333,\n",
       "        316891.65833333,  953391.66666667, 2699424.99166667,\n",
       "        207425.        ,  262291.65833333,  194891.66666667,\n",
       "        356333.3       ,  430208.25833333,  371683.33333333,\n",
       "        138875.        ,  456624.98333333,  268033.33333333,\n",
       "        598716.425     , 3889316.66666667,  427466.65833333,\n",
       "        517608.33333333,  554150.        ,  212008.31666667,\n",
       "        289583.26666667,  198116.65833333,  154408.33333333,\n",
       "        963525.        ,  382899.98333333,  966141.66666667,\n",
       "        138158.33333333,  198349.98333333, 2777516.66666667,\n",
       "        883108.33333333,  286908.28333333,  393000.        ,\n",
       "        864916.66666667,  378299.93333333,  552974.96666667,\n",
       "       1202958.31666667,  380349.78333333,  113124.98333333,\n",
       "       1904441.65      ,  376724.99166667,  175258.325     ,\n",
       "        677241.66666667,  370099.95      , 3693750.        ,\n",
       "        547975.        ,  590708.33333333,  402083.30833333,\n",
       "        570249.99166667, 1005791.65833333,  831291.625     ,\n",
       "        165583.31666667,  543724.99166667, 1929850.        ,\n",
       "        964491.66666667,  850866.66666667,  962458.30833333,\n",
       "        283099.91666667,  320333.33333333,  121458.325     ,\n",
       "        795249.99166667,  311824.975     , 1605158.33333333,\n",
       "        549399.98333333, 1239741.66666667,  361349.99166667,\n",
       "        762541.66666667,  202874.99166667,  462166.625     ,\n",
       "        332224.99166667,  264708.33333333,  274158.20833333,\n",
       "        289024.91666667,  228424.98333333, 1394558.33333333,\n",
       "        516800.        ,  291258.31666667,  513124.99166667,\n",
       "        133433.33333333, 1142916.65833333,  817125.        ,\n",
       "       1767674.875     ,  141608.33333333,  253158.33333333,\n",
       "        269991.6       ,  313583.325     ,  568141.49166667,\n",
       "        223791.66666667,  412008.25      ,  286033.29166667,\n",
       "        420941.66666667,  373541.66666667,  666033.325     ,\n",
       "        347699.95833333,  324883.33333333,  611174.95833333,\n",
       "        871074.98333333,  442208.26666667,  508866.65      ,\n",
       "       1264033.33333333, 1421758.30833333,  467983.2       ,\n",
       "       1048841.66666667, 1962041.66666667,   98200.        ,\n",
       "        272633.25833333,  297941.63333333, 1745299.9       ,\n",
       "        357124.69166667,  285491.66666667,  918191.66666667,\n",
       "        452616.64166667,  870216.66666667, 1254175.        ,\n",
       "        421874.99166667,  361125.        ,  559325.        ,\n",
       "        407474.90833333, 1045991.66666667,  556324.98333333,\n",
       "        633166.65833333,  862958.33333333, 2595900.        ,\n",
       "       1499658.33333333, 1142249.95      , 1380375.        ,\n",
       "       1264474.99166667,  259749.875     ,  395675.        ,\n",
       "        240975.        ,  125016.66666667,  201900.        ,\n",
       "        439541.64166667,  481250.        ,  207308.28333333,\n",
       "        333266.54166667,  539208.00833333,  540324.93333333,\n",
       "        385550.        ,  365016.65833333,  252799.61666667,\n",
       "        317983.33333333,  214508.29166667,  678341.66666667,\n",
       "        316175.        ,  526591.58333333,  267474.975     ,\n",
       "       2997916.61666667,  353966.66666667,  988166.65833333,\n",
       "        656833.33333333,  168175.        ,  160475.        ,\n",
       "        574433.33333333,  173333.33333333,  479166.65      ,\n",
       "        290341.60833333,  246874.9       ,  259616.65833333,\n",
       "        131124.96666667, 1185500.        ,  151258.33333333,\n",
       "        178200.        , 1601616.53333333,  193600.        ,\n",
       "        850449.99166667,  563491.61666667,  463691.65833333,\n",
       "        310258.30833333,  437533.3       ,  711166.65      ,\n",
       "        380875.        ,  352149.99166667,  839925.        ,\n",
       "       4997441.66666667, 1726666.66666667,  345233.11666667,\n",
       "        476041.65      ,  939175.        ,  607099.95833333,\n",
       "        145383.33333333,  793033.325     , 1121824.99166667,\n",
       "       2754716.66666667,  659241.60833333,  831108.33333333,\n",
       "       5065458.33333333, 2125000.        ,  170516.65833333,\n",
       "        167508.325     , 1042158.33333333,  414324.98333333,\n",
       "        328925.        ,  274833.325     ,  191524.94166667,\n",
       "        149866.65      ,  418024.94166667,  767025.        ,\n",
       "        165808.33333333,  435891.65      ,  411316.65833333,\n",
       "        277716.65      , 1705033.33333333,  191733.28333333,\n",
       "       1781733.28333333,  825033.33333333,  896666.61666667,\n",
       "       3329333.28333333,  549208.33333333,  167150.        ,\n",
       "        559358.25833333,  154241.66666667,  328891.53333333,\n",
       "       5389441.66666667,  758641.66666667,  414625.        ,\n",
       "        446891.66666667,  868216.66666667,  689849.99166667,\n",
       "        530016.64166667, 1030866.66666667,  414266.65      ,\n",
       "        528283.275     ,  917116.65      ,  855150.        ,\n",
       "        728966.66666667,  127400.        , 1084966.66666667,\n",
       "       3232916.66666667,  397382.725     , 1990750.        ,\n",
       "        193283.29166667,  249124.875     , 1398624.89166667,\n",
       "       1891708.31666667, 1028833.33333333,  323141.61666667,\n",
       "        114258.33333333,  514691.575     ,  241724.9       ,\n",
       "        337549.98333333,  186933.31666667,  393208.31666667,\n",
       "       1141083.325     ,  851541.53333333,  309083.33333333,\n",
       "        398849.98333333, 2629199.96666667,  854833.33333333,\n",
       "        584349.88333333,  691325.        , 1019541.66666667,\n",
       "        293983.31666667,  462841.65833333,   91575.        ,\n",
       "       1478333.33333333,  562983.21666667,  889466.65      ,\n",
       "        401624.975     ])"
      ]
     },
     "execution_count": 91,
     "metadata": {},
     "output_type": "execute_result"
    }
   ],
   "source": [
    "prd3\n"
   ]
  },
  {
   "cell_type": "code",
   "execution_count": 92,
   "id": "f271aab7",
   "metadata": {
    "id": "f271aab7"
   },
   "outputs": [],
   "source": [
    "#finding the accuracy\n",
    "accuracy3=r2_score(y_test,prd3)"
   ]
  },
  {
   "cell_type": "code",
   "execution_count": 93,
   "id": "8c655255",
   "metadata": {
    "colab": {
     "base_uri": "https://localhost:8080/"
    },
    "id": "8c655255",
    "outputId": "997bffc2-0609-49de-fc58-cba3d00735cc"
   },
   "outputs": [
    {
     "data": {
      "text/plain": [
       "0.837321696932815"
      ]
     },
     "execution_count": 93,
     "metadata": {},
     "output_type": "execute_result"
    }
   ],
   "source": [
    "accuracy3"
   ]
  },
  {
   "cell_type": "markdown",
   "id": "b3e3d5ff",
   "metadata": {
    "id": "b3e3d5ff"
   },
   "source": [
    "# XGBRegressor\n",
    "The XGBRegressor in Python is the regression-specific implementation of XGBoost and is used for regression problems where the intent is to predict continuous numerical values. objective is a required parameter representing the objective function to use for regression."
   ]
  },
  {
   "cell_type": "code",
   "execution_count": 94,
   "id": "08f46cfd",
   "metadata": {
    "id": "08f46cfd"
   },
   "outputs": [],
   "source": [
    "from xgboost import XGBRegressor"
   ]
  },
  {
   "cell_type": "code",
   "execution_count": 95,
   "id": "60560d82",
   "metadata": {
    "id": "60560d82"
   },
   "outputs": [],
   "source": [
    "xgb=XGBRegressor(n_estimators = 120)\n",
    "xgb.fit(x_train,y_train)\n",
    "prd4=xgb.predict(x_test)"
   ]
  },
  {
   "cell_type": "code",
   "execution_count": 96,
   "id": "47df5a68",
   "metadata": {
    "colab": {
     "base_uri": "https://localhost:8080/"
    },
    "id": "47df5a68",
    "outputId": "b4a8f12a-2cf5-4473-fa52-bed6d90f5a22"
   },
   "outputs": [
    {
     "data": {
      "text/plain": [
       "array([1993172.9  ,  220853.48 ,  209163.92 ,  115335.98 ,  476409.3  ,\n",
       "        430438.84 ,  210331.02 , 1421986.1  ,  291716.94 ,  587050.9  ,\n",
       "        702729.6  , 4285466.5  ,  493905.5  , 1091032.8  ,  468641.62 ,\n",
       "        218310.08 , 1162632.2  ,  829885.5  ,  784007.6  ,  117733.36 ,\n",
       "        576893.8  ,  351236.38 ,  622208.7  , 2544455.   ,  220250.83 ,\n",
       "        226107.19 ,  206885.14 ,  367845.03 ,  400904.28 ,  249087.8  ,\n",
       "        130957.07 ,  426481.06 ,  210486.66 ,  677371.   , 2447198.   ,\n",
       "        403609.9  ,  536863.75 ,  670865.4  ,  477434.62 ,  210916.84 ,\n",
       "        219832.36 ,  187315.47 ,  846008.8  ,  225641.05 ,  916225.8  ,\n",
       "        149539.27 ,  226634.4  , 2417544.8  ,  605953.25 ,  217099.03 ,\n",
       "        446601.3  , 1047803.94 ,  383270.88 ,  610771.5  , 1120730.   ,\n",
       "        466600.34 ,   97898.48 , 2563223.2  ,  340289.9  ,  170790.6  ,\n",
       "        795653.75 ,  444010.28 , 2733026.8  ,  613313.25 ,  626048.3  ,\n",
       "        394866.66 ,  560823.75 , 2019359.4  ,  513746.9  ,  156802.75 ,\n",
       "        536273.56 , 1106135.2  ,  955887.6  ,  923887.94 , 1057596.5  ,\n",
       "        123531.94 ,  338606.7  ,   87290.67 ,  569590.1  ,  266188.66 ,\n",
       "       1877418.6  ,  616612.56 , 1025561.4  ,  296922.78 ,  809106.6  ,\n",
       "        185441.34 ,  424749.3  ,  312200.6  ,  271081.34 ,  309735.22 ,\n",
       "        252874.64 ,  202122.78 ,  812771.   ,  451037.34 ,  307899.4  ,\n",
       "        621996.44 ,  142892.25 ,  944424.56 , 1014424.5  , 2142970.   ,\n",
       "        134207.83 ,  251301.66 ,  233554.34 ,  281003.2  ,  625498.06 ,\n",
       "        291537.3  ,  354404.56 ,  269992.28 ,  475174.1  ,  331882.75 ,\n",
       "        722053.44 ,  382792.22 ,  278006.56 ,  664440.06 ,  704899.25 ,\n",
       "        410859.84 ,  419736.56 , 1355295.8  , 1622333.   ,  344252.   ,\n",
       "       1169874.2  , 1380511.1  ,   72255.79 ,  262136.72 ,  294284.4  ,\n",
       "       1141667.6  ,  391704.8  ,  277278.7  ,  825740.9  ,  326937.28 ,\n",
       "        720985.4  ,  718289.2  ,  386030.53 ,  326287.44 ,  572585.4  ,\n",
       "        344528.06 , 1175345.4  ,  554587.56 ,  807955.4  ,  913887.44 ,\n",
       "       1293821.5  , 1897111.   , 1095072.6  , 1471343.2  , 1110518.   ,\n",
       "        214865.17 ,  344016.78 ,  212831.77 ,   89307.12 ,  176845.95 ,\n",
       "        456744.2  ,  611038.5  ,  156023.06 ,  343645.22 ,  653959.3  ,\n",
       "        573539.5  ,  450980.84 ,  737421.94 ,  294907.03 ,  424909.97 ,\n",
       "        217650.05 ,  677228.1  ,  364469.56 ,  434617.2  ,  226898.22 ,\n",
       "       2549184.2  ,  295910.53 ,  945363.9  ,  728871.2  ,  199728.73 ,\n",
       "        198646.45 ,  477798.12 ,  138776.33 ,  410562.28 ,  270699.7  ,\n",
       "        255816.62 ,  325601.25 ,   79080.22 ,  963271.6  ,  231498.97 ,\n",
       "        145238.83 , 1363470.9  ,  210839.34 ,  673055.06 ,  636819.06 ,\n",
       "        455613.38 ,  245486.25 ,  564381.94 ,  722220.25 ,  422408.72 ,\n",
       "        364484.03 ,  708572.1  , 5933846.5  , 1789978.6  ,  352462.97 ,\n",
       "        432083.12 ,  934748.1  ,  686024.4  ,  100944.56 ,  817550.8  ,\n",
       "       1179662.   , 2606393.2  ,  865753.6  ,  846497.25 , 4395081.   ,\n",
       "       1230828.4  ,  186937.86 ,  100552.945,  923801.1  ,  389607.94 ,\n",
       "        291879.84 ,  221145.55 ,  138424.16 ,  179971.05 ,  389467.38 ,\n",
       "        609996.   ,  250478.4  ,  446758.16 ,  461803.2  ,  246220.06 ,\n",
       "       1449161.4  ,  152852.6  , 2420062.5  ,  786463.8  ,  906426.3  ,\n",
       "       3089631.5  ,  587315.25 ,  139864.02 ,  562028.56 ,  153155.08 ,\n",
       "        348167.75 , 6475065.5  ,  871735.6  ,  425724.97 ,  327827.62 ,\n",
       "       1031451.3  ,  590895.25 ,  556802.5  , 1272130.   ,  304411.9  ,\n",
       "        461572.12 ,  732403.8  ,  797834.2  , 1020340.1  ,  131771.95 ,\n",
       "        554675.1  , 3100046.5  ,  449362.53 , 1394440.6  ,  180454.67 ,\n",
       "        270238.16 , 1006738.3  , 2247775.2  ,  939609.44 ,  225435.47 ,\n",
       "        107507.16 ,  681149.4  ,  259386.1  ,  290452.6  ,   74932.82 ,\n",
       "        434021.12 , 1041594.4  ,  743411.94 ,  150190.03 ,  354373.1  ,\n",
       "       2562357.2  ,  761731.75 ,  575057.56 ,  492550.84 ,  988805.56 ,\n",
       "        329146.72 ,  466396.12 ,  102449.266, 1057481.9  ,  636156.1  ,\n",
       "        801790.7  ,  366789.94 ], dtype=float32)"
      ]
     },
     "execution_count": 96,
     "metadata": {},
     "output_type": "execute_result"
    }
   ],
   "source": [
    "prd4"
   ]
  },
  {
   "cell_type": "code",
   "execution_count": 97,
   "id": "d351834c",
   "metadata": {
    "id": "d351834c"
   },
   "outputs": [],
   "source": [
    "#finding the accuracy\n",
    "accuracy4=r2_score(y_test,prd4)"
   ]
  },
  {
   "cell_type": "code",
   "execution_count": 98,
   "id": "5ea4ad81",
   "metadata": {
    "colab": {
     "base_uri": "https://localhost:8080/"
    },
    "id": "5ea4ad81",
    "outputId": "0f0d98b2-b6d6-46c4-e0bf-584bd8734845"
   },
   "outputs": [
    {
     "data": {
      "text/plain": [
       "0.8507412622553809"
      ]
     },
     "execution_count": 98,
     "metadata": {},
     "output_type": "execute_result"
    }
   ],
   "source": [
    "accuracy4"
   ]
  },
  {
   "cell_type": "code",
   "execution_count": 99,
   "id": "e49fbf78",
   "metadata": {
    "id": "e49fbf78"
   },
   "outputs": [],
   "source": [
    "results = pd.DataFrame({\n",
    "    'Model': [ 'Linear Regression',\n",
    "              'Random Forest Regressor',\n",
    "              'ExtraTree Regressor',\n",
    "              'Decision Tree Regressor',\n",
    "              'XGBRegressor'\n",
    "              ],\n",
    "    'Score': [accuracy,\n",
    "             accuracy1,\n",
    "             accuracy2,\n",
    "             accuracy3,\n",
    "             accuracy4]\n",
    "           })"
   ]
  },
  {
   "cell_type": "code",
   "execution_count": 100,
   "id": "87873afa",
   "metadata": {
    "colab": {
     "base_uri": "https://localhost:8080/",
     "height": 206
    },
    "id": "87873afa",
    "outputId": "79ef78cb-0507-4f02-f6ea-85993c0ae64b"
   },
   "outputs": [
    {
     "data": {
      "text/html": [
       "<div>\n",
       "<style scoped>\n",
       "    .dataframe tbody tr th:only-of-type {\n",
       "        vertical-align: middle;\n",
       "    }\n",
       "\n",
       "    .dataframe tbody tr th {\n",
       "        vertical-align: top;\n",
       "    }\n",
       "\n",
       "    .dataframe thead th {\n",
       "        text-align: right;\n",
       "    }\n",
       "</style>\n",
       "<table border=\"1\" class=\"dataframe\">\n",
       "  <thead>\n",
       "    <tr style=\"text-align: right;\">\n",
       "      <th></th>\n",
       "      <th>Model</th>\n",
       "      <th>Score</th>\n",
       "    </tr>\n",
       "  </thead>\n",
       "  <tbody>\n",
       "    <tr>\n",
       "      <th>0</th>\n",
       "      <td>Linear Regression</td>\n",
       "      <td>0.642764</td>\n",
       "    </tr>\n",
       "    <tr>\n",
       "      <th>1</th>\n",
       "      <td>Random Forest Regressor</td>\n",
       "      <td>0.486717</td>\n",
       "    </tr>\n",
       "    <tr>\n",
       "      <th>2</th>\n",
       "      <td>ExtraTree Regressor</td>\n",
       "      <td>0.746457</td>\n",
       "    </tr>\n",
       "    <tr>\n",
       "      <th>3</th>\n",
       "      <td>Decision Tree Regressor</td>\n",
       "      <td>0.837322</td>\n",
       "    </tr>\n",
       "    <tr>\n",
       "      <th>4</th>\n",
       "      <td>XGBRegressor</td>\n",
       "      <td>0.850741</td>\n",
       "    </tr>\n",
       "  </tbody>\n",
       "</table>\n",
       "</div>"
      ],
      "text/plain": [
       "                     Model     Score\n",
       "0        Linear Regression  0.642764\n",
       "1  Random Forest Regressor  0.486717\n",
       "2      ExtraTree Regressor  0.746457\n",
       "3  Decision Tree Regressor  0.837322\n",
       "4             XGBRegressor  0.850741"
      ]
     },
     "execution_count": 100,
     "metadata": {},
     "output_type": "execute_result"
    }
   ],
   "source": [
    "results"
   ]
  },
  {
   "cell_type": "code",
   "execution_count": 101,
   "id": "7cc64da4",
   "metadata": {
    "id": "7cc64da4"
   },
   "outputs": [],
   "source": [
    "import numpy as np"
   ]
  },
  {
   "cell_type": "code",
   "execution_count": 102,
   "id": "IarijQ4oAHTj",
   "metadata": {
    "colab": {
     "base_uri": "https://localhost:8080/"
    },
    "id": "IarijQ4oAHTj",
    "outputId": "913140ba-9257-4451-d064-ee220a20c2d7"
   },
   "outputs": [
    {
     "name": "stdout",
     "output_type": "stream",
     "text": [
      "[108248.15]\n"
     ]
    }
   ],
   "source": [
    "new_data = np.array([2007,120000,0,1,0,0,16.10,1298.0,88.20,5.0 ])\n",
    "std = StandardScaler()\n",
    "std.fit(x_train)\n",
    "\n",
    "data_reshape = new_data.reshape(1, -1)\n",
    "std_input = std.transform(data_reshape)\n",
    "\n",
    "regression_model = XGBRegressor()\n",
    "regression_model.fit(x_train, y_train)\n",
    "\n",
    "predicted_price = regression_model.predict(std_input)\n",
    "\n",
    "print(predicted_price)"
   ]
  },
  {
   "cell_type": "code",
   "execution_count": 103,
   "id": "b86a935c",
   "metadata": {
    "colab": {
     "base_uri": "https://localhost:8080/",
     "height": 872
    },
    "id": "b86a935c",
    "outputId": "0a37889e-5686-426a-a0e5-5da29a136835"
   },
   "outputs": [
    {
     "data": {
      "image/png": "[encoded data removed]",
      "text/plain": [
       "<Figure size 1600x1000 with 1 Axes>"
      ]
     },
     "metadata": {},
     "output_type": "display_data"
    }
   ],
   "source": [
    "plt.figure(figsize=(16,10))\n",
    "sns.barplot(x='Model' ,y='Score',data=results)\n",
    "plt.title('Model Accuracy')\n",
    "plt.show()"
   ]
  },
  {
   "cell_type": "markdown",
   "id": "3012a4fa",
   "metadata": {
    "id": "3012a4fa"
   },
   "source": [
    "# Observation\n",
    "\n",
    "Here we can see that our XGBRegressor model only have the High Accuracy score\n"
   ]
  },
  {
   "cell_type": "markdown",
   "id": "c6f6e044",
   "metadata": {
    "id": "c6f6e044"
   },
   "source": [
    "# Conclusion\n",
    "The increased prices of new cars and the financial incapability of the customers to buy them, Used Car sales are on a global increase. Therefore, there is  need for a Used Car Price Prediction system which effectively determines the worthiness of the car using a variety of features.Here we Successfully create a Machine learning Based Car price Prediction System.\n"
   ]
  },
  {
   "cell_type": "code",
   "execution_count": null,
   "id": "14569ca5",
   "metadata": {
    "id": "14569ca5"
   },
   "outputs": [],
   "source": []
  }
 ],
 "metadata": {
  "colab": {
   "provenance": []
  },
  "kernelspec": {
   "display_name": "Python 3 (ipykernel)",
   "language": "python",
   "name": "python3"
  },
  "language_info": {
   "codemirror_mode": {
    "name": "ipython",
    "version": 3
   },
   "file_extension": ".py",
   "mimetype": "text/x-python",
   "name": "python",
   "nbconvert_exporter": "python",
   "pygments_lexer": "ipython3",
   "version": "3.11.4"
  }
 },
 "nbformat": 4,
 "nbformat_minor": 5
}
